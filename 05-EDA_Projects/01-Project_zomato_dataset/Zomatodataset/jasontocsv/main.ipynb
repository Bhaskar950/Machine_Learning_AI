{
 "cells": [
  {
   "cell_type": "code",
   "execution_count": 12,
   "id": "4726a1a3-69df-432c-bacd-c584ff1fd56c",
   "metadata": {},
   "outputs": [
    {
     "name": "stdout",
     "output_type": "stream",
     "text": [
      "     results_found                                        restaurants  \\\n",
      "0              0.0                                                 []   \n",
      "1           6835.0  [{'restaurant': {'has_online_delivery': 0, 'ph...   \n",
      "2              0.0                                                 []   \n",
      "3              0.0                                                 []   \n",
      "4           8680.0  [{'restaurant': {'has_online_delivery': 0, 'ph...   \n",
      "..             ...                                                ...   \n",
      "295            NaN                                                NaN   \n",
      "296            NaN                                                NaN   \n",
      "297            NaN                                                NaN   \n",
      "298            NaN                                                NaN   \n",
      "299            NaN                                                NaN   \n",
      "\n",
      "     results_shown  results_start             message   code status  \n",
      "0              0.0            1.0                 NaN    NaN    NaN  \n",
      "1             20.0            1.0                 NaN    NaN    NaN  \n",
      "2              0.0            1.0                 NaN    NaN    NaN  \n",
      "3              0.0            1.0                 NaN    NaN    NaN  \n",
      "4             20.0            1.0                 NaN    NaN    NaN  \n",
      "..             ...            ...                 ...    ...    ...  \n",
      "295            NaN            NaN  API limit exceeded  440.0         \n",
      "296            NaN            NaN  API limit exceeded  440.0         \n",
      "297            NaN            NaN  API limit exceeded  440.0         \n",
      "298            NaN            NaN  API limit exceeded  440.0         \n",
      "299            NaN            NaN  API limit exceeded  440.0         \n",
      "\n",
      "[300 rows x 7 columns]\n"
     ]
    }
   ],
   "source": [
    "import pandas as pd\n",
    "\n",
    "obj = pd.read_json('file5.json',orient = 'values')\n",
    "\n",
    "# print(obj)\n",
    "\n",
    "obj.to_csv(\"res_val.csv\")\n",
    "\n",
    "print(obj)"
   ]
  },
  {
   "cell_type": "code",
   "execution_count": null,
   "id": "6403d1f4-86c5-4878-a84f-9c818a50506e",
   "metadata": {},
   "outputs": [],
   "source": []
  }
 ],
 "metadata": {
  "kernelspec": {
   "display_name": "Python 3 (ipykernel)",
   "language": "python",
   "name": "python3"
  },
  "language_info": {
   "codemirror_mode": {
    "name": "ipython",
    "version": 3
   },
   "file_extension": ".py",
   "mimetype": "text/x-python",
   "name": "python",
   "nbconvert_exporter": "python",
   "pygments_lexer": "ipython3",
   "version": "3.12.4"
  }
 },
 "nbformat": 4,
 "nbformat_minor": 5
}
