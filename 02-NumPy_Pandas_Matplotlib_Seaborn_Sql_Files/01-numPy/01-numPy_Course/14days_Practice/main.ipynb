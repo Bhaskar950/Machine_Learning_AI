{
 "cells": [
  {
   "cell_type": "code",
   "execution_count": 6,
   "id": "53c2e9d4-016f-469e-aa35-57c49df2e774",
   "metadata": {},
   "outputs": [
    {
     "name": "stdout",
     "output_type": "stream",
     "text": [
      "[1, 2, 3]\n",
      "[1, 2, 3, 1, 2, 3]\n"
     ]
    }
   ],
   "source": [
    "# list, np.array\n",
    "\n",
    "\n",
    "li = [1,2,3]\n",
    "print(li)\n",
    "li2 = li + li\n",
    "print(li2)"
   ]
  },
  {
   "cell_type": "code",
   "execution_count": 19,
   "id": "23611842-d6b0-4667-8b4f-6da4e0f6aae8",
   "metadata": {},
   "outputs": [
    {
     "name": "stdout",
     "output_type": "stream",
     "text": [
      "[1 2 3]\n",
      "[3 4 5]\n",
      "arr3 [2 4 6]\n"
     ]
    }
   ],
   "source": [
    "import numpy as np\n",
    "\n",
    "arr = np.array([1,2,3])\n",
    "print(arr)\n",
    "\n",
    "arr2 = arr + 2\n",
    "print(arr2)\n",
    "arr3 = arr + arr\n",
    "print(f'arr3 {arr3}')"
   ]
  },
  {
   "cell_type": "code",
   "execution_count": null,
   "id": "f6197269-029b-40fc-85db-4925cfc6945e",
   "metadata": {},
   "outputs": [],
   "source": [
    "for i in li:\n",
    "    li.append(i+3)\n",
    "    print(i)\n",
    "    break"
   ]
  },
  {
   "cell_type": "code",
   "execution_count": null,
   "id": "a74e6141-3bfd-4a18-937e-0c66fee62e10",
   "metadata": {},
   "outputs": [],
   "source": []
  },
  {
   "cell_type": "code",
   "execution_count": 6,
   "id": "bbdd9cb7-93fe-4ebb-a1b3-1497b6c9c48d",
   "metadata": {},
   "outputs": [],
   "source": [
    "# dot product\n",
    "import numpy as np\n",
    "\n",
    "a = np.array([1,2])\n",
    "b = np.array([3,4])"
   ]
  },
  {
   "cell_type": "code",
   "execution_count": 8,
   "id": "ecffb6b9-9f35-4ec9-af62-b0d02076a159",
   "metadata": {},
   "outputs": [
    {
     "name": "stdout",
     "output_type": "stream",
     "text": [
      "11\n"
     ]
    }
   ],
   "source": [
    "\n",
    "dot = 0\n",
    "for e ,f in zip(a,b):\n",
    "    dot += e * f\n",
    "print(dot)"
   ]
  },
  {
   "cell_type": "code",
   "execution_count": 12,
   "id": "f3c13e67-db52-49fc-b94e-24c294a8f661",
   "metadata": {},
   "outputs": [
    {
     "data": {
      "text/plain": [
       "11"
      ]
     },
     "execution_count": 12,
     "metadata": {},
     "output_type": "execute_result"
    }
   ],
   "source": [
    "np.dot(a,b)"
   ]
  },
  {
   "cell_type": "code",
   "execution_count": 14,
   "id": "e79dc7d1-fa19-4759-bca7-b0162c74fbf9",
   "metadata": {},
   "outputs": [
    {
     "data": {
      "text/plain": [
       "11"
      ]
     },
     "execution_count": 14,
     "metadata": {},
     "output_type": "execute_result"
    }
   ],
   "source": [
    "a.dot(b)"
   ]
  },
  {
   "cell_type": "code",
   "execution_count": null,
   "id": "59b9cd8d-a1b3-41bb-9ad2-64b3c04b56a8",
   "metadata": {},
   "outputs": [],
   "source": []
  }
 ],
 "metadata": {
  "kernelspec": {
   "display_name": "Python 3 (ipykernel)",
   "language": "python",
   "name": "python3"
  },
  "language_info": {
   "codemirror_mode": {
    "name": "ipython",
    "version": 3
   },
   "file_extension": ".py",
   "mimetype": "text/x-python",
   "name": "python",
   "nbconvert_exporter": "python",
   "pygments_lexer": "ipython3",
   "version": "3.12.4"
  }
 },
 "nbformat": 4,
 "nbformat_minor": 5
}
