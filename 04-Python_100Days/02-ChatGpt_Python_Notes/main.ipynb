{
 "cells": [
  {
   "cell_type": "code",
   "execution_count": 1,
   "id": "b3fc1b23-c07f-4af4-b255-77d5b340dd53",
   "metadata": {},
   "outputs": [
    {
     "name": "stdout",
     "output_type": "stream",
     "text": [
      "0\n",
      "1\n",
      "2\n",
      "3\n",
      "4\n",
      "5\n",
      "6\n",
      "7\n",
      "8\n",
      "9\n"
     ]
    }
   ],
   "source": [
    "for i in range(10):\n",
    "    print(i)"
   ]
  },
  {
   "cell_type": "code",
   "execution_count": 4,
   "id": "8082da28",
   "metadata": {},
   "outputs": [
    {
     "name": "stdout",
     "output_type": "stream",
     "text": [
      "apple\n",
      "banana\n",
      "grape\n",
      "['apple', 'banana', 'grape']\n"
     ]
    }
   ],
   "source": [
    "fruits = [\"apple\",\"banana\",\"grape\"]\n",
    "for fruit in fruits:\n",
    "    print(fruit)\n",
    "print(fruits)"
   ]
  },
  {
   "cell_type": "code",
   "execution_count": 7,
   "id": "895f9ab8-d0e8-48ea-b2c8-5db1c181c50a",
   "metadata": {},
   "outputs": [
    {
     "name": "stdout",
     "output_type": "stream",
     "text": [
      "1\n",
      "2\n",
      "3\n",
      "4\n",
      "5\n"
     ]
    }
   ],
   "source": [
    "# sample while loop\n",
    "i = 1\n",
    "\n",
    "while i <= 5:\n",
    "    print(i)\n",
    "    i += 1"
   ]
  },
  {
   "cell_type": "code",
   "execution_count": 10,
   "id": "69e7028d-46a2-49eb-91f3-aaa7c8882d00",
   "metadata": {},
   "outputs": [
    {
     "name": "stdout",
     "output_type": "stream",
     "text": [
      "0\n",
      "1\n",
      "2\n",
      "3\n",
      "4\n"
     ]
    }
   ],
   "source": [
    "# while loop with break\n",
    "\n",
    "i = 0\n",
    "while True:\n",
    "    print(i)\n",
    "    i += 1\n",
    "    if i == 5:\n",
    "        break"
   ]
  },
  {
   "cell_type": "code",
   "execution_count": 6,
   "id": "54691990-4ded-4d0a-a253-99f69383735f",
   "metadata": {},
   "outputs": [
    {
     "name": "stdout",
     "output_type": "stream",
     "text": [
      "Hello bhaskar\n"
     ]
    }
   ],
   "source": [
    "# sample function\n",
    "def greet(name):\n",
    "    print(f\"Hello {name}\")\n",
    "greet(\"bhaskar\")"
   ]
  },
  {
   "cell_type": "code",
   "execution_count": 4,
   "id": "d3700bc1-16f4-43d5-8e54-cb43b58a7f49",
   "metadata": {},
   "outputs": [
    {
     "name": "stdout",
     "output_type": "stream",
     "text": [
      "hello koilada\n"
     ]
    }
   ],
   "source": [
    "def greet():\n",
    "    print(\"hello koilada\")\n",
    "greet()"
   ]
  },
  {
   "cell_type": "code",
   "execution_count": 9,
   "id": "ec72cf77-c84f-4145-b8ca-7dcdd2d7c824",
   "metadata": {},
   "outputs": [
    {
     "name": "stdout",
     "output_type": "stream",
     "text": [
      "i: 0, j:0\n",
      "0\n",
      "i: 0, j:1\n",
      "0\n",
      "i: 0, j:2\n",
      "0\n",
      "i: 1, j:0\n",
      "0\n",
      "i: 1, j:1\n",
      "1\n",
      "i: 1, j:2\n",
      "2\n",
      "i: 2, j:0\n",
      "0\n",
      "i: 2, j:1\n",
      "2\n",
      "i: 2, j:2\n",
      "4\n"
     ]
    }
   ],
   "source": [
    "# nested loop\n",
    "\n",
    "for i in range(3):\n",
    "    for j in range(3):\n",
    "        print(f\"i: {i}, j:{j}\")\n",
    "        print(i*j)"
   ]
  },
  {
   "cell_type": "code",
   "execution_count": 16,
   "id": "bbf33a3d-172c-48b9-99b4-ad0de8d3510f",
   "metadata": {},
   "outputs": [
    {
     "name": "stdout",
     "output_type": "stream",
     "text": [
      "bhaskar: 99\n",
      "dam: 200\n",
      "divyank: 678\n"
     ]
    }
   ],
   "source": [
    "# looping over dictionary\n",
    "\n",
    "student_scores = {\"bhaskar\":99,\"dam\":200,\"divyank\":678}\n",
    "for student,scores in student_scores.items():\n",
    "    print(f\"{student}: {scores}\")\n",
    "    \n",
    "\n",
    "\n"
   ]
  },
  {
   "cell_type": "code",
   "execution_count": 21,
   "id": "5d8f29d6-e0f4-4bea-95a9-68a0b5641589",
   "metadata": {},
   "outputs": [
    {
     "name": "stdout",
     "output_type": "stream",
     "text": [
      "1\n",
      "3\n",
      "5\n",
      "7\n",
      "9\n"
     ]
    }
   ],
   "source": [
    "# while loop with continue\n",
    "i = 0\n",
    "\n",
    "while i < 10:\n",
    "    i += 1\n",
    "    if i % 2 == 0:\n",
    "        continue\n",
    "    print(i)\n",
    "\n",
    "\n",
    "\n"
   ]
  },
  {
   "cell_type": "code",
   "execution_count": 22,
   "id": "c18fa7a8-d28a-483d-a6f2-20c951783c20",
   "metadata": {},
   "outputs": [
    {
     "name": "stdout",
     "output_type": "stream",
     "text": [
      "0\n",
      "1\n",
      "2\n",
      "3\n",
      "4\n",
      "loop ended\n"
     ]
    }
   ],
   "source": [
    "# while loop with else\n",
    "i = 0\n",
    "\n",
    "while i < 5:\n",
    "    print(i)\n",
    "    i += 1\n",
    "else:\n",
    "    print(\"loop ended\")\n",
    "    \n",
    "\n",
    "\n",
    "    "
   ]
  },
  {
   "cell_type": "code",
   "execution_count": 32,
   "id": "fb2a9d82-fb8b-42b7-ba8e-6ac1466bbdef",
   "metadata": {},
   "outputs": [
    {
     "name": "stdout",
     "output_type": "stream",
     "text": [
      "89991\n"
     ]
    }
   ],
   "source": [
    "# functions with multiple arguments\n",
    "\n",
    "def add(a,b):\n",
    "    return a * b\n",
    "\n",
    "print(add(99,909))"
   ]
  },
  {
   "cell_type": "code",
   "execution_count": 35,
   "id": "c202cf08-278d-4fb3-a2ae-66307e35107e",
   "metadata": {},
   "outputs": [
    {
     "name": "stdout",
     "output_type": "stream",
     "text": [
      "sum: 12,difference : 8,product:20,quotient:5.0\n"
     ]
    }
   ],
   "source": [
    "def calculate(a,b):\n",
    "    return a + b, a-b, a*b, a/b\n",
    "sum,difference,product,quotient = calculate(10,2)\n",
    "\n",
    "print(f\"sum: {sum},difference : {difference},product:{product},quotient:{quotient}\")"
   ]
  },
  {
   "cell_type": "code",
   "execution_count": 36,
   "id": "e76f8d72-26ae-44ba-af2e-9563bd93a661",
   "metadata": {},
   "outputs": [
    {
     "name": "stdout",
     "output_type": "stream",
     "text": [
      "[0, 1, 4, 9, 16, 25, 36, 49, 64, 81]\n"
     ]
    }
   ],
   "source": [
    "# advance for loop list comprehensions\n",
    "squares = [x**2 for x in range(10)]\n",
    "print(squares)"
   ]
  },
  {
   "cell_type": "code",
   "execution_count": 37,
   "id": "63abab8a-c763-4166-bce1-84fabbf30658",
   "metadata": {},
   "outputs": [
    {
     "name": "stdout",
     "output_type": "stream",
     "text": [
      "0:apple\n",
      "1:banana\n",
      "2:grapes\n"
     ]
    }
   ],
   "source": [
    "# loop with enumerate\n",
    "fruits = [\"apple\",\"banana\",\"grapes\"]\n",
    "for index,fruit in enumerate(fruits):\n",
    "    print(f\"{index}:{fruit}\")"
   ]
  },
  {
   "cell_type": "code",
   "execution_count": 38,
   "id": "e045abe9-fe53-42f3-b7f3-a36e7920a699",
   "metadata": {},
   "outputs": [
    {
     "name": "stdout",
     "output_type": "stream",
     "text": [
      "0\n",
      "1\n",
      "2\n",
      "3\n",
      "4\n"
     ]
    }
   ],
   "source": [
    "# while loop simulating do while\n",
    "\n",
    "i = 0\n",
    "while True:\n",
    "    print(i)\n",
    "    i += 1\n",
    "    if i >= 5:\n",
    "        break"
   ]
  },
  {
   "cell_type": "code",
   "execution_count": 46,
   "id": "54095812-ddd4-4efc-a20e-2a75887c0a82",
   "metadata": {},
   "outputs": [
    {
     "name": "stdout",
     "output_type": "stream",
     "text": [
      "0\n",
      "0 is divisible by 10\n",
      "9\n",
      "18\n",
      "27\n",
      "36\n",
      "45\n",
      "54\n",
      "63\n",
      "72\n",
      "81\n",
      "90\n",
      "90 is divisible by 10\n",
      "99\n"
     ]
    }
   ],
   "source": [
    "# complex condition\n",
    "i = 0\n",
    "while i < 100:\n",
    "    print(i)\n",
    "    if i % 10 == 0:\n",
    "        print(f\"{i} is divisible by 10\")\n",
    "    i += 9"
   ]
  },
  {
   "cell_type": "code",
   "execution_count": 47,
   "id": "0c0e2dcc-a82a-4b9f-9123-de7bb3096389",
   "metadata": {},
   "outputs": [
    {
     "name": "stdout",
     "output_type": "stream",
     "text": [
      "7\n"
     ]
    }
   ],
   "source": [
    "# lambda function\n",
    "add = lambda a,b: a+b\n",
    "print(add(3,4))"
   ]
  },
  {
   "cell_type": "code",
   "execution_count": 48,
   "id": "ed961d7b-89f2-47ca-b115-ed1b0ec73f11",
   "metadata": {},
   "outputs": [
    {
     "name": "stdout",
     "output_type": "stream",
     "text": [
      "30\n"
     ]
    }
   ],
   "source": [
    "add = lambda a, b : a*b\n",
    "print(add(5,6))"
   ]
  },
  {
   "cell_type": "code",
   "execution_count": 2,
   "id": "bdf28237-6b1a-4775-b8d4-4c80f4289ccb",
   "metadata": {},
   "outputs": [
    {
     "name": "stdout",
     "output_type": "stream",
     "text": [
      "complete\n"
     ]
    }
   ],
   "source": [
    "print(\"test\")"
   ]
  },
  {
   "cell_type": "code",
   "execution_count": null,
   "id": "8eb33537-3698-4193-80a7-22189582f4ce",
   "metadata": {},
   "outputs": [],
   "source": []
  }
 ],
 "metadata": {
  "kernelspec": {
   "display_name": "Python 3 (ipykernel)",
   "language": "python",
   "name": "python3"
  },
  "language_info": {
   "codemirror_mode": {
    "name": "ipython",
    "version": 3
   },
   "file_extension": ".py",
   "mimetype": "text/x-python",
   "name": "python",
   "nbconvert_exporter": "python",
   "pygments_lexer": "ipython3",
   "version": "3.12.4"
  }
 },
 "nbformat": 4,
 "nbformat_minor": 5
}
