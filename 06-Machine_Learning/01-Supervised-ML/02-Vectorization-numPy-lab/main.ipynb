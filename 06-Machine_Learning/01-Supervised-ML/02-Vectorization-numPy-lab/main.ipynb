{
 "cells": [
  {
   "cell_type": "code",
   "execution_count": 4,
   "id": "c557741c-d605-45a8-9f57-0231ce3879b6",
   "metadata": {},
   "outputs": [],
   "source": [
    "import numpy as np\n",
    "import time"
   ]
  },
  {
   "cell_type": "code",
   "execution_count": 6,
   "id": "4de64210-66dd-45e7-99bf-c0f937f4f820",
   "metadata": {},
   "outputs": [
    {
     "name": "stdout",
     "output_type": "stream",
     "text": [
      "np.zeros: a = [0. 0. 0. 0.], a shape = (4,),a data type = float64\n"
     ]
    }
   ],
   "source": [
    "a = np.zeros(4)\n",
    "print(f'np.zeros: a = {a}, a shape = {a.shape},a data type = {a.dtype}' )"
   ]
  },
  {
   "cell_type": "code",
   "execution_count": 28,
   "id": "d09c1b95-f3c4-45fb-abcb-5ce9aa64aef9",
   "metadata": {},
   "outputs": [
    {
     "name": "stdout",
     "output_type": "stream",
     "text": [
      "[0.63629904 0.51595285 0.03940756 0.66908335]\n"
     ]
    }
   ],
   "source": [
    "a = np.random.random_sample(4)\n",
    "print(a)"
   ]
  },
  {
   "cell_type": "code",
   "execution_count": 20,
   "id": "64dd0939-cfe0-425f-9a5c-1982e7f08f8a",
   "metadata": {},
   "outputs": [
    {
     "name": "stdout",
     "output_type": "stream",
     "text": [
      "[0 1 2 3]\n"
     ]
    }
   ],
   "source": [
    "a = np.arange(4)\n",
    "print(a)"
   ]
  },
  {
   "cell_type": "code",
   "execution_count": 26,
   "id": "a1bd66c5-7285-4977-a4e3-ef955cf151bc",
   "metadata": {},
   "outputs": [
    {
     "name": "stdout",
     "output_type": "stream",
     "text": [
      "[0.4932077  0.58009237 0.99045808 0.09138647]\n"
     ]
    }
   ],
   "source": [
    "a = np.random.rand(4)\n",
    "print(a)"
   ]
  },
  {
   "cell_type": "code",
   "execution_count": 30,
   "id": "43d3b037-3a9f-4f64-b19b-d801d43b4c4f",
   "metadata": {},
   "outputs": [
    {
     "name": "stdout",
     "output_type": "stream",
     "text": [
      "[1 3 4]\n"
     ]
    }
   ],
   "source": [
    "a = np.array([1,3,4])\n",
    "print(a)"
   ]
  },
  {
   "cell_type": "markdown",
   "id": "95759e7e-ddb2-46fc-8569-a44178a25d28",
   "metadata": {},
   "source": [
    "3.4 Operations on Vectors"
   ]
  },
  {
   "cell_type": "code",
   "execution_count": 40,
   "id": "0f68ca61-9df5-4285-af50-dda006594fed",
   "metadata": {},
   "outputs": [
    {
     "data": {
      "text/plain": [
       "array([0, 1, 2, 3, 4, 5, 6, 7, 8, 9])"
      ]
     },
     "execution_count": 40,
     "metadata": {},
     "output_type": "execute_result"
    }
   ],
   "source": [
    "a = np.arange(10)\n",
    "a\n",
    "# print(a)"
   ]
  },
  {
   "cell_type": "code",
   "execution_count": 42,
   "id": "fb2a7067-6a38-48b3-b236-74943aba3a23",
   "metadata": {},
   "outputs": [
    {
     "data": {
      "text/plain": [
       "3"
      ]
     },
     "execution_count": 42,
     "metadata": {},
     "output_type": "execute_result"
    }
   ],
   "source": [
    "a[3]"
   ]
  },
  {
   "cell_type": "code",
   "execution_count": 48,
   "id": "65613a89-83b6-49d7-b074-844bc1adcc20",
   "metadata": {},
   "outputs": [
    {
     "data": {
      "text/plain": [
       "9"
      ]
     },
     "execution_count": 48,
     "metadata": {},
     "output_type": "execute_result"
    }
   ],
   "source": [
    "a[-1]"
   ]
  },
  {
   "cell_type": "code",
   "execution_count": 67,
   "id": "e49f7cfd-d0fb-4d5a-9be6-6adfb7242f3a",
   "metadata": {},
   "outputs": [
    {
     "name": "stdout",
     "output_type": "stream",
     "text": [
      "The error message you'll see is\n",
      "index 10 is out of bounds for axis 0 with size 10\n"
     ]
    }
   ],
   "source": [
    "try:\n",
    "    c = a[10]\n",
    "    print(c)\n",
    "except Exception as e:\n",
    "    print(\"The error message you'll see is\")\n",
    "    print(e)"
   ]
  },
  {
   "cell_type": "markdown",
   "id": "edb380c1-8373-446e-a770-4d8b3bbec22d",
   "metadata": {},
   "source": [
    "# Slicing"
   ]
  },
  {
   "cell_type": "code",
   "execution_count": 72,
   "id": "f8955305-4a02-4a41-ab2f-5bcc07a0d90e",
   "metadata": {},
   "outputs": [
    {
     "name": "stdout",
     "output_type": "stream",
     "text": [
      "[0 1 2 3 4 5 6 7 8 9]\n"
     ]
    }
   ],
   "source": [
    "a = np.arange(10) \n",
    "print(a)"
   ]
  },
  {
   "cell_type": "code",
   "execution_count": 81,
   "id": "61d1c1c5-1acd-423d-bec7-624208834c17",
   "metadata": {},
   "outputs": [
    {
     "data": {
      "text/plain": [
       "array([0, 1])"
      ]
     },
     "execution_count": 81,
     "metadata": {},
     "output_type": "execute_result"
    }
   ],
   "source": [
    "a[:2]"
   ]
  },
  {
   "cell_type": "code",
   "execution_count": 90,
   "id": "a4484e50-69b3-4356-90fe-6a06ed61bcc1",
   "metadata": {},
   "outputs": [
    {
     "data": {
      "text/plain": [
       "array([1, 2, 3, 4, 5, 6])"
      ]
     },
     "execution_count": 90,
     "metadata": {},
     "output_type": "execute_result"
    }
   ],
   "source": [
    "a[1:7:1]"
   ]
  },
  {
   "cell_type": "code",
   "execution_count": 94,
   "id": "a691d7dd-c923-4869-876b-e3022da42bcf",
   "metadata": {},
   "outputs": [
    {
     "data": {
      "text/plain": [
       "array([1, 3, 5])"
      ]
     },
     "execution_count": 94,
     "metadata": {},
     "output_type": "execute_result"
    }
   ],
   "source": [
    "a[1:7:2]"
   ]
  },
  {
   "cell_type": "code",
   "execution_count": 96,
   "id": "836fb9d8-831c-4cdc-96e7-fbcdebc3b92e",
   "metadata": {},
   "outputs": [
    {
     "data": {
      "text/plain": [
       "array([3, 4, 5, 6, 7, 8, 9])"
      ]
     },
     "execution_count": 96,
     "metadata": {},
     "output_type": "execute_result"
    }
   ],
   "source": [
    "a[3:]"
   ]
  },
  {
   "cell_type": "code",
   "execution_count": 104,
   "id": "6aeff8f7-6b66-41d5-bc52-dadea47f2ea5",
   "metadata": {},
   "outputs": [
    {
     "data": {
      "text/plain": [
       "array([0, 1, 2, 3, 4, 5, 6, 7, 8, 9])"
      ]
     },
     "execution_count": 104,
     "metadata": {},
     "output_type": "execute_result"
    }
   ],
   "source": [
    "a[:]"
   ]
  },
  {
   "cell_type": "code",
   "execution_count": 102,
   "id": "ea8b1b57-7359-4fa8-bda0-92c271766c3b",
   "metadata": {},
   "outputs": [
    {
     "data": {
      "text/plain": [
       "array([9, 8, 7, 6, 5, 4, 3, 2, 1, 0])"
      ]
     },
     "execution_count": 102,
     "metadata": {},
     "output_type": "execute_result"
    }
   ],
   "source": [
    "a[::-1]"
   ]
  },
  {
   "cell_type": "code",
   "execution_count": null,
   "id": "304a6e9c-69b2-4e23-b881-fdd3f68f431a",
   "metadata": {},
   "outputs": [],
   "source": []
  },
  {
   "cell_type": "markdown",
   "id": "344700ff-ad00-4e8b-b9ed-0f9951b1364a",
   "metadata": {},
   "source": [
    " Single vector operations"
   ]
  },
  {
   "cell_type": "code",
   "execution_count": 132,
   "id": "2f28ee91-de90-4988-b7f6-d294199fc22b",
   "metadata": {},
   "outputs": [
    {
     "name": "stdout",
     "output_type": "stream",
     "text": [
      "[1 2 3 4]\n",
      "[-1 -2 -3 -4]\n",
      "10\n",
      "2.5\n",
      "[ 1  4  9 16]\n"
     ]
    }
   ],
   "source": [
    "a = np.array([1,2,3,4])\n",
    "print(a)\n",
    "b = -a\n",
    "print(b)\n",
    "\n",
    "c = np.sum(a)\n",
    "print(c)\n",
    "\n",
    "d = np.mean(a)\n",
    "print(d)\n",
    "\n",
    "e = a ** 2\n",
    "print(e)\n"
   ]
  },
  {
   "cell_type": "code",
   "execution_count": null,
   "id": "8bbed8e2-9514-469b-8495-e7ab11dcbf25",
   "metadata": {},
   "outputs": [],
   "source": []
  },
  {
   "cell_type": "markdown",
   "id": "b7c71bca-b91b-4e4a-9334-ebc692c0159f",
   "metadata": {},
   "source": [
    "3.4.4 Vector Vector element-wise operations\n",
    "Most of the NumPy arithmetic, logical and comparison operations apply to vectors as well. These operators work on an element-by-element basis. For example\n",
    "𝑐𝑖=𝑎𝑖+𝑏𝑖"
   ]
  },
  {
   "cell_type": "code",
   "execution_count": 135,
   "id": "6489335c-5cad-4b12-b2c4-c00d6a6e74c8",
   "metadata": {},
   "outputs": [
    {
     "name": "stdout",
     "output_type": "stream",
     "text": [
      "Binary operations work element wise: [0 0 6 8] \n"
     ]
    }
   ],
   "source": [
    "a = np.array([1, 2, 3, 4])\n",
    "b = np.array([-1, -2, 3, 4])\n",
    "print(f\"Binary operations work element wise: {a + b} \" )"
   ]
  },
  {
   "cell_type": "code",
   "execution_count": 137,
   "id": "dddab754-02cc-42ba-8105-b9c284c87832",
   "metadata": {},
   "outputs": [
    {
     "name": "stdout",
     "output_type": "stream",
     "text": [
      "The Error message you will see as:\n",
      "operands could not be broadcast together with shapes (4,) (2,) \n"
     ]
    }
   ],
   "source": [
    "#try a mismatched vector operation\n",
    "\n",
    "c = np.array([1,2])\n",
    "try:\n",
    "    d = a + c\n",
    "    print(d)\n",
    "except Exception as e:\n",
    "    print('The Error message you will see as:')\n",
    "    print(e)\n",
    "    "
   ]
  },
  {
   "cell_type": "code",
   "execution_count": null,
   "id": "fe396555-d2c2-4a62-98a5-a8029aa0afae",
   "metadata": {},
   "outputs": [],
   "source": []
  },
  {
   "cell_type": "markdown",
   "id": "0d93305c-45cf-4d51-97d2-1e56f78bbb17",
   "metadata": {},
   "source": [
    "3.4.5 Scalar Vector operations\n",
    "Vectors can be 'scaled' by scalar values. A scalar value is just a number. The scalar multiplies all the elements of the vector.\n",
    "\n"
   ]
  },
  {
   "cell_type": "code",
   "execution_count": 142,
   "id": "435e3912-c2ee-4420-b490-560bfe4aabbb",
   "metadata": {},
   "outputs": [
    {
     "name": "stdout",
     "output_type": "stream",
     "text": [
      "[ 5 10 15 20]\n"
     ]
    }
   ],
   "source": [
    "a = np.array([1,2,3,4])\n",
    "b = 5 * a\n",
    "print(b)"
   ]
  },
  {
   "cell_type": "code",
   "execution_count": null,
   "id": "340b40ef-3fd7-401e-8b1b-7c91811a84f5",
   "metadata": {},
   "outputs": [],
   "source": []
  },
  {
   "cell_type": "markdown",
   "id": "1cf328a5-4c6e-4f34-a3b2-b6baa34ebf4b",
   "metadata": {},
   "source": [
    "3.4.6 Vector Vector dot product\n",
    "The dot product is a mainstay of Linear Algebra and NumPy. This is an operation used extensively in this course and should be well understood. The dot product is shown below."
   ]
  },
  {
   "cell_type": "code",
   "execution_count": 179,
   "id": "3b678c1e-8a16-455d-bea6-ac282e1ff177",
   "metadata": {},
   "outputs": [
    {
     "name": "stdout",
     "output_type": "stream",
     "text": [
      "32\n",
      "0.00013113021850585938\n"
     ]
    }
   ],
   "source": [
    "def my_dot(a,b):\n",
    "    x = 0\n",
    "    for i in range(a.shape[0]):\n",
    "        x = x + a[i] * b[i]\n",
    "    return x \n",
    "a = np.array([1,2,3])\n",
    "b = np.array([4,5,6])\n",
    "tic = time.time()\n",
    "print(my_dot(a,b))\n",
    "toc = time.time()\n",
    "print(toc - tic)"
   ]
  },
  {
   "cell_type": "code",
   "execution_count": 181,
   "id": "1f59f8d9-a273-41fb-8ce0-e6df8901452e",
   "metadata": {},
   "outputs": [
    {
     "name": "stdout",
     "output_type": "stream",
     "text": [
      "32\n",
      "8.130073547363281e-05\n"
     ]
    }
   ],
   "source": [
    "a = np.array([1,2,3])\n",
    "b = np.array([4,5,6])\n",
    "tic = time.time()\n",
    "c = np.dot(a,b)\n",
    "toc = time.time()\n",
    "print(c)\n",
    "print(toc - tic)"
   ]
  },
  {
   "cell_type": "code",
   "execution_count": null,
   "id": "21593cfe-4141-4dea-a792-7132651a6aac",
   "metadata": {},
   "outputs": [],
   "source": []
  },
  {
   "cell_type": "markdown",
   "id": "96d0ae71-095e-4905-b519-63b8cfcc2062",
   "metadata": {},
   "source": [
    "3.4.7 The Need for Speed: vector vs for loop\n",
    "We utilized the NumPy library because it improves speed memory efficiency. Let's demonstrate:"
   ]
  },
  {
   "cell_type": "code",
   "execution_count": 185,
   "id": "34f206a2-53b2-419e-a41f-dcc35d16ac65",
   "metadata": {},
   "outputs": [
    {
     "name": "stdout",
     "output_type": "stream",
     "text": [
      "np.dot(a,b) = 2501072.5817\n",
      "Vectorized version duration : 15.1911ms \n",
      "my_dot(a,b): 2501072.5817\n",
      "Loop version duration:2274.8003ms\n"
     ]
    }
   ],
   "source": [
    "np.random.seed(1)\n",
    "\n",
    "a = np.random.rand(10000000)\n",
    "b = np.random.rand(10000000)\n",
    "\n",
    "tic = time.time()\n",
    "c = np.dot(a,b)\n",
    "toc = time.time()\n",
    "print(f\"np.dot(a,b) = {c:.4f}\")\n",
    "print(f\"Vectorized version duration : {1000*(toc - tic):.4f}ms \")\n",
    "\n",
    "tic = time.time()\n",
    "c = my_dot(a,b)\n",
    "toc = time.time()\n",
    "\n",
    "print(f\"my_dot(a,b): {c:.4f}\")\n",
    "print(f\"Loop version duration:{1000 * (toc - tic):.4f}ms\")"
   ]
  },
  {
   "cell_type": "code",
   "execution_count": null,
   "id": "20dbf409-8d64-416b-8197-f38265ae6f0c",
   "metadata": {},
   "outputs": [],
   "source": []
  },
  {
   "cell_type": "markdown",
   "id": "ea059e73-192c-499d-a429-43932618ee67",
   "metadata": {},
   "source": [
    "4.2 NumPy Arrays\n",
    "NumPy's basic data structure is an indexable, n-dimensional array containing elements of the same type (dtype). These were described earlier. Matrices have a two-dimensional (2-D) index [m,n].\n",
    "\n",
    "In Course 1, 2-D matrices are used to hold training data. Training data is  𝑚\n",
    "  examples by  𝑛\n",
    "  features creating an (m,n) array. Course 1 does not do operations directly on matrices but typically extracts an example as a vector and operates on that. Below you will review:\n",
    "\n",
    "data creation\n",
    "slicing and indexing\n",
    "\n",
    "4.3 Matrix Creation\n",
    "The same functions that created 1-D vectors will create 2-D or n-D arrays. Here are some examples\n",
    "\n",
    "Below, the shape tuple is provided to achieve a 2-D result. Notice how NumPy uses brackets to denote each dimension. Notice further than NumPy, when printing, will print one row per line."
   ]
  },
  {
   "cell_type": "code",
   "execution_count": 206,
   "id": "eaf8e786-5862-4baf-8edb-e601a6046ca3",
   "metadata": {},
   "outputs": [
    {
     "name": "stdout",
     "output_type": "stream",
     "text": [
      "a shape = (1, 5), a = [[0. 0. 0. 0. 0.]]\n",
      "a shape: (2, 2), a = [[0. 0.]\n",
      " [0. 0.]]\n",
      "[[0.53516563]]\n"
     ]
    }
   ],
   "source": [
    "a = np.zeros((1,5))\n",
    "print(f'a shape = {a.shape}, a = {a}')\n",
    "\n",
    "a = np.zeros((2,2))\n",
    "\n",
    "print(f'a shape: {a.shape}, a = {a}')\n",
    "\n",
    "a = np.random.random_sample((1,1))\n",
    "print(a)"
   ]
  },
  {
   "cell_type": "code",
   "execution_count": null,
   "id": "f00b7138-82e9-4e7e-a486-480092b5efee",
   "metadata": {},
   "outputs": [],
   "source": []
  }
 ],
 "metadata": {
  "kernelspec": {
   "display_name": "Python 3 (ipykernel)",
   "language": "python",
   "name": "python3"
  },
  "language_info": {
   "codemirror_mode": {
    "name": "ipython",
    "version": 3
   },
   "file_extension": ".py",
   "mimetype": "text/x-python",
   "name": "python",
   "nbconvert_exporter": "python",
   "pygments_lexer": "ipython3",
   "version": "3.12.4"
  }
 },
 "nbformat": 4,
 "nbformat_minor": 5
}
