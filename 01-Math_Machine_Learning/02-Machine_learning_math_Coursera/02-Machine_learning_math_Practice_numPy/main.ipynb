{
 "cells": [
  {
   "cell_type": "code",
   "execution_count": 2,
   "id": "d96e057a-11d7-478c-84c3-8d13267566a5",
   "metadata": {},
   "outputs": [
    {
     "name": "stdout",
     "output_type": "stream",
     "text": [
      "-1.665334536937729e-16\n"
     ]
    }
   ],
   "source": [
    "import numpy as np\n",
    "\n",
    "\n",
    "matr = np.array([[1,0,1],[0,1,0],[3,3,3]])\n",
    "\n",
    "det = np.linalg.det(matr)\n",
    "print(det)\n"
   ]
  },
  {
   "cell_type": "code",
   "execution_count": 4,
   "id": "1ed3783b-b672-4d76-9281-ee612d9427c1",
   "metadata": {},
   "outputs": [
    {
     "name": "stdout",
     "output_type": "stream",
     "text": [
      "Determinant of the matrix is: -1.665334536937729e-16\n"
     ]
    }
   ],
   "source": [
    "import numpy as np\n",
    "\n",
    "# Define the matrix\n",
    "matrix = np.array([\n",
    "    [1, 0, 1],\n",
    "    [0, 1, 0],\n",
    "    [3, 3, 3]\n",
    "])\n",
    "\n",
    "# Compute the determinant\n",
    "det = np.linalg.det(matrix)\n",
    "\n",
    "# Print the result\n",
    "print(\"Determinant of the matrix is:\", det)"
   ]
  },
  {
   "cell_type": "code",
   "execution_count": null,
   "id": "c88aab0f-80af-414b-91f9-162aa955f9da",
   "metadata": {},
   "outputs": [],
   "source": [
    "# Day 1: NumPy Basics and Arrays\n",
    "\n",
    "# Topics:\n",
    "\n",
    "# Introduction to NumPy arrays.\n",
    "# Array creation (1D, 2D, n-dimensional arrays).\n",
    "# Array indexing and slicing.\n",
    "# Basic array operations (addition, subtraction, multiplication, division).\n",
    "# Practice:\n",
    "# Create vectors and matrices using NumPy.\n",
    "# Perform basic arithmetic operations on arrays.\n",
    "# Relevant Linear Algebra Topic:\n",
    "# Vectors, scalars, and matrices.\n"
   ]
  },
  {
   "cell_type": "code",
   "execution_count": 2,
   "id": "d57bd36f-b5d7-4179-ad62-b05d64793c41",
   "metadata": {},
   "outputs": [
    {
     "name": "stdout",
     "output_type": "stream",
     "text": [
      "[1 2 3 4]\n"
     ]
    }
   ],
   "source": [
    "# Introduction to NumPy arrays.\n",
    "\n",
    "import numpy as np\n",
    "arr = np.array([1,2,3,4])\n",
    "print(arr)"
   ]
  },
  {
   "cell_type": "code",
   "execution_count": 4,
   "id": "de7295ae-238f-43c0-9980-0f90aa33a40f",
   "metadata": {},
   "outputs": [
    {
     "name": "stdout",
     "output_type": "stream",
     "text": [
      "[[1 2 3 4]\n",
      " [1 2 3 4]]\n"
     ]
    }
   ],
   "source": [
    "arr_2d = np.array([[1,2,3,4],[1,2,3,4]])\n",
    "print(arr_2d)"
   ]
  },
  {
   "cell_type": "code",
   "execution_count": 20,
   "id": "2c2d4dae-a43f-4ba0-9db8-9a5076bdb35d",
   "metadata": {},
   "outputs": [
    {
     "name": "stdout",
     "output_type": "stream",
     "text": [
      "[1 4 7]\n"
     ]
    }
   ],
   "source": [
    "arr = np.arange(1,10,3)\n",
    "print(arr)"
   ]
  },
  {
   "cell_type": "code",
   "execution_count": 24,
   "id": "6d596c0f-d4a2-4afb-926c-f03e735fdb23",
   "metadata": {},
   "outputs": [
    {
     "name": "stdout",
     "output_type": "stream",
     "text": [
      "[ 1.   5.5 10. ]\n"
     ]
    }
   ],
   "source": [
    "arr = np.linspace(1,10,3)\n",
    "print(arr)"
   ]
  },
  {
   "cell_type": "code",
   "execution_count": 42,
   "id": "55295da4-f71b-4402-a4f0-4208ad3d9b3f",
   "metadata": {},
   "outputs": [
    {
     "name": "stdout",
     "output_type": "stream",
     "text": [
      "[[0. 0. 0.]\n",
      " [0. 0. 0.]\n",
      " [0. 0. 0.]]\n",
      "[[0. 0.]]\n"
     ]
    }
   ],
   "source": [
    "arr = np.zeros((3,3))\n",
    "print(arr)\n",
    "arr = np.zeros((1,2))\n",
    "print(arr)"
   ]
  },
  {
   "cell_type": "code",
   "execution_count": 46,
   "id": "a66d10a9-1acc-4d4e-902e-d6b87ce3272f",
   "metadata": {},
   "outputs": [
    {
     "name": "stdout",
     "output_type": "stream",
     "text": [
      "[[1. 1.]]\n"
     ]
    }
   ],
   "source": [
    "arr = np.ones((1,2))\n",
    "print(arr)"
   ]
  },
  {
   "cell_type": "code",
   "execution_count": 40,
   "id": "ad304dc6-cbc9-4fdc-aed4-4fd090baa53f",
   "metadata": {},
   "outputs": [
    {
     "name": "stdout",
     "output_type": "stream",
     "text": [
      "[[1. 0. 0. 0. 0.]\n",
      " [0. 1. 0. 0. 0.]\n",
      " [0. 0. 1. 0. 0.]\n",
      " [0. 0. 0. 1. 0.]\n",
      " [0. 0. 0. 0. 1.]]\n"
     ]
    }
   ],
   "source": [
    "arr = np.eye(5)\n",
    "print(arr)"
   ]
  },
  {
   "cell_type": "code",
   "execution_count": 93,
   "id": "1f21d66c-8c69-4285-bc3a-7c51fbea6605",
   "metadata": {},
   "outputs": [
    {
     "name": "stdout",
     "output_type": "stream",
     "text": [
      "[[0.04036626 0.41720627]]\n"
     ]
    }
   ],
   "source": [
    "arr = np.random.rand(1,2)\n",
    "print(arr)"
   ]
  },
  {
   "cell_type": "code",
   "execution_count": null,
   "id": "b9e35132-2b0d-428d-938d-2547d0666e84",
   "metadata": {},
   "outputs": [],
   "source": []
  },
  {
   "cell_type": "code",
   "execution_count": 95,
   "id": "acf558d1-590e-46d3-9c76-4ce3fa235523",
   "metadata": {},
   "outputs": [
    {
     "name": "stdout",
     "output_type": "stream",
     "text": [
      "[4 5 6 7]\n",
      "[ 3  6  9 12]\n"
     ]
    }
   ],
   "source": [
    "# basic operations on numpy array\n",
    "\n",
    "arr = np.array([1,2,3,4])\n",
    "print(arr + 3)\n",
    "print(arr * 3)"
   ]
  },
  {
   "cell_type": "code",
   "execution_count": 105,
   "id": "17f7f06a-d133-4d70-bee1-eda7d96c3da6",
   "metadata": {},
   "outputs": [
    {
     "name": "stdout",
     "output_type": "stream",
     "text": [
      "2\n",
      "[2 9]\n",
      "[[1 2 3]]\n"
     ]
    }
   ],
   "source": [
    "# array alicing\n",
    "\n",
    "arr = np.array([[1,2,3],[8,9,10]])\n",
    "print(arr[0,1])\n",
    "print(arr[:,1])\n",
    "print(arr[::2])"
   ]
  },
  {
   "cell_type": "code",
   "execution_count": 107,
   "id": "44343095-7b10-49e3-a63b-8911a667460c",
   "metadata": {},
   "outputs": [
    {
     "name": "stdout",
     "output_type": "stream",
     "text": [
      "(2, 4)\n"
     ]
    }
   ],
   "source": [
    "arr = np.array([[1,2,3,4],[1,2,3,4]])\n",
    "val = arr.shape\n",
    "print(val)"
   ]
  },
  {
   "cell_type": "code",
   "execution_count": 109,
   "id": "c304fe78-953e-4b1e-b472-bceda3a4a212",
   "metadata": {},
   "outputs": [
    {
     "name": "stdout",
     "output_type": "stream",
     "text": [
      "[[1 2]\n",
      " [3 4]\n",
      " [1 2]\n",
      " [3 4]]\n"
     ]
    }
   ],
   "source": [
    "reshape = arr.reshape(4,2)\n",
    "print(reshape)"
   ]
  },
  {
   "cell_type": "code",
   "execution_count": 113,
   "id": "0209463d-0f59-42e1-a235-07ba7e78d510",
   "metadata": {},
   "outputs": [
    {
     "name": "stdout",
     "output_type": "stream",
     "text": [
      "15\n",
      "3.0\n",
      "1.4142135623730951\n"
     ]
    }
   ],
   "source": [
    "arr = np.array([1,2,3,4,5])\n",
    "print(arr.sum())\n",
    "print(arr.mean())\n",
    "print(arr.std())\n"
   ]
  },
  {
   "cell_type": "code",
   "execution_count": 123,
   "id": "99b45ea9-e445-45bb-b03c-71ed5a6dbe71",
   "metadata": {},
   "outputs": [
    {
     "name": "stdout",
     "output_type": "stream",
     "text": [
      "1\n"
     ]
    }
   ],
   "source": [
    "arr = np.array([1,2,3,4])\n",
    "print(arr.ndim)"
   ]
  },
  {
   "cell_type": "code",
   "execution_count": 127,
   "id": "96861652-b92b-4160-bebb-62e134739b4a",
   "metadata": {},
   "outputs": [
    {
     "name": "stdout",
     "output_type": "stream",
     "text": [
      "2\n"
     ]
    }
   ],
   "source": [
    "arr = np.array([[1,2,3,4],[1,2,3,4],[1,2,3,4]])\n",
    "print(arr.ndim)"
   ]
  },
  {
   "cell_type": "code",
   "execution_count": 135,
   "id": "ddef6e17-e198-457b-8ef8-5c7ec4a64431",
   "metadata": {},
   "outputs": [
    {
     "name": "stdout",
     "output_type": "stream",
     "text": [
      "[[[1 2 3]\n",
      "  [1 2 3]]\n",
      "\n",
      " [[1 2 3]\n",
      "  [1 2 3]]]\n",
      "3\n"
     ]
    }
   ],
   "source": [
    "# creating 3d array\n",
    "\n",
    "arr = np.array([[[1,2,3],[1,2,3]],[[1,2,3],[1,2,3]]])\n",
    "print(arr)\n",
    "print(arr.ndim)"
   ]
  },
  {
   "cell_type": "code",
   "execution_count": 149,
   "id": "80271eac-818e-4b80-876b-4816a639cd34",
   "metadata": {},
   "outputs": [
    {
     "name": "stdout",
     "output_type": "stream",
     "text": [
      "[[[[0. 0.]\n",
      "   [0. 0.]]\n",
      "\n",
      "  [[0. 0.]\n",
      "   [0. 0.]]]\n",
      "\n",
      "\n",
      " [[[0. 0.]\n",
      "   [0. 0.]]\n",
      "\n",
      "  [[0. 0.]\n",
      "   [0. 0.]]]]\n"
     ]
    }
   ],
   "source": [
    "arr_4d = np.zeros((2,2,2,2))\n",
    "print(arr_4d)"
   ]
  },
  {
   "cell_type": "code",
   "execution_count": 151,
   "id": "40cd545a-2d8e-44d7-a40e-9ec44e4b2ae2",
   "metadata": {},
   "outputs": [
    {
     "name": "stdout",
     "output_type": "stream",
     "text": [
      "[[1. 1. 1.]\n",
      " [1. 1. 1.]]\n"
     ]
    }
   ],
   "source": [
    "one_arr = np.ones((2,3))\n",
    "print(one_arr)"
   ]
  },
  {
   "cell_type": "code",
   "execution_count": 153,
   "id": "3fc3fa26-ff47-499a-a22e-8de4fb5ee89c",
   "metadata": {},
   "outputs": [
    {
     "name": "stdout",
     "output_type": "stream",
     "text": [
      "9\n"
     ]
    }
   ],
   "source": [
    "arr_3d = np.array([[[1,2,3],[1,2,3]],[[1,2,3],[1,2,9]]])\n",
    "print(arr_3d[1,1,2])\n"
   ]
  },
  {
   "cell_type": "code",
   "execution_count": 157,
   "id": "8ce113e5-c66f-464d-b663-c32cc0add23d",
   "metadata": {},
   "outputs": [
    {
     "name": "stdout",
     "output_type": "stream",
     "text": [
      "[6 5 4 3 2]\n"
     ]
    }
   ],
   "source": [
    "arr = np.array([2,3,4,5,6])\n",
    "print(arr[::-1])"
   ]
  },
  {
   "cell_type": "code",
   "execution_count": 169,
   "id": "80485aee-ff9c-4faf-98bb-284f8522bccc",
   "metadata": {},
   "outputs": [
    {
     "name": "stdout",
     "output_type": "stream",
     "text": [
      "[[1 2 3]\n",
      " [1 2 3]\n",
      " [9 2 3]]\n"
     ]
    }
   ],
   "source": [
    "arr_2d = np.array([[1,2,3],[1,2,3],[9,2,3],[1,2,9]])\n",
    "print(arr_2d[:3])"
   ]
  },
  {
   "cell_type": "code",
   "execution_count": 163,
   "id": "1b57ddde-e64b-47e4-b83e-4604955cd980",
   "metadata": {},
   "outputs": [
    {
     "name": "stdout",
     "output_type": "stream",
     "text": [
      "[[1 2]\n",
      " [1 2]\n",
      " [1 2]\n",
      " [1 2]]\n"
     ]
    }
   ],
   "source": [
    "print(arr_2d[:,:2])"
   ]
  },
  {
   "cell_type": "code",
   "execution_count": 165,
   "id": "cd0750d6-12e2-4be7-a371-1f328c53629f",
   "metadata": {},
   "outputs": [
    {
     "name": "stdout",
     "output_type": "stream",
     "text": [
      "[1 2 9]\n"
     ]
    }
   ],
   "source": [
    "print(arr_2d[-1])"
   ]
  },
  {
   "cell_type": "code",
   "execution_count": 171,
   "id": "80e9863a-df4e-4d80-8fa4-08ddc0f0364e",
   "metadata": {},
   "outputs": [
    {
     "name": "stdout",
     "output_type": "stream",
     "text": [
      "[[False False  True]\n",
      " [False False  True]\n",
      " [ True False  True]\n",
      " [False False  True]]\n"
     ]
    }
   ],
   "source": [
    "print(arr_2d > 2)\n"
   ]
  },
  {
   "cell_type": "code",
   "execution_count": 177,
   "id": "25212828-c60b-4980-b32a-06ac22985708",
   "metadata": {},
   "outputs": [
    {
     "name": "stdout",
     "output_type": "stream",
     "text": [
      "[22 44 55 66]\n"
     ]
    }
   ],
   "source": [
    "arr  = np.array([22,3,44,55,66])\n",
    "print(arr[arr > 3])"
   ]
  },
  {
   "cell_type": "code",
   "execution_count": 179,
   "id": "3be6a2eb-d063-4045-b425-9b389f1b8f31",
   "metadata": {},
   "outputs": [
    {
     "name": "stdout",
     "output_type": "stream",
     "text": [
      "[7 6]\n"
     ]
    }
   ],
   "source": [
    "arr_2d = np.array([[1,2,3],[7,2,6],[9,2,3],[1,2,9]])\n",
    "print(arr_2d[1,::2])"
   ]
  },
  {
   "cell_type": "code",
   "execution_count": 181,
   "id": "d32983e6-c923-49ba-b85d-9de88dbf3919",
   "metadata": {},
   "outputs": [
    {
     "name": "stdout",
     "output_type": "stream",
     "text": [
      "[ 6  8 10 12]\n"
     ]
    }
   ],
   "source": [
    "# element wise addition\n",
    "\n",
    "arr1 = np.array([1,2,3,4])\n",
    "arr2 = np.array([5,6,7,8])\n",
    "print(arr1+arr2)"
   ]
  },
  {
   "cell_type": "code",
   "execution_count": 189,
   "id": "2dca3e61-f2e4-40ac-8de2-066fc90bd91f",
   "metadata": {},
   "outputs": [
    {
     "name": "stdout",
     "output_type": "stream",
     "text": [
      "[ 6  8 10 12]\n"
     ]
    }
   ],
   "source": [
    "# using func\n",
    "\n",
    "result = np.add(arr2,arr1)\n",
    "print(result)"
   ]
  },
  {
   "cell_type": "code",
   "execution_count": 191,
   "id": "06794198-b7db-44bc-b194-388e2bcd0c2e",
   "metadata": {},
   "outputs": [
    {
     "name": "stdout",
     "output_type": "stream",
     "text": [
      "[-4 -4 -4 -4]\n"
     ]
    }
   ],
   "source": [
    "print(arr1-arr2)"
   ]
  },
  {
   "cell_type": "code",
   "execution_count": 193,
   "id": "ab68eff2-1392-4c71-b565-eb168d55c2d3",
   "metadata": {},
   "outputs": [
    {
     "name": "stdout",
     "output_type": "stream",
     "text": [
      "[-4 -4 -4 -4]\n"
     ]
    }
   ],
   "source": [
    "sub  = np.subtract(arr1,arr2)\n",
    "print(sub)"
   ]
  },
  {
   "cell_type": "code",
   "execution_count": 195,
   "id": "830cf604-92db-4348-92b1-a98e5cbffcc7",
   "metadata": {},
   "outputs": [
    {
     "name": "stdout",
     "output_type": "stream",
     "text": [
      "[ 5 12 21 32]\n"
     ]
    }
   ],
   "source": [
    "mult = np.multiply(arr1,arr2)\n",
    "print(mult)"
   ]
  },
  {
   "cell_type": "code",
   "execution_count": 197,
   "id": "aa179c84-6d9d-40de-9714-69fe976c64af",
   "metadata": {},
   "outputs": [
    {
     "name": "stdout",
     "output_type": "stream",
     "text": [
      "[0.2        0.33333333 0.42857143 0.5       ]\n"
     ]
    }
   ],
   "source": [
    "devide = np.divide(arr1,arr2)\n",
    "print(devide)"
   ]
  },
  {
   "cell_type": "code",
   "execution_count": 219,
   "id": "cb66e13c-e4c5-49a4-a5b3-c555145a87a4",
   "metadata": {},
   "outputs": [
    {
     "name": "stdout",
     "output_type": "stream",
     "text": [
      "[ 1  4  9 16]\n",
      "[    1    64  2187 65536]\n"
     ]
    }
   ],
   "source": [
    "power = arr1 **2\n",
    "print(power)\n",
    "\n",
    "power = np.power(arr1,arr2)\n",
    "print(power)"
   ]
  },
  {
   "cell_type": "code",
   "execution_count": 217,
   "id": "f9cf9d8a-e5a0-4465-bd05-d7cc424dd78d",
   "metadata": {},
   "outputs": [
    {
     "name": "stdout",
     "output_type": "stream",
     "text": [
      "[0 0 1 0]\n",
      "[0 0 1 0]\n"
     ]
    }
   ],
   "source": [
    "mod = arr2 % arr1\n",
    "print(mod)\n",
    "\n",
    "mod = np.mod(arr2,arr1)\n",
    "print(mod)"
   ]
  },
  {
   "cell_type": "code",
   "execution_count": 225,
   "id": "ff867ae4-7c77-42f4-8aa8-379d8fca5360",
   "metadata": {},
   "outputs": [
    {
     "name": "stdout",
     "output_type": "stream",
     "text": [
      "[11 12 13 14]\n",
      "[10 20 30 40]\n"
     ]
    }
   ],
   "source": [
    "# broadcasting\n",
    "arr = np.array([1,2,3,4])\n",
    "broadcast = arr + 10\n",
    "mul_bro = arr * 10\n",
    "print(broadcast)\n",
    "print(mul_bro)\n"
   ]
  },
  {
   "cell_type": "code",
   "execution_count": 227,
   "id": "cd00c95f-bf30-4d9e-8f1e-11ae78560dbe",
   "metadata": {},
   "outputs": [
    {
     "name": "stdout",
     "output_type": "stream",
     "text": [
      "[11 12 13 14]\n"
     ]
    }
   ],
   "source": [
    "arr += 10\n",
    "print(arr)"
   ]
  },
  {
   "cell_type": "code",
   "execution_count": 229,
   "id": "477bf505-cff3-447a-8d1c-fadf4f862af6",
   "metadata": {},
   "outputs": [
    {
     "name": "stdout",
     "output_type": "stream",
     "text": [
      "[1 3 4 5]\n"
     ]
    }
   ],
   "source": [
    "vector = np.array([1,3,4,5])\n",
    "print(vector)"
   ]
  },
  {
   "cell_type": "code",
   "execution_count": 233,
   "id": "19b8990a-f287-46bf-81cf-a0ee2f3ca72a",
   "metadata": {},
   "outputs": [
    {
     "name": "stdout",
     "output_type": "stream",
     "text": [
      "[[1 0 0]\n",
      " [0 2 0]\n",
      " [0 0 9]]\n"
     ]
    }
   ],
   "source": [
    "diagonal_mat = np.diag([1,2,9])\n",
    "print(diagonal_mat)"
   ]
  },
  {
   "cell_type": "code",
   "execution_count": null,
   "id": "44d77924-847d-4d9c-af10-4bfd3bea658a",
   "metadata": {},
   "outputs": [],
   "source": []
  },
  {
   "cell_type": "code",
   "execution_count": null,
   "id": "488494c8-b646-4179-b74b-b0e2e6ad20cc",
   "metadata": {},
   "outputs": [],
   "source": []
  },
  {
   "cell_type": "code",
   "execution_count": null,
   "id": "9aaa081e-0100-4bb5-89ee-4e187a889657",
   "metadata": {},
   "outputs": [],
   "source": [
    "# day 2: Matrix Operations\n",
    "\n",
    "# Topics:\n",
    "\n",
    "# Element-wise operations (addition, subtraction).\n",
    "# Dot product between two vectors.\n",
    "# Matrix multiplication (np.dot or @).\n",
    "\n",
    "# Practice:\n",
    "\n",
    "# Implement basic vector operations using NumPy.\n",
    "# Multiply matrices and vectors using np.dot.\n",
    "# Relevant Linear Algebra Topic:\n",
    "# Matrix-vector multiplication, dot product.\n",
    "\n"
   ]
  },
  {
   "cell_type": "code",
   "execution_count": 29,
   "id": "439b6310-bb51-49ba-8e85-35d44318f318",
   "metadata": {},
   "outputs": [
    {
     "name": "stdout",
     "output_type": "stream",
     "text": [
      "[[ 34  31  31]\n",
      " [ 91  79  76]\n",
      " [148 127 121]]\n",
      "[[10  9  9]\n",
      " [ 9  8  8]\n",
      " [12 14 16]]\n",
      "[[-8 -5 -3]\n",
      " [-1  2  4]\n",
      " [ 2  2  2]]\n",
      "[[0.11111111 0.28571429 0.5       ]\n",
      " [0.8        1.66666667 3.        ]\n",
      " [1.4        1.33333333 1.28571429]]\n",
      "[[ 9 14 18]\n",
      " [20 15 12]\n",
      " [35 48 63]]\n",
      "-9.51619735392994e-16\n"
     ]
    }
   ],
   "source": [
    "import numpy as np\n",
    "\n",
    "matrix_a = np.array([[1,2,3],[4,5,6],[7,8,9]])\n",
    "matrix_b = np.array([[9,7,6],[5,3,2],[5,6,7]])\n",
    "add = np.add(matrix_a,matrix_b)\n",
    "subtract = np.subtract(matrix_a,matrix_b)\n",
    "divide = np.divide(matrix_a,matrix_b)\n",
    "multiply = np.multiply(matrix_a,matrix_b)\n",
    "det = np.linalg.det(matrix_a)\n",
    "dot = np.dot(matrix_a,matrix_b)\n",
    "print(dot)\n",
    "print(add)\n",
    "print(subtract)\n",
    "print(divide)\n",
    "print(multiply)\n",
    "print(det)"
   ]
  },
  {
   "cell_type": "code",
   "execution_count": 37,
   "id": "991da2e2-33ed-4498-b8af-a222dab33978",
   "metadata": {},
   "outputs": [
    {
     "name": "stdout",
     "output_type": "stream",
     "text": [
      "7.999999999999998 [4. 4. 2.]\n"
     ]
    }
   ],
   "source": [
    "\n",
    "# represent the system as a matrix and vector\n",
    "\n",
    "A = np.array([[1,1,-1],[1,-1,2],[4,-2,1]])\n",
    "B = np.array([6,4,10])\n",
    "\n",
    "det = np.linalg.det(A)\n",
    "\n",
    "if det != 0:\n",
    "    solution = np.linalg.solve(A,B)\n",
    "else:\n",
    "    solution = None\n",
    "\n",
    "print(det,solution)"
   ]
  },
  {
   "cell_type": "code",
   "execution_count": null,
   "id": "b01ccde9-333c-4f74-b506-4cccc6dae1bf",
   "metadata": {},
   "outputs": [],
   "source": []
  },
  {
   "cell_type": "code",
   "execution_count": null,
   "id": "8d5f4835-76aa-4881-bfa0-e1b505c6c0b6",
   "metadata": {},
   "outputs": [],
   "source": []
  },
  {
   "cell_type": "code",
   "execution_count": null,
   "id": "44e2f98c-4570-4b53-bb60-894f614eccb4",
   "metadata": {},
   "outputs": [],
   "source": [
    "# Day 3: Matrix Properties\n",
    "\n",
    "# Topics:\n",
    "\n",
    "# Transpose of a matrix (np.transpose or .T).\n",
    "# Identity matrix (np.eye).\n",
    "# Diagonal matrix (np.diag).\n",
    "\n",
    "# Practice:\n",
    "\n",
    "# Create a matrix, find its transpose, and work with identity matrices.\n",
    "# Understand diagonal matrix applications in NumPy.\n",
    "# Relevant Linear Algebra Topic:\n",
    "# Transpose, identity matrix, diagonal matrix.\n"
   ]
  },
  {
   "cell_type": "code",
   "execution_count": 6,
   "id": "13a3884d-5b2b-4555-bfc1-d4255dea3e64",
   "metadata": {},
   "outputs": [
    {
     "name": "stdout",
     "output_type": "stream",
     "text": [
      "Original Matrix:\n",
      " [[1 2 3]\n",
      " [4 5 6]\n",
      " [7 8 9]]\n",
      "Transpose of the Matrix:\n",
      " [[1 4 7]\n",
      " [2 5 8]\n",
      " [3 6 9]]\n",
      "Transpose of the matrix: \n",
      " [[1 4 7]\n",
      " [2 5 8]\n",
      " [3 6 9]]\n"
     ]
    }
   ],
   "source": [
    "import numpy as np\n",
    "\n",
    "# Creating a 3x3 matrix\n",
    "matrix = np.array([[1, 2, 3],\n",
    "                   [4, 5, 6],\n",
    "                   [7, 8, 9]])\n",
    "\n",
    "# Finding the transpose of the matrix\n",
    "transpose_matrix = matrix.T\n",
    "transpose_matrix2 = np.transpose(matrix)\n",
    "\n",
    "print(\"Original Matrix:\\n\", matrix)\n",
    "print(\"Transpose of the Matrix:\\n\", transpose_matrix)\n",
    "print(\"Transpose of the matrix: \\n\", transpose_matrix2)\n"
   ]
  },
  {
   "cell_type": "code",
   "execution_count": 10,
   "id": "8e1cd74b-681b-4c82-bc25-2deb7abb9796",
   "metadata": {},
   "outputs": [
    {
     "name": "stdout",
     "output_type": "stream",
     "text": [
      "[[1. 0. 0.]\n",
      " [0. 1. 0.]\n",
      " [0. 0. 1.]]\n"
     ]
    }
   ],
   "source": [
    "identity_matrix = np.eye(3)\n",
    "print(identity_matrix)"
   ]
  },
  {
   "cell_type": "code",
   "execution_count": 18,
   "id": "b9c32478-5c95-4f1f-89aa-f2d0a6ee7ff3",
   "metadata": {},
   "outputs": [
    {
     "name": "stdout",
     "output_type": "stream",
     "text": [
      "[[2 0 0 0 0 0]\n",
      " [0 3 0 0 0 0]\n",
      " [0 0 4 0 0 0]\n",
      " [0 0 0 5 0 0]\n",
      " [0 0 0 0 6 0]\n",
      " [0 0 0 0 0 7]]\n"
     ]
    }
   ],
   "source": [
    "diagonal = np.diag([2,3,4,5,6,7])\n",
    "print(diagonal)"
   ]
  },
  {
   "cell_type": "code",
   "execution_count": 20,
   "id": "51b62c74-b7b8-4ab5-b69f-36c513a7bf80",
   "metadata": {},
   "outputs": [
    {
     "name": "stdout",
     "output_type": "stream",
     "text": [
      "\n",
      "Diagonal Elements:\n",
      "[5 4 2]\n"
     ]
    }
   ],
   "source": [
    "# Create a matrix\n",
    "matrix = np.array([[5, 1, 3],\n",
    "                   [7, 4, 6],\n",
    "                   [9, 8, 2]])\n",
    "\n",
    "# Extract the diagonal elements\n",
    "diagonal_elements = np.diag(matrix)\n",
    "\n",
    "print(\"\\nDiagonal Elements:\")\n",
    "print(diagonal_elements)\n"
   ]
  },
  {
   "cell_type": "code",
   "execution_count": 22,
   "id": "59b51c0e-c9ce-4f06-89ec-3c93f70b9e61",
   "metadata": {},
   "outputs": [
    {
     "name": "stdout",
     "output_type": "stream",
     "text": [
      "\n",
      "Result of Multiplying with Diagonal Matrix:\n",
      "[[ 1  2  3]\n",
      " [ 8 10 12]\n",
      " [21 24 27]]\n"
     ]
    }
   ],
   "source": [
    "# Create a matrix\n",
    "matrix = np.array([[1, 2, 3],\n",
    "                   [4, 5, 6],\n",
    "                   [7, 8, 9]])\n",
    "\n",
    "# Create a diagonal matrix\n",
    "diagonal_matrix = np.diag([1, 2, 3])\n",
    "\n",
    "# Multiply the matrix with the diagonal matrix\n",
    "result = np.dot(diagonal_matrix, matrix)\n",
    "\n",
    "print(\"\\nResult of Multiplying with Diagonal Matrix:\")\n",
    "print(result)\n"
   ]
  },
  {
   "cell_type": "code",
   "execution_count": null,
   "id": "e0f2f8a7-07fb-4667-95da-020e1b7d4b9a",
   "metadata": {},
   "outputs": [],
   "source": []
  }
 ],
 "metadata": {
  "kernelspec": {
   "display_name": "Python 3 (ipykernel)",
   "language": "python",
   "name": "python3"
  },
  "language_info": {
   "codemirror_mode": {
    "name": "ipython",
    "version": 3
   },
   "file_extension": ".py",
   "mimetype": "text/x-python",
   "name": "python",
   "nbconvert_exporter": "python",
   "pygments_lexer": "ipython3",
   "version": "3.12.4"
  }
 },
 "nbformat": 4,
 "nbformat_minor": 5
}
