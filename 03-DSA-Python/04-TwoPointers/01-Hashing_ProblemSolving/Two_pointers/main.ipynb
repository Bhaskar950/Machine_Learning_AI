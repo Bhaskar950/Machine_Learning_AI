{
 "cells": [
  {
   "cell_type": "code",
   "execution_count": 42,
   "id": "a74da5c4-fb00-4fa5-b1b7-ab0346b38aac",
   "metadata": {},
   "outputs": [
    {
     "name": "stdout",
     "output_type": "stream",
     "text": [
      "[0, 5]\n"
     ]
    }
   ],
   "source": [
    "def two_sum(arr,target):\n",
    "    arr = sorted(arr)\n",
    "    pointer_one = 0\n",
    "    pointer_two = len(arr) - 1\n",
    "    while pointer_one < pointer_two:\n",
    "        current_sum = arr[pointer_one] + arr[pointer_two]\n",
    "\n",
    "        if current_sum == target:\n",
    "            return [pointer_one,pointer_two]\n",
    "        elif current_sum < target:\n",
    "            pointer_one += 1\n",
    "        else:\n",
    "            pointer_two -= 1\n",
    "    return None\n",
    "\n",
    "\n",
    "arr = [ 1,9,8,4,5,6,7]  #two pointer technique works well on sorted array to sort nlogn timecomplexity\n",
    "target = 9\n",
    "\n",
    "print(two_sum(arr,target))\n",
    "\n"
   ]
  },
  {
   "cell_type": "code",
   "execution_count": 43,
   "id": "728553a5",
   "metadata": {},
   "outputs": [
    {
     "name": "stdout",
     "output_type": "stream",
     "text": [
      "[0, 2]\n"
     ]
    }
   ],
   "source": [
    "# if unsorted dict gives better time complexity\n",
    "\n",
    "def twoSum(arr,target):\n",
    "    hash_map = {}\n",
    "    for i , num in enumerate(arr):\n",
    "        complement = target - num\n",
    "        if complement in hash_map:\n",
    "            return [hash_map[complement] , i]\n",
    "\n",
    "        hash_map[num] = i\n",
    "    return None\n",
    "arr = [1, 9, 8, 4, 5, 6, 7]\n",
    "target = 9\n",
    "\n",
    "print(twoSum(arr, target))\n"
   ]
  },
  {
   "cell_type": "code",
   "execution_count": 44,
   "id": "f13abadf",
   "metadata": {},
   "outputs": [
    {
     "name": "stdout",
     "output_type": "stream",
     "text": [
      "(7, [1, 3, 4, 5, 6, 7, 4])\n"
     ]
    }
   ],
   "source": [
    "# remove_duplicates\n",
    "def remove_duplicates(arr):\n",
    "    if not arr:\n",
    "        return 0\n",
    "\n",
    "    write_index = 1\n",
    "\n",
    "    for i in range(1,len(arr)):\n",
    "        if arr[i] != arr[i - 1]:\n",
    "            arr[write_index] = arr[i]\n",
    "            write_index += 1\n",
    "    return write_index, arr[:write_index]\n",
    "arr = [1, 1,3,4,5,5,5,6,7,4,4]\n",
    "print(remove_duplicates(arr))"
   ]
  },
  {
   "cell_type": "code",
   "execution_count": 45,
   "id": "6efcb210",
   "metadata": {},
   "outputs": [
    {
     "name": "stdout",
     "output_type": "stream",
     "text": [
      "[1, 3, 12, 0, 0]\n"
     ]
    }
   ],
   "source": [
    "# move_zeros\n",
    "def move_zeros(arr):\n",
    "    left = 0\n",
    "    for right in range(len(arr)):\n",
    "        if arr[right] != 0:\n",
    "            arr[left] , arr[right] = arr[right],arr[left]\n",
    "            left += 1\n",
    "nums = [0, 1, 0, 3, 12]\n",
    "move_zeros(nums)\n",
    "print(nums) "
   ]
  },
  {
   "cell_type": "code",
   "execution_count": null,
   "id": "7527842a",
   "metadata": {},
   "outputs": [],
   "source": []
  }
 ],
 "metadata": {
  "kernelspec": {
   "display_name": "Python 3 (ipykernel)",
   "language": "python",
   "name": "python3"
  },
  "language_info": {
   "codemirror_mode": {
    "name": "ipython",
    "version": 3
   },
   "file_extension": ".py",
   "mimetype": "text/x-python",
   "name": "python",
   "nbconvert_exporter": "python",
   "pygments_lexer": "ipython3",
   "version": "3.12.4"
  }
 },
 "nbformat": 4,
 "nbformat_minor": 5
}
