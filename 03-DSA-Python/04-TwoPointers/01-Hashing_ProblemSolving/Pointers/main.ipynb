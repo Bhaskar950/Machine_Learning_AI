{
 "cells": [
  {
   "cell_type": "code",
   "execution_count": 3,
   "id": "4860d4ae-bebd-4cb8-b0da-daa1d8c27f80",
   "metadata": {},
   "outputs": [
    {
     "ename": "SyntaxError",
     "evalue": "invalid syntax. Perhaps you forgot a comma? (3586265982.py, line 4)",
     "output_type": "error",
     "traceback": [
      "\u001b[0;36m  Cell \u001b[0;32mIn[3], line 4\u001b[0;36m\u001b[0m\n\u001b[0;31m    print(\"\\num1 points to :\" id(num1))\u001b[0m\n\u001b[0m          ^\u001b[0m\n\u001b[0;31mSyntaxError\u001b[0m\u001b[0;31m:\u001b[0m invalid syntax. Perhaps you forgot a comma?\n"
     ]
    }
   ],
   "source": [
    "num1 = 9\n",
    "num2 = num1\n",
    "print(num1,num2)\n",
    "print(\"\\num1 points to :\" id(num1))\n",
    "print(\"num2 points to :\" id(num2))"
   ]
  },
  {
   "cell_type": "code",
   "execution_count": 12,
   "id": "5b884e78-cbb5-4149-8140-25014688ab2e",
   "metadata": {},
   "outputs": [
    {
     "name": "stdout",
     "output_type": "stream",
     "text": [
      "num1: 9 num2: 9\n",
      "num1 points to : 4351597160\n",
      "num2 points to : 4351597160\n",
      "num1: 9 num2: 10\n",
      "\n",
      "um1 points to : 4351597160\n",
      "num2 points to : 4351597192\n"
     ]
    }
   ],
   "source": [
    "num1 = 9\n",
    "num2 = num1\n",
    "print(\"num1:\",num1,'num2:',num2)\n",
    "print(\"num1 points to :\", id(num1))\n",
    "print(\"num2 points to :\", id(num2))\n",
    "num2 = 10\n",
    "print(\"num1:\",num1,'num2:',num2)\n",
    "print(\"\\num1 points to :\", id(num1))\n",
    "print(\"num2 points to :\", id(num2))"
   ]
  },
  {
   "cell_type": "code",
   "execution_count": 16,
   "id": "5235cc80-bb02-4e77-8668-2e3f71db14d1",
   "metadata": {},
   "outputs": [
    {
     "name": "stdout",
     "output_type": "stream",
     "text": [
      "num1: [9, 5, 5, 6] num2: [9, 5, 5, 6]\n",
      "num1 points to : 4699336896\n",
      "num2 points to : 4699336896\n",
      "num1: [9, 77, 5, 5, 6, 10] num2: [9, 77, 5, 5, 6, 10]\n",
      "num1 points to : 4699336896\n",
      "num2 points to : 4699336896\n"
     ]
    }
   ],
   "source": [
    "num1 = [9,5,5,6]\n",
    "num2 = num1\n",
    "print(\"num1:\",num1,'num2:',num2)\n",
    "print(\"num1 points to :\", id(num1))\n",
    "print(\"num2 points to :\", id(num2))\n",
    "num2.append(10)\n",
    "num2.insert(1,77)\n",
    "print(\"num1:\",num1,'num2:',num2)\n",
    "print(\"num1 points to :\", id(num1))\n",
    "print(\"num2 points to :\", id(num2))"
   ]
  },
  {
   "cell_type": "code",
   "execution_count": null,
   "id": "49d9edff-1a10-4bb9-9ccc-b440c6e39615",
   "metadata": {},
   "outputs": [],
   "source": []
  }
 ],
 "metadata": {
  "kernelspec": {
   "display_name": "Python 3 (ipykernel)",
   "language": "python",
   "name": "python3"
  },
  "language_info": {
   "codemirror_mode": {
    "name": "ipython",
    "version": 3
   },
   "file_extension": ".py",
   "mimetype": "text/x-python",
   "name": "python",
   "nbconvert_exporter": "python",
   "pygments_lexer": "ipython3",
   "version": "3.12.4"
  }
 },
 "nbformat": 4,
 "nbformat_minor": 5
}
