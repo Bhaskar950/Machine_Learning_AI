{
 "cells": [
  {
   "cell_type": "code",
   "execution_count": 14,
   "id": "998102fd-b18f-47d5-865f-1b833010da6b",
   "metadata": {},
   "outputs": [
    {
     "name": "stdout",
     "output_type": "stream",
     "text": [
      "1\n",
      "1\n",
      "1\n",
      "1\n"
     ]
    }
   ],
   "source": [
    "num = [1,3,4,5]\n",
    "for i in num:\n",
    "    print(i)\n",
    "    print(num[0])\n"
   ]
  },
  {
   "cell_type": "code",
   "execution_count": 8,
   "id": "741904a8-9757-452e-9219-89420a6d46d0",
   "metadata": {},
   "outputs": [
    {
     "name": "stdout",
     "output_type": "stream",
     "text": [
      "0 1\n",
      "1 2\n",
      "2 3\n",
      "3 9\n"
     ]
    }
   ],
   "source": [
    "list = [1,2,3,9]\n",
    "for i,num in enumerate(list):\n",
    "    print(i,num)"
   ]
  },
  {
   "cell_type": "code",
   "execution_count": 17,
   "id": "d59c08a6-297a-4d4b-90ef-13668ba1c97f",
   "metadata": {},
   "outputs": [
    {
     "name": "stdout",
     "output_type": "stream",
     "text": [
      "28888\n"
     ]
    }
   ],
   "source": [
    "def find_maximum(nums):\n",
    "    max_num = nums[0]\n",
    "    for num in nums:\n",
    "        if num > max_num:\n",
    "            max_num = num\n",
    "    return max_num\n",
    "            \n",
    "nums = [3, 1, 4, 1, 5, 9, 28888, 6, 5]\n",
    "print(find_maximum(nums))  # Output: 9  \n",
    "    "
   ]
  },
  {
   "cell_type": "code",
   "execution_count": 22,
   "id": "94bf96c9-e07d-487e-a070-c93f702b15c9",
   "metadata": {},
   "outputs": [
    {
     "name": "stdout",
     "output_type": "stream",
     "text": [
      "288\n"
     ]
    }
   ],
   "source": [
    "def max_num(nums):\n",
    "    max_num = nums[0]\n",
    "    for num in nums:\n",
    "        if num > max_num:\n",
    "            \n",
    "            max_num = num\n",
    "    return max_num\n",
    "    \n",
    "nums = [3, 1, 4, 1, 5, 9, 288, 6, 5]\n",
    "print(find_maximum(nums))  # Output: 9    "
   ]
  },
  {
   "cell_type": "code",
   "execution_count": 10,
   "id": "6619da21-10ef-4635-8f91-a4a3556aa249",
   "metadata": {},
   "outputs": [
    {
     "name": "stdout",
     "output_type": "stream",
     "text": [
      "600\n"
     ]
    }
   ],
   "source": [
    "def max(nums):\n",
    "    max_num = nums[0]\n",
    "    for num in nums:\n",
    "        if num > max_num:\n",
    "            max_num = num\n",
    "    print(max_num)\n",
    "max([0000,600,1.5])\n",
    "            "
   ]
  },
  {
   "cell_type": "code",
   "execution_count": 22,
   "id": "ee2f67b9-b672-4557-8904-d5a703739751",
   "metadata": {},
   "outputs": [
    {
     "name": "stdout",
     "output_type": "stream",
     "text": [
      "True\n"
     ]
    }
   ],
   "source": [
    "# check if a list contain a number\n",
    "\n",
    "def contains_number(nums,target):\n",
    "    for num in nums:\n",
    "        if num == target:\n",
    "            return True\n",
    "    else:\n",
    "        return False\n",
    "        \n",
    "array = [1,2,3,5,7]\n",
    "tar = 2\n",
    "targets = contains_number(array,tar)\n",
    "print(targets)"
   ]
  },
  {
   "cell_type": "code",
   "execution_count": 28,
   "id": "32404f8f-92de-452a-beec-716f0bf84b9c",
   "metadata": {},
   "outputs": [
    {
     "name": "stdout",
     "output_type": "stream",
     "text": [
      "11\n"
     ]
    }
   ],
   "source": [
    "def sum_of_number(nums):\n",
    "    count = 0\n",
    "    for num in nums:\n",
    "        count = count + num\n",
    "        \n",
    "    return count\n",
    "nums = [1,2,3,5]\n",
    "total = sum_of_number(nums)\n",
    "print(total)"
   ]
  },
  {
   "cell_type": "code",
   "execution_count": 31,
   "id": "ad6b0995-2c46-4561-ac9d-83ea7eb2b55b",
   "metadata": {},
   "outputs": [
    {
     "name": "stdout",
     "output_type": "stream",
     "text": [
      "olleh\n"
     ]
    }
   ],
   "source": [
    "def reverse_str(str):\n",
    "    return str[::-1].lower()\n",
    "str = \"Hello\"\n",
    "print(reverse_str(str))"
   ]
  },
  {
   "cell_type": "code",
   "execution_count": 39,
   "id": "db2e3a38-556e-402d-8862-dde84f532f13",
   "metadata": {},
   "outputs": [
    {
     "name": "stdout",
     "output_type": "stream",
     "text": [
      "helloraksahb olleh\n"
     ]
    }
   ],
   "source": [
    "def reverse_str(str):\n",
    "    rever_st = \"hello\"\n",
    "    for s in str[::-1]:\n",
    "        rever_st += s\n",
    "    return rever_st\n",
    "print(reverse_str(\"hello bhaskar\"))\n",
    "        "
   ]
  },
  {
   "cell_type": "code",
   "execution_count": 50,
   "id": "2289bee1-b0ef-492f-a6ad-95e392ab9bf4",
   "metadata": {},
   "outputs": [
    {
     "name": "stdout",
     "output_type": "stream",
     "text": [
      "['5', '4', '3', '1']\n",
      "5431\n"
     ]
    }
   ],
   "source": [
    "def reverse_str(str):\n",
    "    lst = list(str)\n",
    "    lst.reverse()\n",
    "    print(lst)\n",
    "    return \"\".join(lst) \n",
    "str = [\"1\",\"3\",\"4\",\"5\"]\n",
    "print(reverse_str(str))"
   ]
  },
  {
   "cell_type": "code",
   "execution_count": 55,
   "id": "f72c051a-66a7-418c-b7f8-0edbd025fb91",
   "metadata": {},
   "outputs": [
    {
     "name": "stdout",
     "output_type": "stream",
     "text": [
      "9\n"
     ]
    }
   ],
   "source": [
    "# count vowels\n",
    "def vowels_count(str):\n",
    "    vowels = {\"a\",\"e\",\"i\",\"o\",\"u\"}\n",
    "    count = 0\n",
    "    for char in str:\n",
    "        if char in vowels:\n",
    "            count += 1\n",
    "    return count\n",
    "\n",
    "\n",
    "print(vowels_count(\"hello world worldwoiiiirld\"))\n",
    "    \n"
   ]
  },
  {
   "cell_type": "code",
   "execution_count": null,
   "id": "83fff977-2c20-4e04-874f-867ab4eb1faa",
   "metadata": {},
   "outputs": [],
   "source": []
  }
 ],
 "metadata": {
  "kernelspec": {
   "display_name": "Python 3 (ipykernel)",
   "language": "python",
   "name": "python3"
  },
  "language_info": {
   "codemirror_mode": {
    "name": "ipython",
    "version": 3
   },
   "file_extension": ".py",
   "mimetype": "text/x-python",
   "name": "python",
   "nbconvert_exporter": "python",
   "pygments_lexer": "ipython3",
   "version": "3.12.4"
  }
 },
 "nbformat": 4,
 "nbformat_minor": 5
}
