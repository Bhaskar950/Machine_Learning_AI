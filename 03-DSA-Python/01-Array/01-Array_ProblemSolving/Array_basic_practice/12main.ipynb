{
 "cells": [
  {
   "cell_type": "code",
   "execution_count": 28,
   "id": "8d5051f5-7a2b-464e-a466-87041314eb9b",
   "metadata": {},
   "outputs": [
    {
     "name": "stdout",
     "output_type": "stream",
     "text": [
      "3\n"
     ]
    }
   ],
   "source": [
    "# String problems dsa\n",
    "\n",
    "def countChar(words):\n",
    "    count = 0\n",
    "    for i in words:\n",
    "        count += 1\n",
    "    return count\n",
    "words = [\"hello\", \"world\", \"leetcode\"]\n",
    "print(countChar(words))\n",
    "\n"
   ]
  },
  {
   "cell_type": "code",
   "execution_count": 39,
   "id": "7602256e-c856-480b-bfd0-946d0702cf27",
   "metadata": {},
   "outputs": [
    {
     "name": "stdout",
     "output_type": "stream",
     "text": [
      "5\n",
      "5\n",
      "8\n",
      "18\n"
     ]
    }
   ],
   "source": [
    "def countChar(words):\n",
    "    count = 0\n",
    "    for word in words:\n",
    "        count = count + len(word)\n",
    "        leng = len(word)\n",
    "        print(leng)\n",
    "\n",
    "    return count\n",
    "words = [\"hello\", \"world\", \"leetcode\"]\n",
    "print(countChar(words))\n",
    "\n"
   ]
  },
  {
   "cell_type": "code",
   "execution_count": 49,
   "id": "5e8111ba-6901-4e87-a2f1-7a1012290e72",
   "metadata": {},
   "outputs": [
    {
     "name": "stdout",
     "output_type": "stream",
     "text": [
      "['hello', 'my', 'name', 'is', 'bhaskar']\n"
     ]
    },
    {
     "data": {
      "text/plain": [
       "5"
      ]
     },
     "execution_count": 49,
     "metadata": {},
     "output_type": "execute_result"
    }
   ],
   "source": [
    "def countSegments(s):\n",
    "    val = (s.split())\n",
    "    print(val)\n",
    "    return len(s.split())\n",
    "s = \"hello my name is bhaskar\"\n",
    "countSegments(s)"
   ]
  },
  {
   "cell_type": "code",
   "execution_count": 51,
   "id": "18f1f185-553b-435a-8a1f-12b190fd3adf",
   "metadata": {},
   "outputs": [
    {
     "name": "stdout",
     "output_type": "stream",
     "text": [
      "7\n"
     ]
    }
   ],
   "source": [
    "def lenLastWord(s):\n",
    "    return len(s.strip().split()[-1])\n",
    "s = \"hello my name is bhaskar\"\n",
    "print(lenLastWord(s))\n",
    "    "
   ]
  },
  {
   "cell_type": "code",
   "execution_count": 53,
   "id": "47aab9bd-4e53-4b7e-b52a-3d09ce761fad",
   "metadata": {},
   "outputs": [
    {
     "name": "stdout",
     "output_type": "stream",
     "text": [
      "bhaskar is name my hello\n"
     ]
    }
   ],
   "source": [
    "def reverseString(s):\n",
    "    return \" \".join(s.split()[::-1])\n",
    "s = \"hello my name is bhaskar\"\n",
    "print(reverseString(s))\n"
   ]
  },
  {
   "cell_type": "code",
   "execution_count": null,
   "id": "ce0829a5-88b0-46ad-920b-b8c1a19fa91d",
   "metadata": {},
   "outputs": [],
   "source": []
  }
 ],
 "metadata": {
  "kernelspec": {
   "display_name": "Python 3 (ipykernel)",
   "language": "python",
   "name": "python3"
  },
  "language_info": {
   "codemirror_mode": {
    "name": "ipython",
    "version": 3
   },
   "file_extension": ".py",
   "mimetype": "text/x-python",
   "name": "python",
   "nbconvert_exporter": "python",
   "pygments_lexer": "ipython3",
   "version": "3.12.4"
  }
 },
 "nbformat": 4,
 "nbformat_minor": 5
}
