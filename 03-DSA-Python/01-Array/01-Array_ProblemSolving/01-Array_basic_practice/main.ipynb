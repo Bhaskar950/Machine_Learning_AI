{
 "cells": [
  {
   "cell_type": "code",
   "execution_count": 14,
   "id": "998102fd-b18f-47d5-865f-1b833010da6b",
   "metadata": {},
   "outputs": [
    {
     "name": "stdout",
     "output_type": "stream",
     "text": [
      "1\n",
      "1\n",
      "1\n",
      "1\n"
     ]
    }
   ],
   "source": [
    "num = [1,3,4,5]\n",
    "for i in num:\n",
    "    print(i)\n",
    "    print(num[0])\n"
   ]
  },
  {
   "cell_type": "code",
   "execution_count": 8,
   "id": "741904a8-9757-452e-9219-89420a6d46d0",
   "metadata": {},
   "outputs": [
    {
     "name": "stdout",
     "output_type": "stream",
     "text": [
      "0 1\n",
      "1 2\n",
      "2 3\n",
      "3 9\n"
     ]
    }
   ],
   "source": [
    "list = [1,2,3,9]\n",
    "for i,num in enumerate(list):\n",
    "    print(i,num)"
   ]
  },
  {
   "cell_type": "code",
   "execution_count": 17,
   "id": "d59c08a6-297a-4d4b-90ef-13668ba1c97f",
   "metadata": {},
   "outputs": [
    {
     "name": "stdout",
     "output_type": "stream",
     "text": [
      "28888\n"
     ]
    }
   ],
   "source": [
    "def find_maximum(nums):\n",
    "    max_num = nums[0]\n",
    "    for num in nums:\n",
    "        if num > max_num:\n",
    "            max_num = num\n",
    "    return max_num\n",
    "            \n",
    "nums = [3, 1, 4, 1, 5, 9, 28888, 6, 5]\n",
    "print(find_maximum(nums))  # Output: 9  \n",
    "    "
   ]
  },
  {
   "cell_type": "code",
   "execution_count": 22,
   "id": "94bf96c9-e07d-487e-a070-c93f702b15c9",
   "metadata": {},
   "outputs": [
    {
     "name": "stdout",
     "output_type": "stream",
     "text": [
      "288\n"
     ]
    }
   ],
   "source": [
    "def max_num(nums):\n",
    "    max_num = nums[0]\n",
    "    for num in nums:\n",
    "        if num > max_num:\n",
    "            \n",
    "            max_num = num\n",
    "    return max_num\n",
    "    \n",
    "nums = [3, 1, 4, 1, 5, 9, 288, 6, 5]\n",
    "print(find_maximum(nums))  # Output: 9    "
   ]
  },
  {
   "cell_type": "code",
   "execution_count": 10,
   "id": "6619da21-10ef-4635-8f91-a4a3556aa249",
   "metadata": {},
   "outputs": [
    {
     "name": "stdout",
     "output_type": "stream",
     "text": [
      "600\n"
     ]
    }
   ],
   "source": [
    "def max(nums):\n",
    "    max_num = nums[0]\n",
    "    for num in nums:\n",
    "        if num > max_num:\n",
    "            max_num = num\n",
    "    print(max_num)\n",
    "max([0000,600,1.5])\n",
    "            "
   ]
  },
  {
   "cell_type": "code",
   "execution_count": 22,
   "id": "ee2f67b9-b672-4557-8904-d5a703739751",
   "metadata": {},
   "outputs": [
    {
     "name": "stdout",
     "output_type": "stream",
     "text": [
      "True\n"
     ]
    }
   ],
   "source": [
    "# check if a list contain a number\n",
    "\n",
    "def contains_number(nums,target):\n",
    "    for num in nums:\n",
    "        if num == target:\n",
    "            return True\n",
    "    else:\n",
    "        return False\n",
    "        \n",
    "array = [1,2,3,5,7]\n",
    "tar = 2\n",
    "targets = contains_number(array,tar)\n",
    "print(targets)"
   ]
  },
  {
   "cell_type": "code",
   "execution_count": 28,
   "id": "32404f8f-92de-452a-beec-716f0bf84b9c",
   "metadata": {},
   "outputs": [
    {
     "name": "stdout",
     "output_type": "stream",
     "text": [
      "11\n"
     ]
    }
   ],
   "source": [
    "def sum_of_number(nums):\n",
    "    count = 0\n",
    "    for num in nums:\n",
    "        count = count + num\n",
    "        \n",
    "    return count\n",
    "nums = [1,2,3,5]\n",
    "total = sum_of_number(nums)\n",
    "print(total)"
   ]
  },
  {
   "cell_type": "code",
   "execution_count": 31,
   "id": "ad6b0995-2c46-4561-ac9d-83ea7eb2b55b",
   "metadata": {},
   "outputs": [
    {
     "name": "stdout",
     "output_type": "stream",
     "text": [
      "olleh\n"
     ]
    }
   ],
   "source": [
    "def reverse_str(str):\n",
    "    return str[::-1].lower()\n",
    "str = \"Hello\"\n",
    "print(reverse_str(str))"
   ]
  },
  {
   "cell_type": "code",
   "execution_count": 39,
   "id": "db2e3a38-556e-402d-8862-dde84f532f13",
   "metadata": {},
   "outputs": [
    {
     "name": "stdout",
     "output_type": "stream",
     "text": [
      "helloraksahb olleh\n"
     ]
    }
   ],
   "source": [
    "def reverse_str(str):\n",
    "    rever_st = \"hello\"\n",
    "    for s in str[::-1]:\n",
    "        rever_st += s\n",
    "    return rever_st\n",
    "print(reverse_str(\"hello bhaskar\"))\n",
    "        "
   ]
  },
  {
   "cell_type": "code",
   "execution_count": 50,
   "id": "2289bee1-b0ef-492f-a6ad-95e392ab9bf4",
   "metadata": {},
   "outputs": [
    {
     "name": "stdout",
     "output_type": "stream",
     "text": [
      "['5', '4', '3', '1']\n",
      "5431\n"
     ]
    }
   ],
   "source": [
    "def reverse_str(str):\n",
    "    lst = list(str)\n",
    "    lst.reverse()\n",
    "    print(lst)\n",
    "    return \"\".join(lst) \n",
    "str = [\"1\",\"3\",\"4\",\"5\"]\n",
    "print(reverse_str(str))"
   ]
  },
  {
   "cell_type": "code",
   "execution_count": 55,
   "id": "f72c051a-66a7-418c-b7f8-0edbd025fb91",
   "metadata": {},
   "outputs": [
    {
     "name": "stdout",
     "output_type": "stream",
     "text": [
      "9\n"
     ]
    }
   ],
   "source": [
    "# count vowels\n",
    "def vowels_count(str):\n",
    "    vowels = {\"a\",\"e\",\"i\",\"o\",\"u\"}\n",
    "    count = 0\n",
    "    for char in str:\n",
    "        if char in vowels:\n",
    "            count += 1\n",
    "    return count\n",
    "\n",
    "\n",
    "print(vowels_count(\"hello world worldwoiiiirld\"))\n",
    "    \n"
   ]
  },
  {
   "cell_type": "code",
   "execution_count": 30,
   "id": "83fff977-2c20-4e04-874f-867ab4eb1faa",
   "metadata": {},
   "outputs": [
    {
     "name": "stdout",
     "output_type": "stream",
     "text": [
      "*\n",
      "**\n",
      "***\n",
      "****\n",
      "*****\n"
     ]
    }
   ],
   "source": [
    "for i in range(5):\n",
    "    for j in  range(i+1):\n",
    "        print('*',end='')\n",
    "    print('')"
   ]
  },
  {
   "cell_type": "code",
   "execution_count": 50,
   "id": "f4df4150-6d2b-427a-bfcf-fce733900c59",
   "metadata": {},
   "outputs": [
    {
     "name": "stdout",
     "output_type": "stream",
     "text": [
      "105\n",
      "None\n"
     ]
    }
   ],
   "source": [
    "# pair sum\n",
    "\n",
    "def sum_n(arr):\n",
    "    n = len(arr)\n",
    "    count = 0\n",
    "    for i in range(n):\n",
    "        print(arr[i])\n",
    "        for j in range(i+1,n):\n",
    "            count += arr[i] + arr[j]\n",
    "    return count\n",
    "\n",
    "arr = [1,2,3,4,5,6]\n",
    "print(sum(arr))"
   ]
  },
  {
   "cell_type": "code",
   "execution_count": 67,
   "id": "6752891b-958e-46c8-a055-24a085f3e260",
   "metadata": {},
   "outputs": [
    {
     "name": "stdout",
     "output_type": "stream",
     "text": [
      "15\n"
     ]
    }
   ],
   "source": [
    "# sum\n",
    "\n",
    "def sum_numbers(arr):\n",
    "    count = 0\n",
    "    for i in arr:\n",
    "        # print(arr[i])\n",
    "        count += i\n",
    "    return count\n",
    "\n",
    "arr = [1,2,3,4,5]\n",
    "print(sum_numbers(arr))\n"
   ]
  },
  {
   "cell_type": "code",
   "execution_count": 52,
   "id": "6633b3be-f338-480a-8469-5a57c2837a8f",
   "metadata": {},
   "outputs": [
    {
     "name": "stdout",
     "output_type": "stream",
     "text": [
      "105\n",
      "None\n"
     ]
    }
   ],
   "source": [
    "def sum_n(arr):\n",
    "    n = len(arr)\n",
    "    count = 0\n",
    "    for i in range(n):\n",
    "        print(arr[i])\n",
    "        for j in range(i+1,n):\n",
    "            count += arr[i] + arr[j]\n",
    "    return count\n",
    "\n",
    "arr = [1,2,3,4,5,6]\n",
    "print(sum(arr))"
   ]
  },
  {
   "cell_type": "code",
   "execution_count": 63,
   "id": "cec5688e-3d1d-4acb-8902-e92afda97c18",
   "metadata": {},
   "outputs": [
    {
     "name": "stdout",
     "output_type": "stream",
     "text": [
      "15\n"
     ]
    }
   ],
   "source": [
    "\n",
    "def sum_numbers(arr):\n",
    "    count = 0\n",
    "    for i in arr:\n",
    "        # print(arr[i])\n",
    "        count += i\n",
    "    return count\n",
    "\n",
    "arr = [1,2,3,4,5]\n",
    "print(sum_numbers(arr))"
   ]
  },
  {
   "cell_type": "code",
   "execution_count": 98,
   "id": "dd4940d5-fcc7-4f8f-93bb-06574655931e",
   "metadata": {},
   "outputs": [
    {
     "name": "stdout",
     "output_type": "stream",
     "text": [
      "120\n"
     ]
    }
   ],
   "source": [
    "# 3. Find the factorial of a number\n",
    "# Write a program to find the factorial of a number using a loop. For example, factorial of 5 is 5*4*3*2*1 = 120.\n",
    "\n",
    "def facto(arr):\n",
    "    result = 1\n",
    "    for i in range(1,arr+1):\n",
    "        result *= i\n",
    "    return result\n",
    "\n",
    "\n",
    "arr = 4+1\n",
    "\n",
    "print(facto(arr))\n"
   ]
  },
  {
   "cell_type": "code",
   "execution_count": 19,
   "id": "e512881a-549c-473f-860d-4dfd270f21b3",
   "metadata": {},
   "outputs": [
    {
     "name": "stdout",
     "output_type": "stream",
     "text": [
      "1\n",
      "2\n",
      "3\n",
      "4\n",
      "5\n",
      "6\n",
      "7\n",
      "8\n",
      "9\n",
      "10\n",
      "None\n"
     ]
    }
   ],
   "source": [
    "# 1. Print Numbers from 1 to N\n",
    "\n",
    "def print_num(n):\n",
    "    for i in range(1,n+1):\n",
    "        val = i\n",
    "        print(val)\n",
    "n = 10\n",
    "print(print_num(n))"
   ]
  },
  {
   "cell_type": "code",
   "execution_count": 33,
   "id": "e1ce3867-c6e9-40a1-9ced-ad2e3e9d98e7",
   "metadata": {},
   "outputs": [
    {
     "name": "stdout",
     "output_type": "stream",
     "text": [
      "3\n"
     ]
    }
   ],
   "source": [
    "# 2. Sum of First N Numbers\n",
    "\n",
    "def sum_of_first_n_numbers(N):\n",
    "    count = 0\n",
    "    for i in range(1,N+1):\n",
    "        count += i\n",
    "    return count\n",
    "\n",
    "N = 2\n",
    "print(sum_of_first_n_numbers(N))\n"
   ]
  },
  {
   "cell_type": "code",
   "execution_count": 43,
   "id": "5b2c5a43-a7cb-4c29-87c0-730db5f7fc13",
   "metadata": {},
   "outputs": [
    {
     "name": "stdout",
     "output_type": "stream",
     "text": [
      "2\n",
      "4\n",
      "6\n",
      "8\n",
      "10\n",
      "None\n"
     ]
    }
   ],
   "source": [
    "# 3. Print Even Numbers up to N\n",
    "\n",
    "def even_num(N):\n",
    "    for i in range(1,N+1):\n",
    "        if i % 2 == 0:\n",
    "            print(i)\n",
    "\n",
    "N = 10\n",
    "print(even_num(N))\n",
    "        "
   ]
  },
  {
   "cell_type": "code",
   "execution_count": 45,
   "id": "d8199750-5490-427d-ab5a-923697dd556a",
   "metadata": {},
   "outputs": [
    {
     "name": "stdout",
     "output_type": "stream",
     "text": [
      "120\n"
     ]
    }
   ],
   "source": [
    "# 4. Factorial of a Number\n",
    "\n",
    "def factorial_num(N):\n",
    "    result = 1\n",
    "    for i in range(1,N+1):\n",
    "        result *= i\n",
    "    return result\n",
    "\n",
    "N = 5\n",
    "\n",
    "print(factorial_num(N))\n",
    "        \n"
   ]
  },
  {
   "cell_type": "code",
   "execution_count": 53,
   "id": "edce55f5-1e4e-48a5-95a2-96fc285bdc6d",
   "metadata": {},
   "outputs": [
    {
     "name": "stdout",
     "output_type": "stream",
     "text": [
      "<function reverse_string at 0x137dff100>\n"
     ]
    }
   ],
   "source": [
    "# 5. Reverse a String\n",
    "\n",
    "def reverse_string(s):\n",
    "    reverse_str = ''\n",
    "    for i in s:\n",
    "        reverse_str += i\n",
    "    return reverse_string\n",
    "\n",
    "s = 'Hello'\n",
    "print(reverse_string(s))"
   ]
  },
  {
   "cell_type": "code",
   "execution_count": 57,
   "id": "858b7a6e-3f72-48ff-8115-c36efe3e916e",
   "metadata": {},
   "outputs": [
    {
     "name": "stdout",
     "output_type": "stream",
     "text": [
      "12\n"
     ]
    }
   ],
   "source": [
    "# 6. Count the Digits in a Number\n",
    "\n",
    "def count_digits(N):\n",
    "    count = 0\n",
    "    while N > 0:\n",
    "        N //= 10\n",
    "        count += 1\n",
    "    return count\n",
    "\n",
    "N = 123459999999\n",
    "print(count_digits(N))\n"
   ]
  },
  {
   "cell_type": "code",
   "execution_count": 63,
   "id": "9cd397da-3741-495d-a9a8-449c196ce4f0",
   "metadata": {},
   "outputs": [
    {
     "name": "stdout",
     "output_type": "stream",
     "text": [
      "5 * 1 = 5\n",
      "5 * 2 = 10\n",
      "5 * 3 = 15\n",
      "5 * 4 = 20\n",
      "5 * 5 = 25\n",
      "5 * 6 = 30\n",
      "5 * 7 = 35\n",
      "5 * 8 = 40\n",
      "5 * 9 = 45\n",
      "5 * 10 = 50\n"
     ]
    }
   ],
   "source": [
    "# 7. Multiplication Table\n",
    "\n",
    "def multi_table(N):\n",
    "    for i in range(1,11):\n",
    "        print(f\"{N} * {i} = {N*i}\" )\n",
    "n = 5\n",
    "multi_table(5)"
   ]
  },
  {
   "cell_type": "code",
   "execution_count": 79,
   "id": "79b9fca3-adc6-4385-a2e6-7a8223ae8b32",
   "metadata": {},
   "outputs": [
    {
     "name": "stdout",
     "output_type": "stream",
     "text": [
      "prime\n",
      "1.4142135623730951\n"
     ]
    }
   ],
   "source": [
    "# 8. Check for Prime Number\n",
    "\n",
    "def check_prime(n):\n",
    "    while n <= 1:\n",
    "        return False\n",
    "    for i in range(2,int(n**0.5) + 1):\n",
    "        if n % i == 0:\n",
    "            return False\n",
    "\n",
    "    return True\n",
    "\n",
    "n = 7\n",
    "print(\"prime\" if check_prime(n) else \"not prime\") \n",
    "print(2**0.5)"
   ]
  },
  {
   "cell_type": "code",
   "execution_count": 85,
   "id": "53b1fb98-96e1-4eca-8b0d-f7b91d9454c1",
   "metadata": {},
   "outputs": [
    {
     "name": "stdout",
     "output_type": "stream",
     "text": [
      "3\n"
     ]
    }
   ],
   "source": [
    "# 9. Sum of Digits in a Number\\\n",
    "\n",
    "def sum_digits(n):\n",
    "    total_sum = 0\n",
    "    while n > 0:\n",
    "        total_sum += n % 10\n",
    "        n //= 10\n",
    "    return total_sum\n",
    "\n",
    "n = 12\n",
    "print(sum_digits(n))"
   ]
  },
  {
   "cell_type": "code",
   "execution_count": 91,
   "id": "dc41e463-5fef-40e0-9889-c755ba28f1a8",
   "metadata": {},
   "outputs": [
    {
     "name": "stdout",
     "output_type": "stream",
     "text": [
      "011235"
     ]
    }
   ],
   "source": [
    "def febonacci(n):\n",
    "    a,b = 0,1\n",
    "    for i in range(n):\n",
    "        print(a,end=\"\")\n",
    "        a,b = b,a+b\n",
    "\n",
    "n = 6\n",
    "(febonacci(n))"
   ]
  },
  {
   "cell_type": "code",
   "execution_count": null,
   "id": "210ebc05-d1b1-4dbf-9347-5b2d2e73f22e",
   "metadata": {},
   "outputs": [],
   "source": []
  }
 ],
 "metadata": {
  "kernelspec": {
   "display_name": "Python 3 (ipykernel)",
   "language": "python",
   "name": "python3"
  },
  "language_info": {
   "codemirror_mode": {
    "name": "ipython",
    "version": 3
   },
   "file_extension": ".py",
   "mimetype": "text/x-python",
   "name": "python",
   "nbconvert_exporter": "python",
   "pygments_lexer": "ipython3",
   "version": "3.12.4"
  }
 },
 "nbformat": 4,
 "nbformat_minor": 5
}
