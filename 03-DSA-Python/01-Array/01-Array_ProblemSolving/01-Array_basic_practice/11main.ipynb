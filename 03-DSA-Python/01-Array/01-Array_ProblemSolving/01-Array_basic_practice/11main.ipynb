{
 "cells": [
  {
   "cell_type": "code",
   "execution_count": 31,
   "id": "76012bdb-17bb-46aa-b75a-785d482a3ba7",
   "metadata": {},
   "outputs": [
    {
     "name": "stdout",
     "output_type": "stream",
     "text": [
      "4\n"
     ]
    }
   ],
   "source": [
    "Remove Element (LeetCode 27)\n",
    "\n",
    "def removeElement(nums,val):\n",
    "    k = 0\n",
    "    for i in range(len(nums)):\n",
    "        if nums[i] != val:\n",
    "            nums[k] = nums[i]\n",
    "            k += 1\n",
    "    return k\n",
    "\n",
    "nums = [1,2,3,3,4,4,3]\n",
    "\n",
    "val = 3\n",
    "print(removeElement(nums,val))\n",
    "    "
   ]
  },
  {
   "cell_type": "code",
   "execution_count": 37,
   "id": "d0066430-273d-42ab-ae68-20bf5288d7fe",
   "metadata": {},
   "outputs": [
    {
     "name": "stdout",
     "output_type": "stream",
     "text": [
      "4\n"
     ]
    }
   ],
   "source": [
    "def removeElement(nums,val):\n",
    "    k = 0\n",
    "    for i in range(len(nums)):\n",
    "        if nums[i] == val:\n",
    "            nums[k] = nums[i]\n",
    "            k += 1\n",
    "    return k\n",
    "\n",
    "nums = [1,2,3,3,3,4,3]\n",
    "\n",
    "val = 3\n",
    "print(removeElement(nums,val))"
   ]
  },
  {
   "cell_type": "code",
   "execution_count": 107,
   "id": "2c4d4c21-c1b4-40f4-9ce2-19487ee20ce0",
   "metadata": {},
   "outputs": [
    {
     "name": "stdout",
     "output_type": "stream",
     "text": [
      "7\n"
     ]
    }
   ],
   "source": [
    "def removeDuplicate_count(nums):\n",
    "    k = 1\n",
    "    for i in range (1,len(nums)):\n",
    "        if nums[i] != nums[i - 1]:\n",
    "            nums[k] = nums[i]\n",
    "            k += 1\n",
    "    return k\n",
    "nums = [1,1,2,3,4,5,6,7] \n",
    "\n",
    "print(removeDuplicate_count(nums))\n"
   ]
  },
  {
   "cell_type": "code",
   "execution_count": 120,
   "id": "1f399332-fcb6-459f-b95b-73388dae86c3",
   "metadata": {},
   "outputs": [
    {
     "name": "stdout",
     "output_type": "stream",
     "text": [
      "True\n"
     ]
    }
   ],
   "source": [
    "def containsDuplicate(nums):\n",
    "  return len(nums) != len(set(nums))\n",
    "nums = [1,2,3,4,1]\n",
    "print(containsDuplicate(nums))"
   ]
  },
  {
   "cell_type": "code",
   "execution_count": 132,
   "id": "0d7fa0bc-89e3-4142-ae19-6310bb19e76b",
   "metadata": {},
   "outputs": [
    {
     "name": "stdout",
     "output_type": "stream",
     "text": [
      "[2, 3, 4, 3, 4, 5, 0, 0, 0, 0]\n"
     ]
    }
   ],
   "source": [
    "def moveZeros(nums):\n",
    "    k = 0\n",
    "    for i in range(len(nums)):\n",
    "        if nums[i] != 0:\n",
    "            nums[k] = nums[i]\n",
    "            k += 1\n",
    "    for i in range (k,len(nums)):\n",
    "        nums[i] = 0\n",
    "    return nums\n",
    "nums = [0,2,3,4,0,0,3,0,4,5] \n",
    "print(moveZeros(nums))\n"
   ]
  },
  {
   "cell_type": "code",
   "execution_count": 146,
   "id": "a323bf63-ec32-497e-851c-1adee1a75b0f",
   "metadata": {},
   "outputs": [
    {
     "name": "stdout",
     "output_type": "stream",
     "text": [
      "9999\n"
     ]
    }
   ],
   "source": [
    "def thirdMax(nums):\n",
    "    nums = list(set(nums))\n",
    "    nums.sort(reverse=True)\n",
    "    if len(nums) > 2:\n",
    "        return nums[2]\n",
    "    else:\n",
    "        return nums[0]\n",
    "nums = [888,999,9999,99999,999999] \n",
    "\n",
    "print(thirdMax(nums))\n"
   ]
  },
  {
   "cell_type": "code",
   "execution_count": null,
   "id": "0fb8680c-2c28-4af5-8ff2-74860ea7019b",
   "metadata": {},
   "outputs": [],
   "source": []
  }
 ],
 "metadata": {
  "kernelspec": {
   "display_name": "Python 3 (ipykernel)",
   "language": "python",
   "name": "python3"
  },
  "language_info": {
   "codemirror_mode": {
    "name": "ipython",
    "version": 3
   },
   "file_extension": ".py",
   "mimetype": "text/x-python",
   "name": "python",
   "nbconvert_exporter": "python",
   "pygments_lexer": "ipython3",
   "version": "3.12.4"
  }
 },
 "nbformat": 4,
 "nbformat_minor": 5
}
