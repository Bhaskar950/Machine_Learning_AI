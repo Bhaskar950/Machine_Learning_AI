{
 "cells": [
  {
   "cell_type": "code",
   "execution_count": 14,
   "id": "3a64a9da-e3c9-4590-98dd-e3d22ea0de6d",
   "metadata": {},
   "outputs": [
    {
     "name": "stdout",
     "output_type": "stream",
     "text": [
      "(1, 56)\n"
     ]
    }
   ],
   "source": [
    "# min and max element\n",
    "\n",
    "def min_max_element(arr):\n",
    "    if not arr:\n",
    "        return None,None\n",
    "    min_arr = arr[0]\n",
    "    max_arr = arr[0]\n",
    "    \n",
    "    for i in arr:\n",
    "        if i > max_arr:\n",
    "            max_arr = i\n",
    "        if i < min_arr:\n",
    "            min_arr = i\n",
    "    return min_arr,max_arr\n",
    "arr = [6,4,1,4,56,7]\n",
    "print(min_max_element(arr))"
   ]
  },
  {
   "cell_type": "code",
   "execution_count": 21,
   "id": "0813aee4-f0a9-48b6-a9c2-5c0528827ac5",
   "metadata": {},
   "outputs": [
    {
     "name": "stdout",
     "output_type": "stream",
     "text": [
      "[1, 6, 5, 4, 3]\n"
     ]
    }
   ],
   "source": [
    "def reverse(arr):\n",
    "    new_arr = []\n",
    "    for i in arr[::-1]:\n",
    "        new_arr.append(i)\n",
    "    return new_arr\n",
    "arr = [3,4,5,6,1]\n",
    "print(reverse(arr))"
   ]
  },
  {
   "cell_type": "code",
   "execution_count": 18,
   "id": "bba9cca5-8eed-4856-9412-8f1e00f1e81b",
   "metadata": {},
   "outputs": [
    {
     "name": "stdout",
     "output_type": "stream",
     "text": [
      "[9, 78, 6, 5]\n"
     ]
    }
   ],
   "source": [
    "`def reverse(arr):\n",
    "    return arr[::-1]\n",
    "arr = [5,6,78,9]\n",
    "print(reverse(arr))"
   ]
  },
  {
   "cell_type": "code",
   "execution_count": 42,
   "id": "251d307b-8b52-4f44-91ba-1ffd035e49b5",
   "metadata": {},
   "outputs": [
    {
     "name": "stdout",
     "output_type": "stream",
     "text": [
      "(99, 1)\n"
     ]
    }
   ],
   "source": [
    "def kth_l_kth_s(arr,k):\n",
    "    arr.sort()\n",
    "    if k <= len(arr):\n",
    "        kth_smallest = arr[k-1]\n",
    "        kth_largest = arr[-k]\n",
    "        return kth_smallest,kth_largest\n",
    "    else:\n",
    "        return f\"k {k} is larger than the array size\"\n",
    "\n",
    "arr = [9,1,4,5,7,5,5,6,7,89,9,6,7,99]\n",
    "print(kth_l_kth_s(arr,3))"
   ]
  },
  {
   "cell_type": "code",
   "execution_count": null,
   "id": "b7e3c8bb-24b3-4951-9679-c64c293ce5bd",
   "metadata": {},
   "outputs": [],
   "source": []
  },
  {
   "cell_type": "code",
   "execution_count": null,
   "id": "0b204407-ff80-46ad-bb59-c72de660ce73",
   "metadata": {},
   "outputs": [],
   "source": []
  }
 ],
 "metadata": {
  "kernelspec": {
   "display_name": "Python 3 (ipykernel)",
   "language": "python",
   "name": "python3"
  },
  "language_info": {
   "codemirror_mode": {
    "name": "ipython",
    "version": 3
   },
   "file_extension": ".py",
   "mimetype": "text/x-python",
   "name": "python",
   "nbconvert_exporter": "python",
   "pygments_lexer": "ipython3",
   "version": "3.12.4"
  }
 },
 "nbformat": 4,
 "nbformat_minor": 5
}
