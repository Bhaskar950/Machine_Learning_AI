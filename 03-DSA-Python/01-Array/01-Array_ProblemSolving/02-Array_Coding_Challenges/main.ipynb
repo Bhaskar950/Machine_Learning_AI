{
 "cells": [
  {
   "cell_type": "code",
   "execution_count": 18,
   "id": "9a955b10-ae08-4616-8d88-db5d72b48d82",
   "metadata": {},
   "outputs": [
    {
     "name": "stdout",
     "output_type": "stream",
     "text": [
      "[2, 3]\n"
     ]
    }
   ],
   "source": [
    "# Array all coding challenges at one place\n",
    "\n",
    "# 1. Two Sum\n",
    "# Brute Force Approach\n",
    "\n",
    "def two_sum_Bruteforce(nums,target):\n",
    "    for i in range(len(nums)):\n",
    "        for j in range(i+1,len(nums)):\n",
    "            if nums[i] + nums[j] == target:\n",
    "                return [i,j]\n",
    "    return []\n",
    "\n",
    "nums = [11, 15,2,7]\n",
    "t = 9\n",
    "print(two_sum_Bruteforce(nums,t))\n"
   ]
  },
  {
   "cell_type": "code",
   "execution_count": 24,
   "id": "2f5fb745-f6a0-49ab-b6c9-65c6e753437a",
   "metadata": {},
   "outputs": [
    {
     "name": "stdout",
     "output_type": "stream",
     "text": [
      "[2, 3]\n"
     ]
    }
   ],
   "source": [
    "# Optimized Approach\n",
    "# two sum\n",
    "\n",
    "def two_sum_optimized(nums,t):\n",
    "    num_map = {}\n",
    "    for i , num in enumerate(nums):\n",
    "        complement = target - num\n",
    "        if complement in num_map:\n",
    "            return [num_map[complement],i]\n",
    "        num_map[num] = i\n",
    "    return []\n",
    "nums = [11, 15,2,7]\n",
    "t = 9\n",
    "print(two_sum_optimized(nums,t))\n"
   ]
  },
  {
   "cell_type": "code",
   "execution_count": 30,
   "id": "9770e995-2079-45c6-82fc-e22f96d45691",
   "metadata": {},
   "outputs": [
    {
     "name": "stdout",
     "output_type": "stream",
     "text": [
      "[2, 3]\n"
     ]
    }
   ],
   "source": [
    "# practice\n",
    "\n",
    "def sum(nums,t):\n",
    "    map = {}\n",
    "    for i , num in enumerate(nums):\n",
    "        complement = t - num\n",
    "        if complement in map:\n",
    "            return [map[complement],i]\n",
    "        map[num] = i\n",
    "    return []\n",
    "\n",
    "print(sum(nums,t))"
   ]
  },
  {
   "cell_type": "code",
   "execution_count": 2,
   "id": "d71bfe0b-ec6a-4e10-a07e-288de9b70ecb",
   "metadata": {},
   "outputs": [
    {
     "name": "stdout",
     "output_type": "stream",
     "text": [
      "5\n"
     ]
    }
   ],
   "source": [
    "# Find the Largest element in an array\n",
    "\n",
    "def largestEle(arr):\n",
    "    arr.sort()\n",
    "    return arr[-1]\n",
    "arr = [1,3,5,2]\n",
    "print(largestEle(arr))\n",
    "\n",
    "\n"
   ]
  },
  {
   "cell_type": "code",
   "execution_count": 85,
   "id": "578fece6-40fd-4461-bd54-3a2479bfabc5",
   "metadata": {},
   "outputs": [
    {
     "name": "stdout",
     "output_type": "stream",
     "text": [
      "77\n"
     ]
    }
   ],
   "source": [
    "# Solution2: Using a max variable\n",
    "# Both range(n) and range(0, n):\n",
    "# range(n):\n",
    "\n",
    "# Start: Defaults to 0 (included).\n",
    "# End: n (excluded).\n",
    "# Generates the sequence: 0, 1, 2, ..., n-1.\n",
    "# range(0, n):\n",
    "\n",
    "# Start: Explicitly set to 0 (included).\n",
    "# End: n (excluded).\n",
    "# Also generates the same sequence: 0, 1, 2, ..., n-1.\n",
    "# Example with n = 4:\n",
    "# For both range(4) and range(0, 4):\n",
    "\n",
    "# Generated Values: 0, 1, 2, 3\n",
    "# Excluded Value: 4 (in both cases)\n",
    "# Summary of Exclusions:\n",
    "# In both cases, the value n is excluded. So if n = 4, 4 is not part of the generated range. The valid indices or values are only 0, 1, 2, and 3.\n",
    "# Practical Implication:\n",
    "# Using either range(n) or range(0, n) in a loop will allow you to safely access all elements of an array or list of length n without going out of bounds.\n",
    "\n",
    "# Example Code:\n",
    "# Here's a simple example to illustrate:\n",
    "\n",
    "# python\n",
    "# Copy code\n",
    "# arr = [10, 20, 30, 40]  # Length is 4\n",
    "\n",
    "# Using range(n)\n",
    "# print(\"Using range(n):\")\n",
    "# for i in range(4):  # or range(0, 4)\n",
    "#     print(arr[i])  # Outputs: 10, 20, 30, 40\n",
    "\n",
    "# # Using range(0, n)\n",
    "# print(\"Using range(0, n):\")\n",
    "# for i in range(0, 4):  # same behavior\n",
    "#     print(arr[i])  # Outputs: 10, 20, 30, 40\n",
    "# Conclusion:\n",
    "# Both range(n) and range(0, n) yield the same sequence of values: 0, 1, 2, ..., n-1.\n",
    "# The number n itself is excluded in both cases, ensuring you don't access an index that is out of bounds. This is essential for safe iteration through lists and arrays in Python.\n",
    "\n",
    "\n",
    "\n",
    "def maxElement(arr):\n",
    "    n = len(arr)\n",
    "    max_val = arr[0]\n",
    "    for i in range(0,n):\n",
    "        if (max_val < arr[i]):\n",
    "            max_val = arr[i]\n",
    "    return max_val\n",
    "\n",
    "arr = [1,2,3,77]\n",
    "\n",
    "print(maxElement(arr))\n"
   ]
  },
  {
   "cell_type": "code",
   "execution_count": null,
   "id": "5eaa75f6-99ab-458b-8de0-5ccb54459da2",
   "metadata": {},
   "outputs": [],
   "source": []
  },
  {
   "cell_type": "code",
   "execution_count": null,
   "id": "06703375-cafe-4aa4-b96a-0882aae14d00",
   "metadata": {},
   "outputs": [],
   "source": []
  }
 ],
 "metadata": {
  "kernelspec": {
   "display_name": "Python 3 (ipykernel)",
   "language": "python",
   "name": "python3"
  },
  "language_info": {
   "codemirror_mode": {
    "name": "ipython",
    "version": 3
   },
   "file_extension": ".py",
   "mimetype": "text/x-python",
   "name": "python",
   "nbconvert_exporter": "python",
   "pygments_lexer": "ipython3",
   "version": "3.12.4"
  }
 },
 "nbformat": 4,
 "nbformat_minor": 5
}
