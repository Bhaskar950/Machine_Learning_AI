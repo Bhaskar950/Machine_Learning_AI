{
 "cells": [
  {
   "cell_type": "code",
   "execution_count": 18,
   "id": "9a955b10-ae08-4616-8d88-db5d72b48d82",
   "metadata": {},
   "outputs": [
    {
     "name": "stdout",
     "output_type": "stream",
     "text": [
      "[2, 3]\n"
     ]
    }
   ],
   "source": [
    "# Array all coding challenges at one place\n",
    "\n",
    "# 1. Two Sum\n",
    "# Brute Force Approach\n",
    "\n",
    "def two_sum_Bruteforce(nums,target):\n",
    "    for i in range(len(nums)):\n",
    "        for j in range(i+1,len(nums)):\n",
    "            if nums[i] + nums[j] == target:\n",
    "                return [i,j]\n",
    "    return []\n",
    "\n",
    "nums = [11, 15,2,7]\n",
    "t = 9\n",
    "print(two_sum_Bruteforce(nums,t))\n"
   ]
  },
  {
   "cell_type": "code",
   "execution_count": 24,
   "id": "2f5fb745-f6a0-49ab-b6c9-65c6e753437a",
   "metadata": {},
   "outputs": [
    {
     "name": "stdout",
     "output_type": "stream",
     "text": [
      "[2, 3]\n"
     ]
    }
   ],
   "source": [
    "# Optimized Approach\n",
    "# two sum\n",
    "\n",
    "def two_sum_optimized(nums,t):\n",
    "    num_map = {}\n",
    "    for i , num in enumerate(nums):\n",
    "        complement = target - num\n",
    "        if complement in num_map:\n",
    "            return [num_map[complement],i]\n",
    "        num_map[num] = i\n",
    "    return []\n",
    "nums = [11, 15,2,7]\n",
    "t = 9\n",
    "print(two_sum_optimized(nums,t))\n"
   ]
  },
  {
   "cell_type": "code",
   "execution_count": 30,
   "id": "9770e995-2079-45c6-82fc-e22f96d45691",
   "metadata": {},
   "outputs": [
    {
     "name": "stdout",
     "output_type": "stream",
     "text": [
      "[2, 3]\n"
     ]
    }
   ],
   "source": [
    "def sum(nums,t):\n",
    "    map = {}\n",
    "    for i , num in enumerate(nums):\n",
    "        complement = t - num\n",
    "        if complement in map:\n",
    "            return [map[complement],i]\n",
    "        map[num] = i\n",
    "    return []\n",
    "\n",
    "print(sum(nums,t))"
   ]
  },
  {
   "cell_type": "code",
   "execution_count": null,
   "id": "d71bfe0b-ec6a-4e10-a07e-288de9b70ecb",
   "metadata": {},
   "outputs": [],
   "source": [
    "# 2. Roman to Integer\n",
    "# Brute Force Approach\n",
    "\n"
   ]
  }
 ],
 "metadata": {
  "kernelspec": {
   "display_name": "Python 3 (ipykernel)",
   "language": "python",
   "name": "python3"
  },
  "language_info": {
   "codemirror_mode": {
    "name": "ipython",
    "version": 3
   },
   "file_extension": ".py",
   "mimetype": "text/x-python",
   "name": "python",
   "nbconvert_exporter": "python",
   "pygments_lexer": "ipython3",
   "version": "3.12.4"
  }
 },
 "nbformat": 4,
 "nbformat_minor": 5
}
