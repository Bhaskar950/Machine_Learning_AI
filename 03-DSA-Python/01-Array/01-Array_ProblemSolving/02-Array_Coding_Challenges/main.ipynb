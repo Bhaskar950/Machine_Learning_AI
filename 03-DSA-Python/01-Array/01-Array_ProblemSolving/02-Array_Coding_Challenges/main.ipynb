{
 "cells": [
  {
   "cell_type": "code",
   "execution_count": 18,
   "id": "9a955b10-ae08-4616-8d88-db5d72b48d82",
   "metadata": {},
   "outputs": [
    {
     "name": "stdout",
     "output_type": "stream",
     "text": [
      "[2, 3]\n"
     ]
    }
   ],
   "source": [
    "# Array all coding challenges at one place\n",
    "\n",
    "# 1. Two Sum\n",
    "# Brute Force Approach\n",
    "\n",
    "def two_sum_Bruteforce(nums,target):\n",
    "    for i in range(len(nums)):\n",
    "        for j in range(i+1,len(nums)):\n",
    "            if nums[i] + nums[j] == target:\n",
    "                return [i,j]\n",
    "    return []\n",
    "\n",
    "nums = [11, 15,2,7]\n",
    "t = 9\n",
    "print(two_sum_Bruteforce(nums,t))\n"
   ]
  },
  {
   "cell_type": "code",
   "execution_count": 24,
   "id": "2f5fb745-f6a0-49ab-b6c9-65c6e753437a",
   "metadata": {},
   "outputs": [
    {
     "name": "stdout",
     "output_type": "stream",
     "text": [
      "[2, 3]\n"
     ]
    }
   ],
   "source": [
    "# Optimized Approach\n",
    "# two sum\n",
    "\n",
    "def two_sum_optimized(nums,t):\n",
    "    num_map = {}\n",
    "    for i , num in enumerate(nums):\n",
    "        complement = target - num\n",
    "        if complement in num_map:\n",
    "            return [num_map[complement],i]\n",
    "        num_map[num] = i\n",
    "    return []\n",
    "nums = [11, 15,2,7]\n",
    "t = 9\n",
    "print(two_sum_optimized(nums,t))\n"
   ]
  },
  {
   "cell_type": "code",
   "execution_count": 30,
   "id": "9770e995-2079-45c6-82fc-e22f96d45691",
   "metadata": {},
   "outputs": [
    {
     "name": "stdout",
     "output_type": "stream",
     "text": [
      "[2, 3]\n"
     ]
    }
   ],
   "source": [
    "# practice\n",
    "\n",
    "def sum(nums,t):\n",
    "    map = {}\n",
    "    for i , num in enumerate(nums):\n",
    "        complement = t - num\n",
    "        if complement in map:\n",
    "            return [map[complement],i]\n",
    "        map[num] = i\n",
    "    return []\n",
    "\n",
    "print(sum(nums,t))"
   ]
  },
  {
   "cell_type": "code",
   "execution_count": 2,
   "id": "d71bfe0b-ec6a-4e10-a07e-288de9b70ecb",
   "metadata": {},
   "outputs": [
    {
     "name": "stdout",
     "output_type": "stream",
     "text": [
      "5\n"
     ]
    }
   ],
   "source": [
    "# Find the Largest element in an array\n",
    "\n",
    "def largestEle(arr):\n",
    "    arr.sort()\n",
    "    return arr[-1]\n",
    "arr = [1,3,5,2]\n",
    "print(largestEle(arr))\n",
    "\n",
    "\n"
   ]
  },
  {
   "cell_type": "code",
   "execution_count": 85,
   "id": "578fece6-40fd-4461-bd54-3a2479bfabc5",
   "metadata": {},
   "outputs": [
    {
     "name": "stdout",
     "output_type": "stream",
     "text": [
      "77\n"
     ]
    }
   ],
   "source": [
    "# Solution2: Using a max variable\n",
    "# Both range(n) and range(0, n):\n",
    "# range(n):\n",
    "\n",
    "# Start: Defaults to 0 (included).\n",
    "# End: n (excluded).\n",
    "# Generates the sequence: 0, 1, 2, ..., n-1.\n",
    "# range(0, n):\n",
    "\n",
    "# Start: Explicitly set to 0 (included).\n",
    "# End: n (excluded).\n",
    "# Also generates the same sequence: 0, 1, 2, ..., n-1.\n",
    "# Example with n = 4:\n",
    "# For both range(4) and range(0, 4):\n",
    "\n",
    "# Generated Values: 0, 1, 2, 3\n",
    "# Excluded Value: 4 (in both cases)\n",
    "# Summary of Exclusions:\n",
    "# In both cases, the value n is excluded. So if n = 4, 4 is not part of the generated range. The valid indices or values are only 0, 1, 2, and 3.\n",
    "# Practical Implication:\n",
    "# Using either range(n) or range(0, n) in a loop will allow you to safely access all elements of an array or list of length n without going out of bounds.\n",
    "\n",
    "# Example Code:\n",
    "# Here's a simple example to illustrate:\n",
    "\n",
    "# python\n",
    "# Copy code\n",
    "# arr = [10, 20, 30, 40]  # Length is 4\n",
    "\n",
    "# Using range(n)\n",
    "# print(\"Using range(n):\")\n",
    "# for i in range(4):  # or range(0, 4)\n",
    "#     print(arr[i])  # Outputs: 10, 20, 30, 40\n",
    "\n",
    "# # Using range(0, n)\n",
    "# print(\"Using range(0, n):\")\n",
    "# for i in range(0, 4):  # same behavior\n",
    "#     print(arr[i])  # Outputs: 10, 20, 30, 40\n",
    "# Conclusion:\n",
    "# Both range(n) and range(0, n) yield the same sequence of values: 0, 1, 2, ..., n-1.\n",
    "# The number n itself is excluded in both cases, ensuring you don't access an index that is out of bounds. This is essential for safe iteration through lists and arrays in Python.\n",
    "\n",
    "\n",
    "\n",
    "def maxElement(arr):\n",
    "    n = len(arr)\n",
    "    max_val = arr[0]\n",
    "    for i in range(0,n):\n",
    "        if (max_val < arr[i]):\n",
    "            max_val = arr[i]\n",
    "    return max_val\n",
    "\n",
    "arr = [1,2,3,77]\n",
    "\n",
    "print(maxElement(arr))\n"
   ]
  },
  {
   "cell_type": "code",
   "execution_count": 10,
   "id": "5eaa75f6-99ab-458b-8de0-5ccb54459da2",
   "metadata": {},
   "outputs": [
    {
     "name": "stdout",
     "output_type": "stream",
     "text": [
      "1.2\n",
      "37\n"
     ]
    }
   ],
   "source": [
    "# second largest element in an array without sorting\n",
    "\n",
    "def secondLargeEle(arr):\n",
    "    # n = len(arr)\n",
    "    arr.sort()\n",
    "    print(arr[1])\n",
    "    print(arr[-2])\n",
    "\n",
    "arr = [1,2,5,37,7,39,1.2]\n",
    "\n",
    "secondLargeEle(arr)\n",
    "        "
   ]
  },
  {
   "cell_type": "code",
   "execution_count": 18,
   "id": "06703375-cafe-4aa4-b96a-0882aae14d00",
   "metadata": {},
   "outputs": [
    {
     "name": "stdout",
     "output_type": "stream",
     "text": [
      "False\n",
      "True\n"
     ]
    }
   ],
   "source": [
    "# check if array is sorted\n",
    "\n",
    "def checkSorted(arr):\n",
    "    n = len(arr)\n",
    "    for i in range(n-1):\n",
    "        if arr[i] > arr[i+1]:\n",
    "            return False\n",
    "    return True\n",
    "\n",
    "arr = [1,5,4,5,6]\n",
    "print(checkSorted(arr))\n",
    "\n",
    "\n",
    "\n",
    "def check(ar):\n",
    "    n = len(arr)\n",
    "    for i in range(n):\n",
    "        for j in range(i+1,n):\n",
    "            if arr[i] > arr[j]:\n",
    "                return False\n",
    "    return True\n",
    "\n",
    "arr = [1,2,4,5,6]\n",
    "print(check(arr))\n"
   ]
  },
  {
   "cell_type": "code",
   "execution_count": 50,
   "id": "bc5930f5-c684-493b-a3f1-682298d52d19",
   "metadata": {},
   "outputs": [
    {
     "name": "stdout",
     "output_type": "stream",
     "text": [
      "{1, 2, 4, 5, 6}\n"
     ]
    }
   ],
   "source": [
    "# Remove Duplicates in-place from Sorted Array\n",
    "\n",
    "def duplicates(arr):\n",
    "    n = len(arr)\n",
    "    removeDup = set()\n",
    "    for i in range(n):\n",
    "        removeDup.add(arr[i])\n",
    "    return removeDup\n",
    "\n",
    "\n",
    "    k = len(removeDup)\n",
    "    j = 0\n",
    "\n",
    "    for s in st:\n",
    "        arr[j] = s\n",
    "        j += 1\n",
    "    print(k)\n",
    "        \n",
    "\n",
    "\n",
    "\n",
    "arr = [1,2,2,2,4,5,6,6,6]\n",
    "print(duplicates(arr))"
   ]
  },
  {
   "cell_type": "code",
   "execution_count": 56,
   "id": "b60c327b-8e89-446b-81d0-e4b0eb3f8bb1",
   "metadata": {},
   "outputs": [
    {
     "name": "stdout",
     "output_type": "stream",
     "text": [
      "1 2 4 5 6 "
     ]
    }
   ],
   "source": [
    "# remove duplicates in sorted array by two pointer technique\n",
    "\n",
    "def removeDup(arr):\n",
    "    n = len(arr)\n",
    "    i = 0\n",
    "    for j in range(1,n):\n",
    "        if arr[i] != arr[j]:\n",
    "            i += 1\n",
    "            arr[i] = arr[j]\n",
    "    return i + 1\n",
    "\n",
    "arr = [1,2,2,2,4,5,6,6,6]\n",
    "ans = removeDup(arr)\n",
    "for i in range(ans):\n",
    "    print(arr[i],end=\" \")"
   ]
  },
  {
   "cell_type": "code",
   "execution_count": 77,
   "id": "c194af3b-ab42-47ab-a43e-b8940ff8d74e",
   "metadata": {},
   "outputs": [
    {
     "name": "stdout",
     "output_type": "stream",
     "text": [
      "3 4 5 1 "
     ]
    }
   ],
   "source": [
    "# Left Rotate the Array by One\n",
    "\n",
    "def leftRotate(arr):\n",
    "    n = len(arr)\n",
    "    temp = [0] * n\n",
    "    for i in range(1,n):\n",
    "        temp[i - 1] = arr[i]\n",
    "    temp[n - 1] = arr[0]\n",
    "    for i in range(n):\n",
    "        print(temp[i],end= \" \")\n",
    "\n",
    "arr = [1,3,4,5]\n",
    "leftRotate(arr)"
   ]
  },
  {
   "cell_type": "code",
   "execution_count": 75,
   "id": "bef90bed-2d33-4be0-aae2-705ea35643cf",
   "metadata": {},
   "outputs": [
    {
     "name": "stdout",
     "output_type": "stream",
     "text": [
      "3 4 5 1 "
     ]
    }
   ],
   "source": [
    "# left rotate\n",
    "def solve(arr):\n",
    "    temp = [0] * n\n",
    "    for i in range(n):\n",
    "        temp = arr[i]\n",
    "    temp[n-1] = arr[0]\n",
    "    for i in range(n):\n",
    "        print(temp[i],end='')\n",
    "arr = [1,3,4,5]\n",
    "leftRotate(arr)"
   ]
  },
  {
   "cell_type": "code",
   "execution_count": 79,
   "id": "04880331-1ccd-4b69-aef8-89e39eb8b27c",
   "metadata": {},
   "outputs": [
    {
     "name": "stdout",
     "output_type": "stream",
     "text": [
      "3 4 5 1 "
     ]
    }
   ],
   "source": [
    "# left rotate optimize\n",
    "\n",
    "def leftRotateOpti(arr):\n",
    "    n = len(arr)\n",
    "    temp = arr[0]\n",
    "    for i in range(n-1):\n",
    "        arr[i] = arr[i+1]\n",
    "    arr[n-1] = temp\n",
    "    for i in range(n):\n",
    "        print(arr[i],end=' ')\n",
    "\n",
    "arr = [1,3,4,5]\n",
    "leftRotateOpti(arr)"
   ]
  },
  {
   "cell_type": "code",
   "execution_count": 8,
   "id": "3d01ed22-2aa0-4689-ae57-5410a6bb87cc",
   "metadata": {},
   "outputs": [
    {
     "name": "stdout",
     "output_type": "stream",
     "text": [
      "[3, 4, 5, 1, 2]\n"
     ]
    }
   ],
   "source": [
    "# Rotate array by K elements\n",
    "\n",
    "def rotateKele(arr,k):\n",
    "    n = len(arr)\n",
    "    k = k % n \n",
    "    for i in range(k):\n",
    "        last_element = arr.pop()\n",
    "        arr.insert(0,last_element)\n",
    "    return arr\n",
    "    \n",
    "\n",
    "\n",
    "arr = [1,2,3,4,5]\n",
    "k = 3\n",
    "print(rotateKele(arr,k))"
   ]
  },
  {
   "cell_type": "code",
   "execution_count": null,
   "id": "eb6a4104-373b-47f5-9d2a-c0829eb0bc89",
   "metadata": {},
   "outputs": [],
   "source": []
  }
 ],
 "metadata": {
  "kernelspec": {
   "display_name": "Python 3 (ipykernel)",
   "language": "python",
   "name": "python3"
  },
  "language_info": {
   "codemirror_mode": {
    "name": "ipython",
    "version": 3
   },
   "file_extension": ".py",
   "mimetype": "text/x-python",
   "name": "python",
   "nbconvert_exporter": "python",
   "pygments_lexer": "ipython3",
   "version": "3.12.4"
  }
 },
 "nbformat": 4,
 "nbformat_minor": 5
}
