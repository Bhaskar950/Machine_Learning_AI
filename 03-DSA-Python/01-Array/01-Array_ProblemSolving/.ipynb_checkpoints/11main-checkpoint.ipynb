{
 "cells": [
  {
   "cell_type": "code",
   "execution_count": 31,
   "id": "76012bdb-17bb-46aa-b75a-785d482a3ba7",
   "metadata": {},
   "outputs": [
    {
     "name": "stdout",
     "output_type": "stream",
     "text": [
      "4\n"
     ]
    }
   ],
   "source": [
    "Remove Element (LeetCode 27)\n",
    "\n",
    "def removeElement(nums,val):\n",
    "    k = 0\n",
    "    for i in range(len(nums)):\n",
    "        if nums[i] != val:\n",
    "            nums[k] = nums[i]\n",
    "            k += 1\n",
    "    return k\n",
    "\n",
    "nums = [1,2,3,3,4,4,3]\n",
    "\n",
    "val = 3\n",
    "print(removeElement(nums,val))\n",
    "    "
   ]
  },
  {
   "cell_type": "code",
   "execution_count": 37,
   "id": "d0066430-273d-42ab-ae68-20bf5288d7fe",
   "metadata": {},
   "outputs": [
    {
     "name": "stdout",
     "output_type": "stream",
     "text": [
      "4\n"
     ]
    }
   ],
   "source": [
    "def removeElement(nums,val):\n",
    "    k = 0\n",
    "    for i in range(len(nums)):\n",
    "        if nums[i] == val:\n",
    "            nums[k] = nums[i]\n",
    "            k += 1\n",
    "    return k\n",
    "\n",
    "nums = [1,2,3,3,3,4,3]\n",
    "\n",
    "val = 3\n",
    "print(removeElement(nums,val))"
   ]
  },
  {
   "cell_type": "code",
   "execution_count": 75,
   "id": "2c4d4c21-c1b4-40f4-9ce2-19487ee20ce0",
   "metadata": {},
   "outputs": [
    {
     "ename": "IndexError",
     "evalue": "list index out of range",
     "output_type": "error",
     "traceback": [
      "\u001b[0;31m---------------------------------------------------------------------------\u001b[0m",
      "\u001b[0;31mIndexError\u001b[0m                                Traceback (most recent call last)",
      "Cell \u001b[0;32mIn[75], line 10\u001b[0m\n\u001b[1;32m      7\u001b[0m     \u001b[38;5;28;01mreturn\u001b[39;00m k\n\u001b[1;32m      8\u001b[0m nums \u001b[38;5;241m=\u001b[39m [\u001b[38;5;241m1\u001b[39m,\u001b[38;5;241m2\u001b[39m,\u001b[38;5;241m3\u001b[39m,\u001b[38;5;241m3\u001b[39m,\u001b[38;5;241m3\u001b[39m,\u001b[38;5;241m4\u001b[39m,\u001b[38;5;241m3\u001b[39m] \n\u001b[0;32m---> 10\u001b[0m \u001b[38;5;28mprint\u001b[39m(removeDuplicate_count(nums))\n",
      "Cell \u001b[0;32mIn[75], line 4\u001b[0m, in \u001b[0;36mremoveDuplicate_count\u001b[0;34m(nums)\u001b[0m\n\u001b[1;32m      2\u001b[0m k \u001b[38;5;241m=\u001b[39m \u001b[38;5;241m1\u001b[39m\n\u001b[1;32m      3\u001b[0m \u001b[38;5;28;01mfor\u001b[39;00m i \u001b[38;5;129;01min\u001b[39;00m \u001b[38;5;28mrange\u001b[39m (\u001b[38;5;241m1\u001b[39m,\u001b[38;5;28mlen\u001b[39m(nums)):\n\u001b[0;32m----> 4\u001b[0m     \u001b[38;5;28;01mif\u001b[39;00m nums[i] \u001b[38;5;241m!=\u001b[39m nums[i \u001b[38;5;241m+\u001b[39m \u001b[38;5;241m1\u001b[39m]:\n\u001b[1;32m      5\u001b[0m         nums[k] \u001b[38;5;241m=\u001b[39m nums[i]\n\u001b[1;32m      6\u001b[0m         k \u001b[38;5;241m+\u001b[39m\u001b[38;5;241m=\u001b[39m \u001b[38;5;241m1\u001b[39m\n",
      "\u001b[0;31mIndexError\u001b[0m: list index out of range"
     ]
    }
   ],
   "source": [
    "def removeDuplicate_count(nums):\n",
    "    k = 1\n",
    "    for i in range (1,len(nums)):\n",
    "        if nums[i] != nums[i - 1]:\n",
    "            nums[k] = nums[i]\n",
    "            k += 1\n",
    "    return k\n",
    "nums = [1,2,3,3,3,4,3] \n",
    "\n",
    "print(removeDuplicate_count(nums))\n"
   ]
  },
  {
   "cell_type": "code",
   "execution_count": null,
   "id": "1f399332-fcb6-459f-b95b-73388dae86c3",
   "metadata": {},
   "outputs": [],
   "source": []
  },
  {
   "cell_type": "code",
   "execution_count": null,
   "id": "0d7fa0bc-89e3-4142-ae19-6310bb19e76b",
   "metadata": {},
   "outputs": [],
   "source": []
  }
 ],
 "metadata": {
  "kernelspec": {
   "display_name": "Python 3 (ipykernel)",
   "language": "python",
   "name": "python3"
  },
  "language_info": {
   "codemirror_mode": {
    "name": "ipython",
    "version": 3
   },
   "file_extension": ".py",
   "mimetype": "text/x-python",
   "name": "python",
   "nbconvert_exporter": "python",
   "pygments_lexer": "ipython3",
   "version": "3.12.4"
  }
 },
 "nbformat": 4,
 "nbformat_minor": 5
}
