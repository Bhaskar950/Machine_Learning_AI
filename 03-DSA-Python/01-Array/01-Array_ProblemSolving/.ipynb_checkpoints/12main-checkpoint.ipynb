{
 "cells": [
  {
   "cell_type": "code",
   "execution_count": 28,
   "id": "8d5051f5-7a2b-464e-a466-87041314eb9b",
   "metadata": {},
   "outputs": [
    {
     "name": "stdout",
     "output_type": "stream",
     "text": [
      "3\n"
     ]
    }
   ],
   "source": [
    "# String problems dsa\n",
    "\n",
    "def countChar(words):\n",
    "    count = 0\n",
    "    for i in words:\n",
    "        count += 1\n",
    "    return count\n",
    "words = [\"hello\", \"world\", \"leetcode\"]\n",
    "print(countChar(words))\n",
    "\n"
   ]
  },
  {
   "cell_type": "code",
   "execution_count": 39,
   "id": "7602256e-c856-480b-bfd0-946d0702cf27",
   "metadata": {},
   "outputs": [
    {
     "name": "stdout",
     "output_type": "stream",
     "text": [
      "5\n",
      "5\n",
      "8\n",
      "18\n"
     ]
    }
   ],
   "source": [
    "def countChar(words):\n",
    "    count = 0\n",
    "    for word in words:\n",
    "        count = count + len(word)\n",
    "        leng = len(word)\n",
    "        print(leng)\n",
    "\n",
    "    return count\n",
    "words = [\"hello\", \"world\", \"leetcode\"]\n",
    "print(countChar(words))\n",
    "\n"
   ]
  },
  {
   "cell_type": "code",
   "execution_count": 45,
   "id": "5e8111ba-6901-4e87-a2f1-7a1012290e72",
   "metadata": {},
   "outputs": [
    {
     "name": "stdout",
     "output_type": "stream",
     "text": [
      "5\n",
      "None\n"
     ]
    }
   ],
   "source": [
    "def countSegments(s):\n",
    "    val =  len(s.split())\n",
    "    print(val)\n",
    "s = \"hello my name is bhaskar\"\n",
    "countSegments(s)"
   ]
  },
  {
   "cell_type": "code",
   "execution_count": null,
   "id": "18f1f185-553b-435a-8a1f-12b190fd3adf",
   "metadata": {},
   "outputs": [],
   "source": []
  }
 ],
 "metadata": {
  "kernelspec": {
   "display_name": "Python 3 (ipykernel)",
   "language": "python",
   "name": "python3"
  },
  "language_info": {
   "codemirror_mode": {
    "name": "ipython",
    "version": 3
   },
   "file_extension": ".py",
   "mimetype": "text/x-python",
   "name": "python",
   "nbconvert_exporter": "python",
   "pygments_lexer": "ipython3",
   "version": "3.12.4"
  }
 },
 "nbformat": 4,
 "nbformat_minor": 5
}
