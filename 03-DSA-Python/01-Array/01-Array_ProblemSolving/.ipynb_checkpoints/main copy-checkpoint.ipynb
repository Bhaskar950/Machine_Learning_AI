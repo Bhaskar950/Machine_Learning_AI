{
 "cells": [
  {
   "cell_type": "code",
   "execution_count": 4,
   "id": "81294a09-13c1-4c6b-97c6-399b96cbe749",
   "metadata": {},
   "outputs": [
    {
     "name": "stdout",
     "output_type": "stream",
     "text": [
      "669889898989\n"
     ]
    }
   ],
   "source": [
    "def find_max(arr):\n",
    "    if not arr:\n",
    "        return none\n",
    "    return max(arr)\n",
    "\n",
    "array = [1,2,3,4,5,669889898989,7890,99999]\n",
    "max_value = find_max(array)\n",
    "print(max_value)"
   ]
  },
  {
   "cell_type": "code",
   "execution_count": 9,
   "id": "9729bbdd-d145-4905-a31b-444f360c028f",
   "metadata": {},
   "outputs": [
    {
     "name": "stdout",
     "output_type": "stream",
     "text": [
      "-78\n"
     ]
    }
   ],
   "source": [
    "def find_min(arr):\n",
    "    if not arr:\n",
    "        return none\n",
    "    return min(arr)\n",
    "\n",
    "array = [4,-5,-78,1,0,-5,78]\n",
    "min_value = find_min(array)\n",
    "print(min_value)"
   ]
  },
  {
   "cell_type": "code",
   "execution_count": 17,
   "id": "52e5b0ee-927f-46cc-ab8c-4aa4c498d6f7",
   "metadata": {},
   "outputs": [
    {
     "name": "stdout",
     "output_type": "stream",
     "text": [
      "[3, 78, 6, 5, 4]\n"
     ]
    }
   ],
   "source": [
    "# reverse an array\n",
    "\n",
    "def reverse_arr(arr):\n",
    "        return arr[::-1]\n",
    "array = [4,5,6,78,3]\n",
    "reverse_array = reverse_arr(array)\n",
    "print(reverse_array)\n"
   ]
  },
  {
   "cell_type": "code",
   "execution_count": 21,
   "id": "2085f6a8-30b8-4c90-8222-c7f78765795e",
   "metadata": {},
   "outputs": [
    {
     "name": "stdout",
     "output_type": "stream",
     "text": [
      "7\n",
      "6\n",
      "True\n"
     ]
    }
   ],
   "source": [
    "# duplicates in array\n",
    "def has_duplicates(arr):\n",
    "    length = len(arr)\n",
    "    print(length)\n",
    "    se_length = len(set(arr))\n",
    "    print(se_length)\n",
    "    return length != se_length\n",
    "\n",
    "array = [1,3,4,44,4,5,6,]\n",
    "dup_value = has_duplicates(array)\n",
    "print(dup_value)"
   ]
  },
  {
   "cell_type": "code",
   "execution_count": 26,
   "id": "977b3b68-bf99-4cdd-bb25-fbc4b53fddf1",
   "metadata": {},
   "outputs": [
    {
     "name": "stdout",
     "output_type": "stream",
     "text": [
      "44925\n"
     ]
    }
   ],
   "source": [
    "def sum_array(arr):\n",
    "    return sum(arr)\n",
    "\n",
    "array = [1,2,3,4,5,6,44444,455,5]\n",
    "sum_arr = sum_array(array)\n",
    "print(sum_arr)"
   ]
  },
  {
   "cell_type": "code",
   "execution_count": 25,
   "id": "8d83cae3-84f5-4ed7-8ac6-9cd76eabd1b5",
   "metadata": {},
   "outputs": [
    {
     "ename": "SyntaxError",
     "evalue": "expected ':' (3158726406.py, line 4)",
     "output_type": "error",
     "traceback": [
      "\u001b[0;36m  Cell \u001b[0;32mIn[25], line 4\u001b[0;36m\u001b[0m\n\u001b[0;31m    except ValueError\u001b[0m\n\u001b[0m                     ^\u001b[0m\n\u001b[0;31mSyntaxError\u001b[0m\u001b[0;31m:\u001b[0m expected ':'\n"
     ]
    }
   ],
   "source": []
  },
  {
   "cell_type": "code",
   "execution_count": null,
   "id": "a5d4f8f3-4801-4e7d-abc7-a6babe0e0f22",
   "metadata": {},
   "outputs": [],
   "source": []
  }
 ],
 "metadata": {
  "kernelspec": {
   "display_name": "Python 3 (ipykernel)",
   "language": "python",
   "name": "python3"
  },
  "language_info": {
   "codemirror_mode": {
    "name": "ipython",
    "version": 3
   },
   "file_extension": ".py",
   "mimetype": "text/x-python",
   "name": "python",
   "nbconvert_exporter": "python",
   "pygments_lexer": "ipython3",
   "version": "3.12.4"
  }
 },
 "nbformat": 4,
 "nbformat_minor": 5
}
