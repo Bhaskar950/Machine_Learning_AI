{
 "cells": [
  {
   "cell_type": "code",
   "execution_count": 7,
   "id": "b2de979d-1c43-4994-8838-b8e21a429a2a",
   "metadata": {},
   "outputs": [
    {
     "name": "stdout",
     "output_type": "stream",
     "text": [
      "12\n"
     ]
    }
   ],
   "source": [
    "# max_sumarray_sum\n",
    "\n",
    "\n",
    "def subarray_max_sum(arr,k):\n",
    "    n = len(arr)\n",
    "    if n < k :\n",
    "        return Invalid\n",
    "\n",
    "    current_sum = sum(arr[:k])\n",
    "    max_sum = current_sum\n",
    "\n",
    "    for i in range(k,n):\n",
    "        current_sum += arr[i] - arr[i - k]\n",
    "        max_sum = min(max_sum,current_sum)\n",
    "    return max_sum\n",
    "\n",
    "\n",
    "\n",
    "arr = [2999,3,4,5,6,9]\n",
    "k = 3\n",
    "\n",
    "print(subarray_max_sum(arr,k))\n",
    "        "
   ]
  },
  {
   "cell_type": "code",
   "execution_count": 6,
   "id": "b4ac5e27-8e6a-442e-8adc-c4fb100a3c3a",
   "metadata": {},
   "outputs": [
    {
     "name": "stdout",
     "output_type": "stream",
     "text": [
      "11\n"
     ]
    }
   ],
   "source": [
    "\n",
    "\n",
    "\n",
    "\n",
    "\n",
    "\n",
    "\n",
    "\n",
    "\n",
    "\n",
    "\n",
    "def sum_sub_arr(arr,k):\n",
    "    n = len(arr)\n",
    "    max_sum = sum(arr[:k])\n",
    "    current_sum = max_sum\n",
    "\n",
    "    for i in range(k,n):\n",
    "        current_sum += arr[i] - arr[i-k]\n",
    "        max_sum = max(current_sum,max_sum)\n",
    "    return max_sum\n",
    "\n",
    "\n",
    "arr = [ 1,2,3,4,5,6]\n",
    "k = 2\n",
    "\n",
    "val = sum_sub_arr(arr,k)\n",
    "print(val)"
   ]
  },
  {
   "cell_type": "code",
   "execution_count": null,
   "id": "9bca183c-033a-4183-9867-dac4689c7e74",
   "metadata": {},
   "outputs": [],
   "source": []
  },
  {
   "cell_type": "code",
   "execution_count": null,
   "id": "9a54b2ad-2aa0-4b1d-86ea-12dd87ffba70",
   "metadata": {},
   "outputs": [],
   "source": []
  }
 ],
 "metadata": {
  "kernelspec": {
   "display_name": "Python 3 (ipykernel)",
   "language": "python",
   "name": "python3"
  },
  "language_info": {
   "codemirror_mode": {
    "name": "ipython",
    "version": 3
   },
   "file_extension": ".py",
   "mimetype": "text/x-python",
   "name": "python",
   "nbconvert_exporter": "python",
   "pygments_lexer": "ipython3",
   "version": "3.12.4"
  }
 },
 "nbformat": 4,
 "nbformat_minor": 5
}
