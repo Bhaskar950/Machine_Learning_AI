{
 "cells": [
  {
   "cell_type": "code",
   "execution_count": 8,
   "id": "f4d76b97-09c4-49a9-9475-bee1c7abc2ab",
   "metadata": {},
   "outputs": [
    {
     "name": "stdout",
     "output_type": "stream",
     "text": [
      "[-1, -1, -7, -15, -15, 0]\n"
     ]
    }
   ],
   "source": [
    "from collections import deque\n",
    "\n",
    "def first_negative_in_window(arr, k):\n",
    "    n = len(arr)\n",
    "    q = deque()  # Initialize the deque to store indices of negative numbers\n",
    "    result = []\n",
    "\n",
    "    for i in range(n):\n",
    "        # Remove elements that are out of the current window\n",
    "        if q and q[0] < i - k + 1:\n",
    "            q.popleft()\n",
    "\n",
    "        # Add new negative number's index to the deque\n",
    "        if arr[i] < 0:\n",
    "            q.append(i)\n",
    "\n",
    "        # Add the result for the current window\n",
    "        if i >= k - 1:\n",
    "            if q:\n",
    "                result.append(arr[q[0]])  # The first negative element\n",
    "            else:\n",
    "                result.append(0)  # No negative element in this window\n",
    "\n",
    "    return result\n",
    "\n",
    "arr = [12, -1, -7, 8, -15, 30, 16, 28]\n",
    "k = 3\n",
    "print(first_negative_in_window(arr, k))\n"
   ]
  },
  {
   "cell_type": "code",
   "execution_count": 14,
   "id": "a4f4557b-660d-4261-ab2f-fe22b066b50c",
   "metadata": {},
   "outputs": [
    {
     "name": "stdout",
     "output_type": "stream",
     "text": [
      "[-1, -1, -7, -15, -15, 0]\n"
     ]
    }
   ],
   "source": [
    "# practice -1\n",
    "\n",
    "from collections import deque\n",
    "\n",
    "def first_negative_in_window1(arr,k):\n",
    "    n = len(arr)\n",
    "    q = deque()\n",
    "    result = []\n",
    "    for i in range(n):\n",
    "        if arr[i] < 0:\n",
    "            q.append(i)\n",
    "\n",
    "        if q and q[0] < i - k + 1:\n",
    "            q.popleft()\n",
    "\n",
    "        if i >= k - 1:\n",
    "            if q:\n",
    "                result.append(arr[q[0]])\n",
    "            else:\n",
    "                result.append(0)\n",
    "\n",
    "    return result\n",
    "    \n",
    "arr = [12, -1, -7, 8, -15, 30, 16, 28]\n",
    "k = 3\n",
    "print(first_negative_in_window1(arr, k))\n",
    "                "
   ]
  },
  {
   "cell_type": "code",
   "execution_count": null,
   "id": "ff7b5a0e-78a2-4925-bb21-03967dfbfb82",
   "metadata": {},
   "outputs": [],
   "source": []
  }
 ],
 "metadata": {
  "kernelspec": {
   "display_name": "Python 3 (ipykernel)",
   "language": "python",
   "name": "python3"
  },
  "language_info": {
   "codemirror_mode": {
    "name": "ipython",
    "version": 3
   },
   "file_extension": ".py",
   "mimetype": "text/x-python",
   "name": "python",
   "nbconvert_exporter": "python",
   "pygments_lexer": "ipython3",
   "version": "3.12.4"
  }
 },
 "nbformat": 4,
 "nbformat_minor": 5
}
