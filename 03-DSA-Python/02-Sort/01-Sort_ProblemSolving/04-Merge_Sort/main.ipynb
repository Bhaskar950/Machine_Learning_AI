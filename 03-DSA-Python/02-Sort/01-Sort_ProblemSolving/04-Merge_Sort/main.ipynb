{
 "cells": [
  {
   "cell_type": "code",
   "execution_count": 16,
   "id": "b39aac9c-394d-44c6-bcf5-89d138ef4c2f",
   "metadata": {},
   "outputs": [
    {
     "name": "stdout",
     "output_type": "stream",
     "text": [
      "Sorted array: [3, 9, 10, 27, 38, 43, 82]\n"
     ]
    }
   ],
   "source": [
    "# merge sort implementation\n",
    "\n",
    "def merge_sort(arr):\n",
    "    # Base case: if the array has 1 or 0 elements, it is already sorted\n",
    "    if len(arr) <= 1:\n",
    "        return arr\n",
    "\n",
    "    # Step 1: Divide the array into two halves\n",
    "    mid = len(arr) // 2\n",
    "    left_half = merge_sort(arr[:mid])  # Recursively sort the left half\n",
    "    right_half = merge_sort(arr[mid:])  # Recursively sort the right half\n",
    "\n",
    "    # Step 2: Merge the two sorted halves\n",
    "    return merge(left_half, right_half)\n",
    "\n",
    "def merge(left, right):\n",
    "    sorted_array = []\n",
    "    i = j = 0\n",
    "\n",
    "    # Compare elements from both halves and merge them in sorted order\n",
    "    while i < len(left) and j < len(right):\n",
    "        if left[i] < right[j]:\n",
    "            sorted_array.append(left[i])\n",
    "            i += 1\n",
    "        else:\n",
    "            sorted_array.append(right[j])\n",
    "            j += 1\n",
    "\n",
    "    # If there are remaining elements in the left half, add them to the sorted array\n",
    "    while i < len(left):\n",
    "        sorted_array.append(left[i])\n",
    "        i += 1\n",
    "\n",
    "    # If there are remaining elements in the right half, add them to the sorted array\n",
    "    while j < len(right):\n",
    "        sorted_array.append(right[j])\n",
    "        j += 1\n",
    "\n",
    "    return sorted_array\n",
    "\n",
    "# Example usage\n",
    "arr = [38, 27, 43, 3, 9, 82, 10]\n",
    "sorted_arr = merge_sort(arr)\n",
    "print(\"Sorted array:\", sorted_arr)\n"
   ]
  },
  {
   "cell_type": "code",
   "execution_count": 18,
   "id": "1fc0f2ee-f2b1-42cd-b7fa-0d6d5183fda1",
   "metadata": {},
   "outputs": [
    {
     "name": "stdout",
     "output_type": "stream",
     "text": [
      "Sorted array: [3, 9, 10, 27, 38, 43, 82]\n"
     ]
    }
   ],
   "source": [
    "def mergeSort(arr):\n",
    "    # base case\n",
    "    if len(arr) <= 1:\n",
    "        return arr\n",
    "\n",
    "    # divide array into two halfs\n",
    "    mid = len(arr) // 2\n",
    "    left_half = mergeSort(arr[:mid]) #recursively sort that left half\n",
    "    right_half = mergeSort(arr[mid:])\n",
    "    return merge(left_half,right_half)\n",
    "\n",
    "def merge(left,right):\n",
    "    sorted_array = []\n",
    "    i = j = 0\n",
    "    while i < len(left) and j < len(right):\n",
    "        if left[i] < right[j]:\n",
    "            sorted_array.append(left[i])\n",
    "            i += 1\n",
    "        else:\n",
    "            \n",
    "            sorted_array.append(right[j])\n",
    "            j += 1\n",
    "\n",
    "    while i < len(left):\n",
    "        sorted_array.append(left[i])\n",
    "        i += 1\n",
    "\n",
    "    while j < len(right):\n",
    "        sorted_array.append(right[j])\n",
    "        j += 1\n",
    "\n",
    "    return sorted_array\n",
    "        \n",
    "        \n",
    "arr = [38, 27, 43, 3, 9, 82, 10]\n",
    "sorted_array = mergeSort(arr)\n",
    "print(\"Sorted array:\", sorted_array)    \n",
    "    "
   ]
  },
  {
   "cell_type": "code",
   "execution_count": null,
   "id": "d8ccbb53-f7c2-42ca-ae12-e40b881e711a",
   "metadata": {},
   "outputs": [],
   "source": []
  }
 ],
 "metadata": {
  "kernelspec": {
   "display_name": "Python 3 (ipykernel)",
   "language": "python",
   "name": "python3"
  },
  "language_info": {
   "codemirror_mode": {
    "name": "ipython",
    "version": 3
   },
   "file_extension": ".py",
   "mimetype": "text/x-python",
   "name": "python",
   "nbconvert_exporter": "python",
   "pygments_lexer": "ipython3",
   "version": "3.12.4"
  }
 },
 "nbformat": 4,
 "nbformat_minor": 5
}
