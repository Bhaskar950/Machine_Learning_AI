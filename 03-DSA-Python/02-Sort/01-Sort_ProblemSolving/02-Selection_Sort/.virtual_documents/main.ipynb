# selection sort

def selection_sort(l):
    n = len(l)
    for i in range(n-1):
        min_index = i
        for j in range(i+1,n):
            if l[j] < l[min_index]:
                min_index = j
        if i != min_index:
            l[i], l[min_index] = l[min_index],l[i]
    return l

l = [4,3,12,1]
print(selection_sort(l))









