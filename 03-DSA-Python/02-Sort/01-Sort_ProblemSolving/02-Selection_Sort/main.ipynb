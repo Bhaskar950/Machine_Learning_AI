{
 "cells": [
  {
   "cell_type": "code",
   "execution_count": 21,
   "id": "4a863d61-a6a8-46e0-9559-38ebe791f0a6",
   "metadata": {},
   "outputs": [
    {
     "name": "stdout",
     "output_type": "stream",
     "text": [
      "[4, 12, 666, 344444]\n"
     ]
    }
   ],
   "source": [
    "# selection sort\n",
    "\n",
    "def selection_sort(l):\n",
    "    n = len(l)\n",
    "    for i in range(n-1):\n",
    "        min_index = i\n",
    "        for j in range(i+1,n):\n",
    "            if l[j] < l[min_index]:\n",
    "                min_index = j\n",
    "        if i != min_index:\n",
    "            l[i], l[min_index] = l[min_index],l[i]\n",
    "    return l\n",
    "\n",
    "l = [4,344444,12,666]\n",
    "print(selection_sort(l))"
   ]
  },
  {
   "cell_type": "code",
   "execution_count": 27,
   "id": "423db6ae-8344-40c6-b911-109151ff21ef",
   "metadata": {},
   "outputs": [
    {
     "name": "stdout",
     "output_type": "stream",
     "text": [
      "[1, 2, 3, 4, 6]\n"
     ]
    }
   ],
   "source": [
    "\n",
    "def selection_sort(l):\n",
    "    n = len(l)\n",
    "    for i in range(n-1):\n",
    "        min_index = i\n",
    "        for j in range(i+1,n):\n",
    "            if l[j] < l[min_index]:\n",
    "                min_index = j\n",
    "\n",
    "        if i != min_index:\n",
    "            l[i],l[min_index] = l[min_index],l[i]\n",
    "    return l\n",
    "\n",
    "l = [1,6,2,3,4]\n",
    "print(selection_sort(l))\n",
    "    \n",
    "\n",
    "\n"
   ]
  },
  {
   "cell_type": "code",
   "execution_count": 41,
   "id": "63667313-1882-44be-a666-1cf3abf7fa8f",
   "metadata": {},
   "outputs": [
    {
     "name": "stdout",
     "output_type": "stream",
     "text": [
      "[1, 2, 3, 4, 6]\n"
     ]
    }
   ],
   "source": [
    "# acending order\n",
    "\n",
    "\n",
    "def s_s(l):\n",
    "    n = len(l)\n",
    "    for i in range(n-1):\n",
    "        min_i = i\n",
    "        for j in range(i+1,n):\n",
    "            if l[j] < l[min_i]:\n",
    "                min_i = j\n",
    "        if i != min_i:\n",
    "            l[i],l[min_i] = l[min_i],l[i]\n",
    "\n",
    "    return l\n",
    "l = [1,6,2,3,4]\n",
    "print(s_s(l))"
   ]
  },
  {
   "cell_type": "code",
   "execution_count": 45,
   "id": "1eee0d5e-e68f-442e-a619-d19bc7e432d0",
   "metadata": {},
   "outputs": [
    {
     "name": "stdout",
     "output_type": "stream",
     "text": [
      "[6, 4, 3, 2, 1]\n"
     ]
    }
   ],
   "source": [
    "# decending order\n",
    "def s_s(l):\n",
    "    for i in range(len(l)-1):\n",
    "        min_index = i\n",
    "        for j in range(i+1,len(l)):\n",
    "            if l[j] > l[min_index]:\n",
    "                min_index = j\n",
    "                \n",
    "        if i != min_index:\n",
    "            l[i] ,l[min_index] = l[min_index],l[i]\n",
    "    return l\n",
    "\n",
    "l = [1,6,2,3,4]\n",
    "print(s_s(l))\n",
    "        "
   ]
  },
  {
   "cell_type": "code",
   "execution_count": 47,
   "id": "ac6a026c-020d-4c6d-8366-0ae5406a77db",
   "metadata": {},
   "outputs": [
    {
     "name": "stdout",
     "output_type": "stream",
     "text": [
      "['apple', 'banana', 'cherry', 'date', 'elderberry']\n"
     ]
    }
   ],
   "source": [
    "# Problem: Sort a List of Strings Using Selection Sort\n",
    "# Task\n",
    "# Implement selection sort to arrange a list of strings in alphabetical order.\n",
    "def sorted_string(str):\n",
    "    n = len(str)\n",
    "    for i in range(n-1):\n",
    "        min_i = i\n",
    "        for j in range(i+1,n):\n",
    "            if str[j][0] < str[min_i][0]:\n",
    "                min_i = j\n",
    "        if i != min_i:\n",
    "            str[i],str[min_i] = str[min_i],str[i]\n",
    "    return str\n",
    "\n",
    "\n",
    "strings = [\"banana\", \"apple\", \"cherry\", \"date\", \"elderberry\"]\n",
    "print(sorted_string(strings))\n"
   ]
  },
  {
   "cell_type": "code",
   "execution_count": 69,
   "id": "e5ff94df-1de5-4bd7-826a-87c900176596",
   "metadata": {},
   "outputs": [
    {
     "name": "stdout",
     "output_type": "stream",
     "text": [
      "6\n"
     ]
    }
   ],
   "source": [
    "# 4. Find the Kth Smallest Element\n",
    "# Problem: Given an unsorted array, find the Kth smallest element using the selection sort approach.\n",
    "# Task: Use selection sort to sort the array until you find the Kth smallest e\n",
    "\n",
    "def kth_smallest(arr,k):\n",
    "    for i in range(k-1):\n",
    "        min_i = i\n",
    "        for j in range(i+1,len(arr)):\n",
    "            if arr[j] < arr[min_i]:\n",
    "                min_i = j\n",
    "\n",
    "        if i != min_i:\n",
    "            arr[i] , arr[min_i] = arr[min_i],arr[i]\n",
    "    return arr[k]\n",
    "\n",
    "l = [1,6,2,3,4]\n",
    "print(kth_smallest(l,3))\n",
    "            "
   ]
  },
  {
   "cell_type": "code",
   "execution_count": 85,
   "id": "b318c9d9-0aa8-429b-a645-2606ed27909f",
   "metadata": {},
   "outputs": [
    {
     "name": "stdout",
     "output_type": "stream",
     "text": [
      "[1, 2, 3, 4, 5]\n"
     ]
    }
   ],
   "source": [
    "# 5. Selection Sort with Early Exit\n",
    "# Problem: Modify the selection sort to exit early if the array is already sorted at any iteration.\n",
    "# Task: Implement selection sort with an optimization to check if the array is already sorted before proceeding with further iterations.\n",
    "\n",
    "def early_exit(arr):\n",
    "    n = len(arr)\n",
    "    for i in range(n-1):\n",
    "        min_i = i\n",
    "        swapped = False\n",
    "        for j in range(i+1,n):\n",
    "            if arr[j] < arr[min_i]:\n",
    "                min_i = j\n",
    "                swapped = True\n",
    "                print(\"swapped\")\n",
    "        if i != min_i:\n",
    "            arr[i],arr[min_i] = arr[min_i],arr[i]\n",
    "            print(\"not swapped\")\n",
    "        if swapped:\n",
    "            break\n",
    "            \n",
    "    return arr\n",
    "\n",
    "\n",
    "arr = [1,2,3,4,5]\n",
    "print(early_exit(arr))\n",
    "\n"
   ]
  },
  {
   "cell_type": "code",
   "execution_count": 103,
   "id": "1dfeb69f-50c0-4b2d-bdc6-0a5de201708c",
   "metadata": {},
   "outputs": [
    {
     "name": "stdout",
     "output_type": "stream",
     "text": [
      "Number of swaps: 2\n"
     ]
    }
   ],
   "source": [
    "# 6. Sort with Limited Swaps\n",
    "# Problem: Implement a version of selection sort that minimizes the number of swaps.\n",
    "# Task: Modify selection sort to count and minimize the number of swaps needed to sort the array.\n",
    "\n",
    "def swap_count(arr):\n",
    "    n = len(arr)\n",
    "    swap_count = 0\n",
    "    for i in range(n):\n",
    "        min_i = i\n",
    "        for j in range(i+1,n):\n",
    "            if arr[j] < arr[min_i]:\n",
    "                min_i = j\n",
    "        if i != min_i:\n",
    "            arr[i], arr[min_i] = arr[min_i] ,arr[i]\n",
    "            swap_count += 1\n",
    "\n",
    "    return arr , swap_count\n",
    "\n",
    "arr = [64, 25, 12, 22, 11,66]\n",
    "arr, swap_count = swap_count(arr)\n",
    "print(f\"Sorted array: {arr}\")\n",
    "print(f\"Number of swaps: {swap_count}\")\n"
   ]
  },
  {
   "cell_type": "code",
   "execution_count": 38,
   "id": "aed9175e-1a72-4884-875c-10e8d5dc0293",
   "metadata": {},
   "outputs": [
    {
     "name": "stdout",
     "output_type": "stream",
     "text": [
      "[66, 64, 25, 22, 12, 11]\n"
     ]
    }
   ],
   "source": [
    "def s(arr):\n",
    "    n = len(arr)\n",
    "    for i in range(n-1):\n",
    "        min_i = i\n",
    "        for j in range(i+1,n):\n",
    "            if arr[j] > arr[min_i]:\n",
    "                min_i = j\n",
    "\n",
    "        if i != min_i:\n",
    "            arr[i],arr[min_i] = arr[min_i],arr[i]\n",
    "    return arr\n",
    "    \n",
    "arr = [64, 25, 12, 22, 11,66]\n",
    "print(s(arr))"
   ]
  },
  {
   "cell_type": "code",
   "execution_count": null,
   "id": "98c5f04e-9256-42ce-b97c-ac5343c1c23a",
   "metadata": {},
   "outputs": [],
   "source": []
  },
  {
   "cell_type": "code",
   "execution_count": null,
   "id": "907a0b72-4bf3-408c-ad3c-a1e6c16e2aba",
   "metadata": {},
   "outputs": [],
   "source": []
  }
 ],
 "metadata": {
  "kernelspec": {
   "display_name": "Python 3 (ipykernel)",
   "language": "python",
   "name": "python3"
  },
  "language_info": {
   "codemirror_mode": {
    "name": "ipython",
    "version": 3
   },
   "file_extension": ".py",
   "mimetype": "text/x-python",
   "name": "python",
   "nbconvert_exporter": "python",
   "pygments_lexer": "ipython3",
   "version": "3.12.4"
  }
 },
 "nbformat": 4,
 "nbformat_minor": 5
}
