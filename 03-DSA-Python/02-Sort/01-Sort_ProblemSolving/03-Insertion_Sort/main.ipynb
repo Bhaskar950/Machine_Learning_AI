{
 "cells": [
  {
   "cell_type": "code",
   "execution_count": 19,
   "id": "129bd537-3697-4bb1-a6f8-65497eed6a8c",
   "metadata": {},
   "outputs": [
    {
     "name": "stdout",
     "output_type": "stream",
     "text": [
      "[3, 4, 5, 6, 9]\n"
     ]
    }
   ],
   "source": [
    "# insertion sort\n",
    "\n",
    "def insertion_sort(arr):\n",
    "    n = len(arr)\n",
    "    for i in range(1,n):\n",
    "        temp = arr[i]\n",
    "        j = i-1\n",
    "        while temp < arr[j] and j > -1:\n",
    "            arr[j+1] = arr[j]\n",
    "            arr[j] = temp\n",
    "            j -= 1\n",
    "\n",
    "    return arr\n",
    "\n",
    "arr = [9,3,4,5,6]\n",
    "print(insertion_sort(arr))\n",
    "        \n",
    "    "
   ]
  },
  {
   "cell_type": "code",
   "execution_count": 34,
   "id": "0b0123c6-b9d0-4af8-a120-333aef492aa9",
   "metadata": {},
   "outputs": [
    {
     "name": "stdout",
     "output_type": "stream",
     "text": [
      "[9, 6, 5, 4, 3]\n"
     ]
    }
   ],
   "source": [
    "# decending order of insertion sort\n",
    "\n",
    "def dec_s_s(arr):\n",
    "    n = len(arr)\n",
    "    for i in range(1,n):\n",
    "        temp = arr[i]\n",
    "        j = i -1\n",
    "        while temp > arr[j] and j > -1:\n",
    "            arr[j+1]  = arr[j]\n",
    "            arr[j] = temp\n",
    "            j -= 1\n",
    "    return arr\n",
    "\n",
    "arr = [9,3,4,5,6]\n",
    "print(dec_s_s(arr))\n",
    "        "
   ]
  },
  {
   "cell_type": "code",
   "execution_count": null,
   "id": "bbfe37d2-f4d9-4252-89ee-a2eefc866548",
   "metadata": {},
   "outputs": [],
   "source": []
  },
  {
   "cell_type": "code",
   "execution_count": null,
   "id": "d342cc0f-02bf-4b59-aad4-68aaab3a6dea",
   "metadata": {},
   "outputs": [],
   "source": []
  }
 ],
 "metadata": {
  "kernelspec": {
   "display_name": "Python 3 (ipykernel)",
   "language": "python",
   "name": "python3"
  },
  "language_info": {
   "codemirror_mode": {
    "name": "ipython",
    "version": 3
   },
   "file_extension": ".py",
   "mimetype": "text/x-python",
   "name": "python",
   "nbconvert_exporter": "python",
   "pygments_lexer": "ipython3",
   "version": "3.12.4"
  }
 },
 "nbformat": 4,
 "nbformat_minor": 5
}
