{
 "cells": [
  {
   "cell_type": "code",
   "execution_count": 117,
   "id": "c2ab0420-db77-4d1f-b2b2-afc9ce21a777",
   "metadata": {},
   "outputs": [
    {
     "name": "stdout",
     "output_type": "stream",
     "text": [
      "0\n",
      "1\n",
      "2\n"
     ]
    }
   ],
   "source": [
    "l = [1,2,4,5]\n",
    "for i in range(len(l)-1):\n",
    "    print(i)\n"
   ]
  },
  {
   "cell_type": "code",
   "execution_count": 121,
   "id": "e56787b9-473e-4429-a817-3942e347e4d4",
   "metadata": {},
   "outputs": [
    {
     "name": "stdout",
     "output_type": "stream",
     "text": [
      "[3, 5, 6, 8, 10]\n"
     ]
    }
   ],
   "source": [
    "def bubble_sort(my_list):\n",
    "    for i in range(len(my_list)-1,0,-1):\n",
    "        for j in range(i):\n",
    "            if my_list[j] > my_list[j+1]:\n",
    "\n",
    "                temp = my_list[j]\n",
    "                my_list[j] = my_list[j+1]\n",
    "                my_list[j+1] = temp\n",
    "    return my_list\n",
    "\n",
    "\n",
    "my_list = [10,3,5,6,8]\n",
    "print(bubble_sort(my_list))\n",
    "            "
   ]
  },
  {
   "cell_type": "code",
   "execution_count": 131,
   "id": "7fc1f4b8-0c01-497e-99f8-c1e224cd6948",
   "metadata": {},
   "outputs": [
    {
     "name": "stdout",
     "output_type": "stream",
     "text": [
      "[3, 5, 6, 8, 10]\n"
     ]
    }
   ],
   "source": [
    "# bubble_sort\n",
    "\n",
    "def bubble_sort(my_list):\n",
    "    for i in range(len(my_list)-1,0,-1):\n",
    "        for j in range(i):\n",
    "            if my_list[j] > my_list[j+1]:\n",
    "                temp = my_list[j]\n",
    "                my_list[j] = my_list[j+1]\n",
    "                my_list[j+1] = temp\n",
    "    return my_list\n",
    "my_list = [10,3,5,6,8]\n",
    "print(bubble_sort(my_list))\n",
    "            "
   ]
  },
  {
   "cell_type": "code",
   "execution_count": 135,
   "id": "285f52b0-b31b-4be4-bbe5-f78f7d053446",
   "metadata": {},
   "outputs": [
    {
     "name": "stdout",
     "output_type": "stream",
     "text": [
      "[3, 5, 6, 8, 10]\n"
     ]
    }
   ],
   "source": [
    "def bubble_sort(l):\n",
    "    n = len(l)\n",
    "    for i in range(n-1,0,-1):\n",
    "        for j in range(i):\n",
    "            if l[j] > l[j+1]:\n",
    "                temp = l[j]\n",
    "                l[j] = l[j+1]\n",
    "                l[j+1] = temp\n",
    "    return l\n",
    "my_list = [10,3,5,6,8]\n",
    "print(bubble_sort(my_list))"
   ]
  },
  {
   "cell_type": "code",
   "execution_count": 141,
   "id": "eb121c7e-e734-4fd8-97a2-f2aaa6e8d01f",
   "metadata": {},
   "outputs": [
    {
     "name": "stdout",
     "output_type": "stream",
     "text": [
      "[11, 12, 22, 25, 34, 64, 90]\n"
     ]
    }
   ],
   "source": [
    "# Problem 1: Basic Bubble Sort\n",
    "# Task: Implement a function that sorts a list of integers in ascending order using Bubble Sort.\n",
    "\n",
    "# acending order by bubble sort\n",
    "\n",
    "def ascending_order(l):\n",
    "    n = len(l)\n",
    "    for i in range(n-1,0,-1):\n",
    "        for j in range(i):\n",
    "            if l[j] > l[j+1]: \n",
    "                temp = l[j]\n",
    "                l[j] = l[j+1]\n",
    "                l[j+1] = temp\n",
    "    return l\n",
    "    \n",
    "\n",
    "\n",
    "l = [64, 34, 25, 12, 22, 11, 90]\n",
    "print(ascending_order(l))"
   ]
  },
  {
   "cell_type": "code",
   "execution_count": 151,
   "id": "467d3111-b48c-493c-af20-00c427444535",
   "metadata": {},
   "outputs": [
    {
     "name": "stdout",
     "output_type": "stream",
     "text": [
      "[90, 64, 34, 25, 22, 12, 11]\n"
     ]
    }
   ],
   "source": [
    "# decending order\n",
    "def decending_order(l):\n",
    "    for i in range(len(l)-1,0,-1):\n",
    "        for j in range(i):\n",
    "            if l[j] < l[j+1]:\n",
    "                temp = l[j]\n",
    "                l[j] = l[j+1]\n",
    "                l[j+1] = temp\n",
    "                \n",
    "    return l\n",
    "\n",
    "l = [64, 34, 25, 12, 22, 11, 90]\n",
    "print(decending_order(l))"
   ]
  },
  {
   "cell_type": "code",
   "execution_count": 11,
   "id": "c0ac17bf-5a07-4858-b5c9-1ba0295c6544",
   "metadata": {},
   "outputs": [
    {
     "name": "stdout",
     "output_type": "stream",
     "text": [
      "[11, 12, 22, 25, 34, 64, 90]\n"
     ]
    }
   ],
   "source": [
    "def ace(l):\n",
    "    n=len(l)\n",
    "    for i in range(n-1,0,-1):\n",
    "        for j in range(i):\n",
    "            if l[j] > l[j+1]:\n",
    "                temp = l[j]\n",
    "                l[j] = l[j+1]\n",
    "                l[j+1] = temp\n",
    "    return l\n",
    "\n",
    "\n",
    "l = [64, 34, 25, 12, 22, 11, 90]\n",
    "print(ace(l))"
   ]
  },
  {
   "cell_type": "code",
   "execution_count": 15,
   "id": "3fd655e2-9924-40ce-aacb-877f3d0fd492",
   "metadata": {},
   "outputs": [
    {
     "name": "stdout",
     "output_type": "stream",
     "text": [
      "0\n",
      "1\n",
      "2\n"
     ]
    }
   ],
   "source": [
    "l = [2,3,4,56]\n",
    "n = len(l)\n",
    "for i in range(n-1):\n",
    "    print(i)"
   ]
  },
  {
   "cell_type": "code",
   "execution_count": 17,
   "id": "426c8e4c-0050-4450-8184-c1a6e90a4fab",
   "metadata": {},
   "outputs": [
    {
     "name": "stdout",
     "output_type": "stream",
     "text": [
      "3\n",
      "2\n",
      "1\n"
     ]
    }
   ],
   "source": [
    "l = [2,3,4,56]\n",
    "n = len(l)\n",
    "for i in range(n-1,0,-1):\n",
    "    print(i)"
   ]
  },
  {
   "cell_type": "code",
   "execution_count": 19,
   "id": "627d05e7-1ab9-4b04-b9d4-fcf92ab8df51",
   "metadata": {},
   "outputs": [
    {
     "name": "stdout",
     "output_type": "stream",
     "text": [
      "[11, 12, 22, 25, 34, 64, 90]\n"
     ]
    }
   ],
   "source": [
    "# Problem 3: Bubble Sort with Early Termination\n",
    "# Task: Implement Bubble Sort with an early termination mechanism that stops \n",
    "# sorting if the list is already sorted before completing all passes.\n",
    "def bubble_sort_termination(l):\n",
    "    n = len(l)\n",
    "    for i in range(n-1,0,-1):\n",
    "        for j in range(i):\n",
    "            if l[j] > l[j+1]:\n",
    "                l[j],l[j+1] = l[j+1],l[j]\n",
    "                swapped = True\n",
    "                print('swapped')\n",
    "        if not swapped:\n",
    "            print('not swapped')\n",
    "            break\n",
    "    return l\n",
    "\n",
    "l = [64, 34, 25, 12, 22, 11, 90]\n",
    "print(ace(l))\n",
    "    "
   ]
  },
  {
   "cell_type": "code",
   "execution_count": null,
   "id": "fc0e9ea5-44e4-4793-9369-94bb308fff24",
   "metadata": {},
   "outputs": [],
   "source": []
  }
 ],
 "metadata": {
  "kernelspec": {
   "display_name": "Python 3 (ipykernel)",
   "language": "python",
   "name": "python3"
  },
  "language_info": {
   "codemirror_mode": {
    "name": "ipython",
    "version": 3
   },
   "file_extension": ".py",
   "mimetype": "text/x-python",
   "name": "python",
   "nbconvert_exporter": "python",
   "pygments_lexer": "ipython3",
   "version": "3.12.4"
  }
 },
 "nbformat": 4,
 "nbformat_minor": 5
}
