{
 "cells": [
  {
   "cell_type": "code",
   "execution_count": 3,
   "id": "c70d98aa-e0ea-4704-82f5-d9434253ac38",
   "metadata": {},
   "outputs": [
    {
     "name": "stdout",
     "output_type": "stream",
     "text": [
      "{'Dava': '001', 'Bhaskar': '002', 'koilada': '003'}\n"
     ]
    },
    {
     "data": {
      "text/plain": [
       "dict"
      ]
     },
     "execution_count": 3,
     "metadata": {},
     "output_type": "execute_result"
    }
   ],
   "source": [
    "# hashing in python it is dictionary\n",
    "\n",
    "my_dict = {'Dava' : '001','Bhaskar':'002','koilada':'003'}\n",
    "print(my_dict)\n",
    "type(my_dict)"
   ]
  },
  {
   "cell_type": "code",
   "execution_count": 93,
   "id": "35047dfe-761d-4184-8f88-3e3cd2689d20",
   "metadata": {},
   "outputs": [
    {
     "name": "stdout",
     "output_type": "stream",
     "text": [
      "{'bhaskar': 'k', 'dam': 'k'}\n"
     ]
    },
    {
     "data": {
      "text/plain": [
       "dict"
      ]
     },
     "execution_count": 93,
     "metadata": {},
     "output_type": "execute_result"
    }
   ],
   "source": [
    "new_dict = dict(bhaskar = 'k',dam = 'k')\n",
    "print(new_dict)\n",
    "type(new_dict)"
   ]
  },
  {
   "cell_type": "code",
   "execution_count": 21,
   "id": "4bb6e7dc-e62c-4527-b548-27e39e464eb1",
   "metadata": {},
   "outputs": [
    {
     "name": "stdout",
     "output_type": "stream",
     "text": [
      "{'employee': {'Bhaskar': {'id': '01', 'salary': '20000000', 'designation': 'Ai engineer'}, 'damu': {'id': '02', 'salary': '40000000', 'designation': 'miner'}}}\n"
     ]
    }
   ],
   "source": [
    "# nested dict\n",
    "emp_details = {'employee':\n",
    "               \n",
    "               {'Bhaskar':\n",
    "                           {'id':'01',\n",
    "                            'salary':'20000000',\n",
    "                            'designation':'Ai engineer'},\n",
    "               'damu':{'id':'02',\n",
    "                       'salary':'40000000',\n",
    "                       'designation':'miner'}}}\n",
    "\n",
    "print(emp_details)"
   ]
  },
  {
   "cell_type": "code",
   "execution_count": 72,
   "id": "0ee5f442-23cb-4b56-99ef-4b4714a52e29",
   "metadata": {},
   "outputs": [
    {
     "name": "stdout",
     "output_type": "stream",
     "text": [
      "dict_keys(['bhaska', 'dam'])\n"
     ]
    }
   ],
   "source": [
    "# performing operations on hash table\n",
    "# Accessing items\n",
    "print(new_dict.keys())"
   ]
  },
  {
   "cell_type": "code",
   "execution_count": 74,
   "id": "c8ec8f06-d7c7-4e76-82d0-2af08f5bfdf7",
   "metadata": {},
   "outputs": [
    {
     "data": {
      "text/plain": [
       "dict_values(['k', 'k'])"
      ]
     },
     "execution_count": 74,
     "metadata": {},
     "output_type": "execute_result"
    }
   ],
   "source": [
    "new_dict.values()"
   ]
  },
  {
   "cell_type": "code",
   "execution_count": 81,
   "id": "01557eca-42f1-4bb2-a3d2-c9bd46dfabda",
   "metadata": {},
   "outputs": [
    {
     "data": {
      "text/plain": [
       "'k'"
      ]
     },
     "execution_count": 81,
     "metadata": {},
     "output_type": "execute_result"
    }
   ],
   "source": [
    "new_dict.get('bhaska')"
   ]
  },
  {
   "cell_type": "code",
   "execution_count": 83,
   "id": "83148c1c-a0b9-45bb-a50f-67ad2078e425",
   "metadata": {},
   "outputs": [
    {
     "name": "stdout",
     "output_type": "stream",
     "text": [
      "bhaska\n",
      "dam\n"
     ]
    }
   ],
   "source": [
    "for i in new_dict:\n",
    "    print(i)"
   ]
  },
  {
   "cell_type": "code",
   "execution_count": 85,
   "id": "31aee93e-9250-494c-94e0-5d846e86da64",
   "metadata": {},
   "outputs": [
    {
     "name": "stdout",
     "output_type": "stream",
     "text": [
      "k\n",
      "k\n"
     ]
    }
   ],
   "source": [
    "for i in new_dict.values():\n",
    "    print(i)"
   ]
  },
  {
   "cell_type": "code",
   "execution_count": 91,
   "id": "834d15f6-6699-47c5-a1ef-5271a5cebd23",
   "metadata": {},
   "outputs": [
    {
     "name": "stdout",
     "output_type": "stream",
     "text": [
      "bhaska k\n",
      "dam k\n"
     ]
    }
   ],
   "source": [
    "for i , val in  new_dict.items():\n",
    "    print(i,val)"
   ]
  },
  {
   "cell_type": "code",
   "execution_count": 97,
   "id": "c2ba7ee5-44ca-4049-b533-b50ad58db59c",
   "metadata": {},
   "outputs": [
    {
     "name": "stdout",
     "output_type": "stream",
     "text": [
      "{'bhaskar': 'k', 'dam': 'miner', 'Bhaskar': 'Ai engineer'}\n"
     ]
    }
   ],
   "source": [
    "# updating values in dict  \n",
    "\n",
    "new_dict['Bhaskar'] = \"Ai engineer\"\n",
    "new_dict['dam'] = 'miner'\n",
    "\n",
    "print(new_dict)\n"
   ]
  },
  {
   "cell_type": "code",
   "execution_count": 99,
   "id": "33027cee-be2d-411c-b9f8-e900a977f50e",
   "metadata": {},
   "outputs": [
    {
     "data": {
      "text/plain": [
       "'k'"
      ]
     },
     "execution_count": 99,
     "metadata": {},
     "output_type": "execute_result"
    }
   ],
   "source": [
    "# deleting entries\n",
    "new_dict.pop('bhaskar')"
   ]
  },
  {
   "cell_type": "code",
   "execution_count": 103,
   "id": "c374d5e7-5f9d-424d-855c-a3357d45c156",
   "metadata": {},
   "outputs": [
    {
     "data": {
      "text/plain": [
       "dict_keys([])"
      ]
     },
     "execution_count": 103,
     "metadata": {},
     "output_type": "execute_result"
    }
   ],
   "source": [
    "my_dict.items()\n",
    "my_dict.keys()"
   ]
  },
  {
   "cell_type": "code",
   "execution_count": 105,
   "id": "66ead747-3e49-4840-8cdc-1580b2816028",
   "metadata": {},
   "outputs": [
    {
     "data": {
      "text/plain": [
       "dict_keys([])"
      ]
     },
     "execution_count": 105,
     "metadata": {},
     "output_type": "execute_result"
    }
   ],
   "source": [
    "my_dict.keys()"
   ]
  },
  {
   "cell_type": "code",
   "execution_count": 121,
   "id": "fdd0ff66-a4cf-4a62-8f84-553a0bdab859",
   "metadata": {},
   "outputs": [],
   "source": [
    "my_details =  {\"id\":\"1\",'name':'bhaskar','designation' :'Mern Stack dev'}"
   ]
  },
  {
   "cell_type": "code",
   "execution_count": 123,
   "id": "620d7585-3a6f-4f08-9b92-3edffd3b1d5e",
   "metadata": {},
   "outputs": [
    {
     "name": "stdout",
     "output_type": "stream",
     "text": [
      "dict_keys(['id', 'name', 'designation'])\n"
     ]
    }
   ],
   "source": [
    "print(my_details.keys())"
   ]
  },
  {
   "cell_type": "code",
   "execution_count": 125,
   "id": "0324e84f-9b55-4835-9872-96229bfae5e7",
   "metadata": {},
   "outputs": [
    {
     "data": {
      "text/plain": [
       "dict_values(['1', 'bhaskar', 'Mern Stack dev'])"
      ]
     },
     "execution_count": 125,
     "metadata": {},
     "output_type": "execute_result"
    }
   ],
   "source": [
    "my_details.values()"
   ]
  },
  {
   "cell_type": "code",
   "execution_count": 127,
   "id": "983fc677-d498-452c-b1ef-cfd8d4f7d04b",
   "metadata": {},
   "outputs": [
    {
     "data": {
      "text/plain": [
       "dict_items([('id', '1'), ('name', 'bhaskar'), ('designation', 'Mern Stack dev')])"
      ]
     },
     "execution_count": 127,
     "metadata": {},
     "output_type": "execute_result"
    }
   ],
   "source": [
    "my_details.items()"
   ]
  },
  {
   "cell_type": "code",
   "execution_count": 129,
   "id": "f013e94e-6b73-4526-8a9b-5cc6cba4ed63",
   "metadata": {},
   "outputs": [
    {
     "name": "stdout",
     "output_type": "stream",
     "text": [
      "id\n",
      "name\n",
      "designation\n"
     ]
    }
   ],
   "source": [
    "for i in my_details:\n",
    "    print(i)"
   ]
  },
  {
   "cell_type": "code",
   "execution_count": 133,
   "id": "683f00a1-3d30-4578-8f3c-36754137c3f4",
   "metadata": {},
   "outputs": [
    {
     "name": "stdout",
     "output_type": "stream",
     "text": [
      "id 1\n",
      "name bhaskar\n",
      "designation Mern Stack dev\n"
     ]
    }
   ],
   "source": [
    "for i , val in my_details.items():\n",
    "    print(i,val)"
   ]
  },
  {
   "cell_type": "code",
   "execution_count": 137,
   "id": "f032f377-2f7c-411f-a288-5bf69b1fc08f",
   "metadata": {},
   "outputs": [
    {
     "data": {
      "text/plain": [
       "'1'"
      ]
     },
     "execution_count": 137,
     "metadata": {},
     "output_type": "execute_result"
    }
   ],
   "source": [
    "my_details.pop('id')"
   ]
  },
  {
   "cell_type": "code",
   "execution_count": 139,
   "id": "c983fcc2-9c69-4759-b651-6d5a21becc49",
   "metadata": {},
   "outputs": [
    {
     "data": {
      "text/plain": [
       "dict_items([('name', 'bhaskar'), ('designation', 'Mern Stack dev')])"
      ]
     },
     "execution_count": 139,
     "metadata": {},
     "output_type": "execute_result"
    }
   ],
   "source": [
    "my_details.items()"
   ]
  },
  {
   "cell_type": "code",
   "execution_count": 145,
   "id": "b82bd474-3256-4907-8a5c-36fd3d1dfc91",
   "metadata": {},
   "outputs": [],
   "source": [
    "my_details['designation'] = 'Ai engineer'"
   ]
  },
  {
   "cell_type": "code",
   "execution_count": 147,
   "id": "58010320-a90f-41ad-a890-67b18f16c287",
   "metadata": {},
   "outputs": [
    {
     "data": {
      "text/plain": [
       "dict_items([('name', 'bhaskar'), ('designation', 'Ai engineer')])"
      ]
     },
     "execution_count": 147,
     "metadata": {},
     "output_type": "execute_result"
    }
   ],
   "source": [
    "my_details.items()"
   ]
  },
  {
   "cell_type": "code",
   "execution_count": 149,
   "id": "8a55b94a-1a2a-4504-813d-0a1611dd097d",
   "metadata": {},
   "outputs": [],
   "source": [
    "del my_details['name']"
   ]
  },
  {
   "cell_type": "code",
   "execution_count": 151,
   "id": "e99284ae-18c7-4d33-ad36-1afb68f5bbd7",
   "metadata": {},
   "outputs": [
    {
     "data": {
      "text/plain": [
       "dict_items([('designation', 'Ai engineer')])"
      ]
     },
     "execution_count": 151,
     "metadata": {},
     "output_type": "execute_result"
    }
   ],
   "source": [
    "my_details.items()"
   ]
  },
  {
   "cell_type": "code",
   "execution_count": 159,
   "id": "f7377f3f-7554-4878-a8a3-3ed09cfe5e02",
   "metadata": {},
   "outputs": [
    {
     "name": "stdout",
     "output_type": "stream",
     "text": [
      "                 Bhaskar      damu\n",
      "id                    01        02\n",
      "salary          20000000  40000000\n",
      "designation  Ai engineer     miner\n"
     ]
    }
   ],
   "source": [
    "# coverting dict to dataframe\n",
    "import pandas as pd\n",
    "df = pd.DataFrame(emp_details['employee'])\n",
    "print(df)"
   ]
  },
  {
   "cell_type": "code",
   "execution_count": 26,
   "id": "93b5009d-573b-4800-8260-afa165274989",
   "metadata": {},
   "outputs": [
    {
     "name": "stdout",
     "output_type": "stream",
     "text": [
      "j 3\n",
      "k 2\n",
      "r 88\n"
     ]
    }
   ],
   "source": [
    "dictionary = {\"j\":5,\"k\":2,\"j\":3}\n",
    "dictionary[\"r\"] = 88\n",
    "del dictionary[\"r\"]\n",
    "dictionary[\"r\"] = 88\n",
    "dictionary.items()\n",
    "dictionary.keys()\n",
    "dictionary.values()\n",
    "for I ,val in dictionary.items():\n",
    "    print(I,val)"
   ]
  },
  {
   "cell_type": "code",
   "execution_count": 28,
   "id": "dd2913c4-1270-4b69-af1d-20ba072fd451",
   "metadata": {},
   "outputs": [
    {
     "data": {
      "text/plain": [
       "{'e', 'h', 'l', 'o'}"
      ]
     },
     "execution_count": 28,
     "metadata": {},
     "output_type": "execute_result"
    }
   ],
   "source": [
    "# set implementation\n",
    "s = set(\"hello\")\n",
    "s"
   ]
  },
  {
   "cell_type": "code",
   "execution_count": 30,
   "id": "3b190e91-8c3c-45b1-8b65-ce546b49dc6e",
   "metadata": {},
   "outputs": [
    {
     "data": {
      "text/plain": [
       "{1, 2, 3, 4, 5, 6}"
      ]
     },
     "execution_count": 30,
     "metadata": {},
     "output_type": "execute_result"
    }
   ],
   "source": [
    "# set dont allow duplicate values\n",
    "s = {1,1,2,2,3,4,5,6,6}\n",
    "s"
   ]
  },
  {
   "cell_type": "code",
   "execution_count": null,
   "id": "2382e24b-5318-4287-aa5b-4ed55455baf2",
   "metadata": {},
   "outputs": [],
   "source": []
  }
 ],
 "metadata": {
  "kernelspec": {
   "display_name": "Python 3 (ipykernel)",
   "language": "python",
   "name": "python3"
  },
  "language_info": {
   "codemirror_mode": {
    "name": "ipython",
    "version": 3
   },
   "file_extension": ".py",
   "mimetype": "text/x-python",
   "name": "python",
   "nbconvert_exporter": "python",
   "pygments_lexer": "ipython3",
   "version": "3.12.4"
  }
 },
 "nbformat": 4,
 "nbformat_minor": 5
}
