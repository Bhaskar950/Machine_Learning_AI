{
 "cells": [
  {
   "cell_type": "code",
   "execution_count": 14,
   "id": "28af5872-1699-4c52-a7bf-3f0b6306dc1d",
   "metadata": {},
   "outputs": [
    {
     "name": "stdout",
     "output_type": "stream",
     "text": [
      "()()()()\n"
     ]
    }
   ],
   "source": [
    "def removeOuterPara(s):\n",
    "    result = []\n",
    "    depth = 0\n",
    "    for char in s:\n",
    "        if char == '(':\n",
    "            if depth > 0:\n",
    "                result.append(char)\n",
    "            depth += 1\n",
    "        elif char == ')':\n",
    "            depth -= 1\n",
    "            if depth > 0:\n",
    "                result.append(char)\n",
    "    return ''.join(result)\n",
    "            \n",
    "s = \"(()())(())(())\"\n",
    "print(removeOuterPara(s)) \n",
    "    "
   ]
  },
  {
   "cell_type": "markdown",
   "id": "b864efde-bd55-4153-acea-6e3046cab744",
   "metadata": {},
   "source": [
    "Reverse Words in a String\n",
    "\n",
    "Problem Statement: Given a string s, reverse the words of the string.\n",
    "\n",
    "Examples:\n",
    "\n",
    "Example 1:\n",
    "Input: s=”this is an amazing program”\n",
    "Output: “program amazing an is this”\n",
    "\n",
    "Example 2:\n",
    "Input: s=”This is decent”\n",
    "Output: “decent is This”"
   ]
  },
  {
   "cell_type": "code",
   "execution_count": 22,
   "id": "f2650411-e805-4d55-93e1-01be327c724e",
   "metadata": {},
   "outputs": [
    {
     "name": "stdout",
     "output_type": "stream",
     "text": [
      "['i', 'love', 'india']\n",
      "['india', 'love', 'i']\n",
      "india love i\n"
     ]
    }
   ],
   "source": [
    "def reverseString(s):\n",
    "    words = s.split()\n",
    "    print(words)\n",
    "    reverse_words = words[::-1]\n",
    "    print(reverse_words)\n",
    "    return \" \".join(reverse_words)\n",
    "\n",
    "s = 'i love india'\n",
    "print(reverseString(s))"
   ]
  },
  {
   "cell_type": "code",
   "execution_count": 26,
   "id": "9c6108a6-d780-4789-a2c6-21b403f57330",
   "metadata": {},
   "outputs": [
    {
     "name": "stdout",
     "output_type": "stream",
     "text": [
      "indiasss love i\n"
     ]
    }
   ],
   "source": [
    "# practice \n",
    "\n",
    "def reverseS(s):\n",
    "    words = s.split()\n",
    "    reverse_words = words[::-1]\n",
    "    return ' '.join(reverse_words)\n",
    "\n",
    "s = 'i love indiasss'\n",
    "print(reverseS(s))\n",
    "    "
   ]
  },
  {
   "cell_type": "markdown",
   "id": "677237ec-8f0a-479c-a273-8e2ec9f21280",
   "metadata": {},
   "source": [
    "You are given a string num, representing a large integer. Return the largest-valued odd integer (as a string) that is a non-empty substring of num, or an empty string \"\" if no odd integer exists.\n",
    "\n",
    "A substring is a contiguous sequence of characters within a string.\n",
    "\n",
    " \n",
    "\n",
    "Example 1:\n",
    "\n",
    "Input: num = \"52\"\n",
    "Output: \"5\"\n",
    "Explanation: The only non-empty substrings are \"5\", \"2\", and \"52\". \"5\" is the only odd number.\n",
    "Example 2:\n",
    "\n",
    "Input: num = \"4206\"\n",
    "Output: \"\"\n",
    "Explanation: There are no odd numbers in \"4206\".\n",
    "Example 3:\n",
    "\n",
    "Input: num = \"35427\"\n",
    "Output: \"35427\"\n",
    "Explanation: \"35427\" is already an odd number.\n"
   ]
  },
  {
   "cell_type": "code",
   "execution_count": 19,
   "id": "5021326a-2a2b-407e-83f6-1b14ed5bd962",
   "metadata": {},
   "outputs": [
    {
     "name": "stdout",
     "output_type": "stream",
     "text": [
      "5\n"
     ]
    }
   ],
   "source": [
    "def longestOddNum(s):\n",
    "    for i in range(len(s)-1,-1,-1):\n",
    "        if int(s[i]) % 2 != 0:\n",
    "            return s[:i+1]\n",
    "    return \"\"\n",
    "\n",
    "s = '52'\n",
    "print(longestOddNum(s))"
   ]
  },
  {
   "cell_type": "code",
   "execution_count": 27,
   "id": "21eb3965-9784-4103-ba0d-d92fe4a0a2ae",
   "metadata": {},
   "outputs": [
    {
     "name": "stdout",
     "output_type": "stream",
     "text": [
      "3\n"
     ]
    }
   ],
   "source": [
    "def longOdd(s):\n",
    "    for i in range(len(s)-1,-1,-1):\n",
    "        if int(s[i]) % 2 != 0:\n",
    "            return s[:i + 1]\n",
    "    return \" \"\n",
    "\n",
    "s = '34462'\n",
    "print(longOdd(s))"
   ]
  },
  {
   "cell_type": "code",
   "execution_count": null,
   "id": "e5478c15-aadc-41d3-a36e-fbe6cd93b933",
   "metadata": {},
   "outputs": [],
   "source": []
  },
  {
   "cell_type": "markdown",
   "id": "d0f8e291-226b-4b84-a377-2a3b794fc822",
   "metadata": {},
   "source": [
    "\n",
    "Longest common prefix\n",
    "\n",
    "Example Walkthrough:\n",
    "For strs = [\"flower\", \"flow\", \"flight\"]:\n",
    "\n",
    "Start with \"flower\" as the initial prefix.\n",
    "Compare \"flower\" with \"flow\": Trim to \"flow\".\n",
    "Compare \"flow\" with \"flight\": Trim to \"fl\".\n",
    "\"fl\" is the longest common prefix."
   ]
  },
  {
   "cell_type": "code",
   "execution_count": 44,
   "id": "2da06e5d-116e-44bc-8a9c-4019a58f8699",
   "metadata": {},
   "outputs": [
    {
     "name": "stdout",
     "output_type": "stream",
     "text": [
      "fl\n"
     ]
    }
   ],
   "source": [
    "def longestCommonPrefix(s):\n",
    "    if not s:\n",
    "        return \"\"\n",
    "    prefix = s[0]\n",
    "    for i in s[1:]:\n",
    "        while not i.startswith(prefix):\n",
    "            prefix = prefix[:-1]\n",
    "            if not prefix:\n",
    "                return \"\"\n",
    "    return prefix\n",
    "\n",
    "s = [\"flower\",\"flow\",\"flight\"]\n",
    "print(longestCommonPrefix(s))"
   ]
  },
  {
   "cell_type": "code",
   "execution_count": 52,
   "id": "27448119-c171-45f3-9b58-05e9cdf1aadc",
   "metadata": {},
   "outputs": [
    {
     "name": "stdout",
     "output_type": "stream",
     "text": [
      "flo\n"
     ]
    }
   ],
   "source": [
    "def longestCommonPre(s):\n",
    "    if not s:\n",
    "        return \" \"\n",
    "    prefix = s[0]\n",
    "    for i in s[1:]:\n",
    "        while not i.startswith(prefix):\n",
    "            prefix = prefix[:-1]\n",
    "            if not prefix:\n",
    "                return \"\"\n",
    "    return prefix\n",
    "\n",
    "s = [\"flower\",\"flow\",\"floight\"]\n",
    "print(longestCommonPre(s))"
   ]
  },
  {
   "cell_type": "code",
   "execution_count": null,
   "id": "cb880f1a-9283-47c4-af25-2b29b6283377",
   "metadata": {},
   "outputs": [],
   "source": []
  }
 ],
 "metadata": {
  "kernelspec": {
   "display_name": "Python 3 (ipykernel)",
   "language": "python",
   "name": "python3"
  },
  "language_info": {
   "codemirror_mode": {
    "name": "ipython",
    "version": 3
   },
   "file_extension": ".py",
   "mimetype": "text/x-python",
   "name": "python",
   "nbconvert_exporter": "python",
   "pygments_lexer": "ipython3",
   "version": "3.12.4"
  }
 },
 "nbformat": 4,
 "nbformat_minor": 5
}
