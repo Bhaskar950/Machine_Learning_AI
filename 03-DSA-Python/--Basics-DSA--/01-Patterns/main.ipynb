{
 "cells": [
  {
   "cell_type": "code",
   "execution_count": 54,
   "id": "a8140f3a-0c99-4e42-96ae-2ffcbd49ce4a",
   "metadata": {},
   "outputs": [
    {
     "name": "stdin",
     "output_type": "stream",
     "text": [
      "enter your number 7\n"
     ]
    },
    {
     "name": "stdout",
     "output_type": "stream",
     "text": [
      "*******\n",
      "*******\n",
      "*******\n",
      "*******\n",
      "*******\n",
      "*******\n",
      "*******\n"
     ]
    }
   ],
   "source": [
    "def pattern_print():\n",
    "    n = int(input(\"enter your number\"))\n",
    "    for i in range(n):\n",
    "        # print(i)\n",
    "        for j in range(0,n):\n",
    "            print(\"*\",end=\"\")\n",
    "        print(\"\")\n",
    "\n",
    "pattern_print()"
   ]
  },
  {
   "cell_type": "code",
   "execution_count": 12,
   "id": "2db03849-e6e6-45ad-8ba4-b83e867ab7b3",
   "metadata": {},
   "outputs": [
    {
     "name": "stdin",
     "output_type": "stream",
     "text": [
      "enter your number 3\n"
     ]
    },
    {
     "name": "stdout",
     "output_type": "stream",
     "text": [
      "\n",
      "*\n",
      "**\n"
     ]
    }
   ],
   "source": [
    "def p2():\n",
    "    n = int(input(\"enter your number\"))\n",
    "    for i in range(n):\n",
    "        for j in range(0,i):\n",
    "            print(\"*\",end=\"\")\n",
    "        print(\"\")\n",
    "p2()"
   ]
  },
  {
   "cell_type": "code",
   "execution_count": 18,
   "id": "66869f01-a134-49c4-b8c0-27ef75ce8f44",
   "metadata": {},
   "outputs": [
    {
     "name": "stdout",
     "output_type": "stream",
     "text": [
      "\n",
      "1\n",
      "12\n",
      "123\n",
      "1234\n",
      "12345\n"
     ]
    }
   ],
   "source": [
    "def p3():\n",
    "    n = 6\n",
    "    for i in range(0,n):\n",
    "        for j in range(1,i+1):\n",
    "            print(j,end=\"\")\n",
    "        print()\n",
    "\n",
    "p3()"
   ]
  },
  {
   "cell_type": "code",
   "execution_count": 26,
   "id": "761f1e49-b64f-4e8a-9bde-bbda93dec904",
   "metadata": {},
   "outputs": [
    {
     "name": "stdout",
     "output_type": "stream",
     "text": [
      "**\n",
      "**********\n",
      "******************\n",
      "**************************\n",
      "**********************************\n",
      "******************************************\n",
      "**************************************************\n",
      "**********************************************************\n",
      "******************************************************************\n"
     ]
    }
   ],
   "source": [
    "def p4():\n",
    "    n = 9\n",
    "    k = 1\n",
    "    for i in range(0,n):\n",
    "        for j in range(1,k+1):\n",
    "            print(\"*\",end=\"\")\n",
    "        k = k + 8\n",
    "        print()\n",
    "\n",
    "p4()"
   ]
  },
  {
   "cell_type": "code",
   "execution_count": 57,
   "id": "2b386eda-1a8e-4797-8bf5-394adf256660",
   "metadata": {},
   "outputs": [],
   "source": [
    "# def numIncrePattern():\n",
    "#     n = 6\n",
    "#     for i in range(n):\n",
    "#         for j in range(j):\n",
    "#             print(j,end=\"\")\n",
    "#         j = j + 1\n",
    "#         print()\n",
    "\n",
    "# numIncrePattern()\n",
    "           "
   ]
  },
  {
   "cell_type": "code",
   "execution_count": 55,
   "id": "04bc1625-96e7-46b9-9827-fb77b352cd13",
   "metadata": {},
   "outputs": [
    {
     "name": "stdout",
     "output_type": "stream",
     "text": [
      "1\n",
      "22\n",
      "333\n",
      "4444\n",
      "55555\n",
      "666666\n",
      "7777777\n"
     ]
    }
   ],
   "source": [
    "n = 7\n",
    "for i in range(1,n+1):\n",
    "    print(f\"{i}\" * i)"
   ]
  },
  {
   "cell_type": "code",
   "execution_count": 2,
   "id": "792c8e74-622c-4fac-8d47-d377bf963ca3",
   "metadata": {},
   "outputs": [
    {
     "name": "stdout",
     "output_type": "stream",
     "text": [
      "1\n",
      "22\n",
      "333\n",
      "4444\n",
      "55555\n"
     ]
    }
   ],
   "source": [
    "n = 5\n",
    "for i in range(1,n+1):\n",
    "    for j in range(i):\n",
    "        print(i,end='')\n",
    "    print()"
   ]
  },
  {
   "cell_type": "code",
   "execution_count": 35,
   "id": "4f50ce55-e5b5-45f4-85c0-5b885487f403",
   "metadata": {},
   "outputs": [
    {
     "name": "stdout",
     "output_type": "stream",
     "text": [
      "******\n",
      "*****\n",
      "****\n",
      "***\n",
      "**\n",
      "*\n"
     ]
    }
   ],
   "source": [
    "n = 6\n",
    "\n",
    "for i in range(n,0,-1):\n",
    "    for j in range(i):\n",
    "        print('*' , end='')\n",
    "    print('')\n"
   ]
  },
  {
   "cell_type": "code",
   "execution_count": 37,
   "id": "457bab5d-87de-4aca-bfac-c49b83d4b163",
   "metadata": {},
   "outputs": [
    {
     "name": "stdout",
     "output_type": "stream",
     "text": [
      "123456\n",
      "12345\n",
      "1234\n",
      "123\n",
      "12\n",
      "1\n"
     ]
    }
   ],
   "source": [
    "n = 6\n",
    "\n",
    "for i in range(n,0,-1):\n",
    "    for j in range(1,i+1):\n",
    "        print(j,end = '')\n",
    "    print('')"
   ]
  },
  {
   "cell_type": "code",
   "execution_count": null,
   "id": "fd77cea5-cc4e-4e06-9c5f-fd5831fca67a",
   "metadata": {},
   "outputs": [],
   "source": [
    "n = 6\n",
    "for i in range(0,n):\n",
    "    for j in range()"
   ]
  }
 ],
 "metadata": {
  "kernelspec": {
   "display_name": "Python 3 (ipykernel)",
   "language": "python",
   "name": "python3"
  },
  "language_info": {
   "codemirror_mode": {
    "name": "ipython",
    "version": 3
   },
   "file_extension": ".py",
   "mimetype": "text/x-python",
   "name": "python",
   "nbconvert_exporter": "python",
   "pygments_lexer": "ipython3",
   "version": "3.12.4"
  }
 },
 "nbformat": 4,
 "nbformat_minor": 5
}
