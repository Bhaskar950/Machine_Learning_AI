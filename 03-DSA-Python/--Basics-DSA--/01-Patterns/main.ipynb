{
 "cells": [
  {
   "cell_type": "code",
   "execution_count": 54,
   "id": "a8140f3a-0c99-4e42-96ae-2ffcbd49ce4a",
   "metadata": {},
   "outputs": [
    {
     "name": "stdin",
     "output_type": "stream",
     "text": [
      "enter your number 7\n"
     ]
    },
    {
     "name": "stdout",
     "output_type": "stream",
     "text": [
      "*******\n",
      "*******\n",
      "*******\n",
      "*******\n",
      "*******\n",
      "*******\n",
      "*******\n"
     ]
    }
   ],
   "source": [
    "def pattern_print():\n",
    "    n = int(input(\"enter your number\"))\n",
    "    for i in range(n):\n",
    "        # print(i)\n",
    "        for j in range(0,n):\n",
    "            print(\"*\",end=\"\")\n",
    "        print(\"\")\n",
    "\n",
    "pattern_print()"
   ]
  },
  {
   "cell_type": "code",
   "execution_count": 12,
   "id": "2db03849-e6e6-45ad-8ba4-b83e867ab7b3",
   "metadata": {},
   "outputs": [
    {
     "name": "stdin",
     "output_type": "stream",
     "text": [
      "enter your number 3\n"
     ]
    },
    {
     "name": "stdout",
     "output_type": "stream",
     "text": [
      "\n",
      "*\n",
      "**\n"
     ]
    }
   ],
   "source": [
    "def p2():\n",
    "    n = int(input(\"enter your number\"))\n",
    "    for i in range(n):\n",
    "        for j in range(0,i):\n",
    "            print(\"*\",end=\"\")\n",
    "        print(\"\")\n",
    "p2()"
   ]
  },
  {
   "cell_type": "code",
   "execution_count": 18,
   "id": "66869f01-a134-49c4-b8c0-27ef75ce8f44",
   "metadata": {},
   "outputs": [
    {
     "name": "stdout",
     "output_type": "stream",
     "text": [
      "\n",
      "1\n",
      "12\n",
      "123\n",
      "1234\n",
      "12345\n"
     ]
    }
   ],
   "source": [
    "def p3():\n",
    "    n = 6\n",
    "    for i in range(0,n):\n",
    "        for j in range(1,i+1):\n",
    "            print(j,end=\"\")\n",
    "        print()\n",
    "\n",
    "p3()"
   ]
  },
  {
   "cell_type": "code",
   "execution_count": 26,
   "id": "761f1e49-b64f-4e8a-9bde-bbda93dec904",
   "metadata": {},
   "outputs": [
    {
     "name": "stdout",
     "output_type": "stream",
     "text": [
      "**\n",
      "**********\n",
      "******************\n",
      "**************************\n",
      "**********************************\n",
      "******************************************\n",
      "**************************************************\n",
      "**********************************************************\n",
      "******************************************************************\n"
     ]
    }
   ],
   "source": [
    "def p4():\n",
    "    n = 9\n",
    "    k = 1\n",
    "    for i in range(0,n):\n",
    "        for j in range(1,k+1):\n",
    "            print(\"*\",end=\"\")\n",
    "        k = k + 8\n",
    "        print()\n",
    "\n",
    "p4()"
   ]
  },
  {
   "cell_type": "code",
   "execution_count": 36,
   "id": "2b386eda-1a8e-4797-8bf5-394adf256660",
   "metadata": {},
   "outputs": [
    {
     "ename": "UnboundLocalError",
     "evalue": "cannot access local variable 'j' where it is not associated with a value",
     "output_type": "error",
     "traceback": [
      "\u001b[0;31m---------------------------------------------------------------------------\u001b[0m",
      "\u001b[0;31mUnboundLocalError\u001b[0m                         Traceback (most recent call last)",
      "Cell \u001b[0;32mIn[36], line 9\u001b[0m\n\u001b[1;32m      6\u001b[0m         j \u001b[38;5;241m=\u001b[39m j \u001b[38;5;241m+\u001b[39m \u001b[38;5;241m1\u001b[39m\n\u001b[1;32m      7\u001b[0m         \u001b[38;5;28mprint\u001b[39m()\n\u001b[0;32m----> 9\u001b[0m numIncrePattern()\n",
      "Cell \u001b[0;32mIn[36], line 4\u001b[0m, in \u001b[0;36mnumIncrePattern\u001b[0;34m()\u001b[0m\n\u001b[1;32m      2\u001b[0m n \u001b[38;5;241m=\u001b[39m \u001b[38;5;241m6\u001b[39m\n\u001b[1;32m      3\u001b[0m \u001b[38;5;28;01mfor\u001b[39;00m i \u001b[38;5;129;01min\u001b[39;00m \u001b[38;5;28mrange\u001b[39m(n):\n\u001b[0;32m----> 4\u001b[0m     \u001b[38;5;28;01mfor\u001b[39;00m j \u001b[38;5;129;01min\u001b[39;00m \u001b[38;5;28mrange\u001b[39m(j):\n\u001b[1;32m      5\u001b[0m         \u001b[38;5;28mprint\u001b[39m(j,end\u001b[38;5;241m=\u001b[39m\u001b[38;5;124m\"\u001b[39m\u001b[38;5;124m\"\u001b[39m)\n\u001b[1;32m      6\u001b[0m     j \u001b[38;5;241m=\u001b[39m j \u001b[38;5;241m+\u001b[39m \u001b[38;5;241m1\u001b[39m\n",
      "\u001b[0;31mUnboundLocalError\u001b[0m: cannot access local variable 'j' where it is not associated with a value"
     ]
    }
   ],
   "source": [
    "def numIncrePattern():\n",
    "    n = 6\n",
    "    for i in range(n):\n",
    "        for j in range(j):\n",
    "            print(j,end=\"\")\n",
    "        j = j + 1\n",
    "        print()\n",
    "\n",
    "numIncrePattern()\n",
    "           "
   ]
  },
  {
   "cell_type": "code",
   "execution_count": 55,
   "id": "04bc1625-96e7-46b9-9827-fb77b352cd13",
   "metadata": {},
   "outputs": [
    {
     "name": "stdout",
     "output_type": "stream",
     "text": [
      "1\n",
      "22\n",
      "333\n",
      "4444\n",
      "55555\n",
      "666666\n",
      "7777777\n"
     ]
    }
   ],
   "source": [
    "n = 7\n",
    "for i in range(1,n+1):\n",
    "    print(f\"{i}\" * i)"
   ]
  },
  {
   "cell_type": "code",
   "execution_count": null,
   "id": "792c8e74-622c-4fac-8d47-d377bf963ca3",
   "metadata": {},
   "outputs": [],
   "source": []
  },
  {
   "cell_type": "code",
   "execution_count": null,
   "id": "4f50ce55-e5b5-45f4-85c0-5b885487f403",
   "metadata": {},
   "outputs": [],
   "source": []
  }
 ],
 "metadata": {
  "kernelspec": {
   "display_name": "Python 3 (ipykernel)",
   "language": "python",
   "name": "python3"
  },
  "language_info": {
   "codemirror_mode": {
    "name": "ipython",
    "version": 3
   },
   "file_extension": ".py",
   "mimetype": "text/x-python",
   "name": "python",
   "nbconvert_exporter": "python",
   "pygments_lexer": "ipython3",
   "version": "3.12.4"
  }
 },
 "nbformat": 4,
 "nbformat_minor": 5
}
