{
 "cells": [
  {
   "cell_type": "code",
   "execution_count": 12,
   "id": "3c1f5b3f-4890-44d7-a4cc-3e80dcdeee09",
   "metadata": {},
   "outputs": [
    {
     "name": "stdout",
     "output_type": "stream",
     "text": [
      "8\n"
     ]
    }
   ],
   "source": [
    "def count_digits(N):\n",
    "    cnt = 0\n",
    "    while N > 0:\n",
    "        cnt = cnt + 1\n",
    "        N = N // 10\n",
    "    return cnt\n",
    "\n",
    "N = 44444888\n",
    "print(count_digits(N))\n"
   ]
  },
  {
   "cell_type": "code",
   "execution_count": 28,
   "id": "82427aa7-a037-4bd8-be8c-1a09a870ecf7",
   "metadata": {},
   "outputs": [
    {
     "name": "stdout",
     "output_type": "stream",
     "text": [
      "123\n",
      "12\n",
      "1\n",
      "0\n",
      "num of digits 4 \n"
     ]
    }
   ],
   "source": [
    "def num_digits(n):\n",
    "    count = 0\n",
    "    while n > 0:\n",
    "        count = count + 1\n",
    "        n = n // 10\n",
    "        print(n)\n",
    "    return count\n",
    "n = 1234\n",
    "print(f\"num of digits {num_digits(n)} \")\n",
    "        "
   ]
  },
  {
   "cell_type": "code",
   "execution_count": 38,
   "id": "5d882b15-607c-4eba-884b-2e0a0695a900",
   "metadata": {},
   "outputs": [
    {
     "name": "stdout",
     "output_type": "stream",
     "text": [
      "4\n"
     ]
    }
   ],
   "source": [
    "# Given a number n. Count the number of digits in n which evenly divide n. Return an integer, total number of digits of n which divides n evenly.\n",
    "\n",
    "# Note :- Evenly divides means whether n is divisible by a digit i.e. leaves a remainder 0 when divided.\n",
    " \n",
    "\n",
    "# Examples :\n",
    "\n",
    "# Input: n = 12\n",
    "# Output: 2\n",
    "# Explanation: 1, 2 when both divide 12 leaves remainder 0.\n",
    "# Input: n = 2446\n",
    "# Output: 1\n",
    "# Explanation: Here among 2, 4, 6 only 2 divides 2446 evenly while 4 and 6 do not.\n",
    "\n",
    "\n",
    "def evenly_devides(n):\n",
    "    num_str = str(n)\n",
    "    count = 0\n",
    "    for digit in num_str:\n",
    "        digit_int = int(digit)\n",
    "        if digit_int != 0 and n % digit_int == 0:\n",
    "            count += 1\n",
    "    return count\n",
    "\n",
    "n = 12468999900\n",
    "print(evenly_devides(n))"
   ]
  },
  {
   "cell_type": "code",
   "execution_count": null,
   "id": "a1d480c1-da71-4752-beb3-e992101ecf96",
   "metadata": {},
   "outputs": [],
   "source": []
  }
 ],
 "metadata": {
  "kernelspec": {
   "display_name": "Python 3 (ipykernel)",
   "language": "python",
   "name": "python3"
  },
  "language_info": {
   "codemirror_mode": {
    "name": "ipython",
    "version": 3
   },
   "file_extension": ".py",
   "mimetype": "text/x-python",
   "name": "python",
   "nbconvert_exporter": "python",
   "pygments_lexer": "ipython3",
   "version": "3.12.4"
  }
 },
 "nbformat": 4,
 "nbformat_minor": 5
}
