{
 "cells": [
  {
   "cell_type": "code",
   "execution_count": 12,
   "id": "3c1f5b3f-4890-44d7-a4cc-3e80dcdeee09",
   "metadata": {},
   "outputs": [
    {
     "name": "stdout",
     "output_type": "stream",
     "text": [
      "8\n"
     ]
    }
   ],
   "source": [
    "def count_digits(N):\n",
    "    cnt = 0\n",
    "    while N > 0:\n",
    "        cnt = cnt + 1\n",
    "        N = N // 10\n",
    "    return cnt\n",
    "\n",
    "N = 44444888\n",
    "print(count_digits(N))\n"
   ]
  },
  {
   "cell_type": "code",
   "execution_count": 28,
   "id": "82427aa7-a037-4bd8-be8c-1a09a870ecf7",
   "metadata": {},
   "outputs": [
    {
     "name": "stdout",
     "output_type": "stream",
     "text": [
      "123\n",
      "12\n",
      "1\n",
      "0\n",
      "num of digits 4 \n"
     ]
    }
   ],
   "source": [
    "def num_digits(n):\n",
    "    count = 0\n",
    "    while n > 0:\n",
    "        count = count + 1\n",
    "        n = n // 10\n",
    "        print(n)\n",
    "    return count\n",
    "n = 1234\n",
    "print(f\"num of digits {num_digits(n)} \")\n",
    "        "
   ]
  },
  {
   "cell_type": "code",
   "execution_count": 4,
   "id": "5d882b15-607c-4eba-884b-2e0a0695a900",
   "metadata": {},
   "outputs": [
    {
     "name": "stdout",
     "output_type": "stream",
     "text": [
      "4\n"
     ]
    }
   ],
   "source": [
    "# Given a number n. Count the number of digits in n which evenly divide n. Return an integer, total number of digits of n which divides n evenly.\n",
    "\n",
    "# Note :- Evenly divides means whether n is divisible by a digit i.e. leaves a remainder 0 when divided.\n",
    " \n",
    "\n",
    "# Examples :\n",
    "\n",
    "# Input: n = 12\n",
    "# Output: 2\n",
    "# Explanation: 1, 2 when both divide 12 leaves remainder 0.\n",
    "# Input: n = 2446\n",
    "# Output: 1\n",
    "# Explanation: Here among 2, 4, 6 only 2 divides 2446 evenly while 4 and 6 do not.\n",
    "\n",
    "\n",
    "def evenly_devides(n):\n",
    "    num_str = str(n)\n",
    "    count = 0\n",
    "    for digit in num_str:\n",
    "        digit_int = int(digit)\n",
    "        if digit_int != 0 and n % digit_int == 0:\n",
    "            count += 1\n",
    "    return count\n",
    "\n",
    "n = 12468999900\n",
    "print(evenly_devides(n))"
   ]
  },
  {
   "cell_type": "code",
   "execution_count": 6,
   "id": "a1d480c1-da71-4752-beb3-e992101ecf96",
   "metadata": {},
   "outputs": [
    {
     "name": "stdout",
     "output_type": "stream",
     "text": [
      "11\n"
     ]
    }
   ],
   "source": [
    "import math\n",
    "\n",
    "def evenly_di(n):\n",
    "    cnt = int(math.log10(n)+1)\n",
    "    return cnt\n",
    "\n",
    "n = 12468999900\n",
    "print(evenly_di(n))"
   ]
  },
  {
   "cell_type": "code",
   "execution_count": 12,
   "id": "2c9e7203-7e1f-427d-94c3-1ec8b4d84024",
   "metadata": {},
   "outputs": [
    {
     "name": "stdout",
     "output_type": "stream",
     "text": [
      "321\n"
     ]
    }
   ],
   "source": [
    "# reverse interger\n",
    "\n",
    "def reverse_inte(n):\n",
    "    revNum = 0\n",
    "    while n > 0:\n",
    "        last_digit = n % 10\n",
    "        revNum = (revNum * 10) + last_digit\n",
    "        n = n // 10\n",
    "    return revNum\n",
    "\n",
    "\n",
    "\n",
    "n = 7789\n",
    "print(reverse_inte(n))"
   ]
  },
  {
   "cell_type": "code",
   "execution_count": 14,
   "id": "7f620343-76a1-40b1-b4b9-e6e104dbe33c",
   "metadata": {},
   "outputs": [
    {
     "name": "stdout",
     "output_type": "stream",
     "text": [
      "321\n"
     ]
    }
   ],
   "source": [
    "# practice\n",
    "\n",
    "def rev(n):\n",
    "    revNum = 0\n",
    "    while n > 0:\n",
    "        last_digit = n % 10\n",
    "        revNum = (revNum * 10 ) + last_digit\n",
    "        n = n // 10\n",
    "    return revNum\n",
    "\n",
    "n = 123\n",
    "print(rev(n))"
   ]
  },
  {
   "cell_type": "code",
   "execution_count": null,
   "id": "29393519-16e5-46e2-ae18-6b8ab6932b57",
   "metadata": {},
   "outputs": [],
   "source": [
    "# practice\n",
    "def revrse(n):\n",
    "    rev_num = 0\n",
    "    while n > 0:\n",
    "        last_digit = n % 10\n",
    "        rev_num = (rev_num * 10) + last_digit\n",
    "        n = n // 10\n",
    "    return rev_num\n",
    "    \n",
    "n = 12345\n",
    "print(revrse(n))\n",
    "    "
   ]
  },
  {
   "cell_type": "code",
   "execution_count": null,
   "id": "45b64727-9efd-4312-ad7e-09c746c52b16",
   "metadata": {},
   "outputs": [],
   "source": []
  },
  {
   "cell_type": "code",
   "execution_count": null,
   "id": "13f74374-3946-4b9f-87dc-f049ca3f277d",
   "metadata": {},
   "outputs": [],
   "source": []
  },
  {
   "cell_type": "code",
   "execution_count": null,
   "id": "c2a9ce68-8f6f-483b-8bf9-bde8a77f1dbc",
   "metadata": {},
   "outputs": [],
   "source": []
  },
  {
   "cell_type": "code",
   "execution_count": null,
   "id": "bcd1174f-29c3-43b9-b77a-f0da3763da9f",
   "metadata": {},
   "outputs": [],
   "source": []
  }
 ],
 "metadata": {
  "kernelspec": {
   "display_name": "Python 3 (ipykernel)",
   "language": "python",
   "name": "python3"
  },
  "language_info": {
   "codemirror_mode": {
    "name": "ipython",
    "version": 3
   },
   "file_extension": ".py",
   "mimetype": "text/x-python",
   "name": "python",
   "nbconvert_exporter": "python",
   "pygments_lexer": "ipython3",
   "version": "3.12.4"
  }
 },
 "nbformat": 4,
 "nbformat_minor": 5
}
