{
 "cells": [
  {
   "cell_type": "code",
   "execution_count": 12,
   "id": "3c1f5b3f-4890-44d7-a4cc-3e80dcdeee09",
   "metadata": {},
   "outputs": [
    {
     "name": "stdout",
     "output_type": "stream",
     "text": [
      "8\n"
     ]
    }
   ],
   "source": [
    "def count_digits(N):\n",
    "    cnt = 0\n",
    "    while N > 0:\n",
    "        cnt = cnt + 1\n",
    "        N = N // 10\n",
    "    return cnt\n",
    "\n",
    "N = 44444888\n",
    "print(count_digits(N))\n"
   ]
  },
  {
   "cell_type": "code",
   "execution_count": 28,
   "id": "82427aa7-a037-4bd8-be8c-1a09a870ecf7",
   "metadata": {},
   "outputs": [
    {
     "name": "stdout",
     "output_type": "stream",
     "text": [
      "123\n",
      "12\n",
      "1\n",
      "0\n",
      "num of digits 4 \n"
     ]
    }
   ],
   "source": [
    "def num_digits(n):\n",
    "    count = 0\n",
    "    while n > 0:\n",
    "        count = count + 1\n",
    "        n = n // 10\n",
    "        print(n)\n",
    "    return count\n",
    "n = 1234\n",
    "print(f\"num of digits {num_digits(n)} \")\n",
    "        "
   ]
  },
  {
   "cell_type": "code",
   "execution_count": 4,
   "id": "5d882b15-607c-4eba-884b-2e0a0695a900",
   "metadata": {},
   "outputs": [
    {
     "name": "stdout",
     "output_type": "stream",
     "text": [
      "4\n"
     ]
    }
   ],
   "source": [
    "# Given a number n. Count the number of digits in n which evenly divide n. Return an integer, total number of digits of n which divides n evenly.\n",
    "\n",
    "# Note :- Evenly divides means whether n is divisible by a digit i.e. leaves a remainder 0 when divided.\n",
    " \n",
    "\n",
    "# Examples :\n",
    "\n",
    "# Input: n = 12\n",
    "# Output: 2\n",
    "# Explanation: 1, 2 when both divide 12 leaves remainder 0.\n",
    "# Input: n = 2446\n",
    "# Output: 1\n",
    "# Explanation: Here among 2, 4, 6 only 2 divides 2446 evenly while 4 and 6 do not.\n",
    "\n",
    "\n",
    "def evenly_devides(n):\n",
    "    num_str = str(n)\n",
    "    count = 0\n",
    "    for digit in num_str:\n",
    "        digit_int = int(digit)\n",
    "        if digit_int != 0 and n % digit_int == 0:\n",
    "            count += 1\n",
    "    return count\n",
    "\n",
    "n = 12468999900\n",
    "print(evenly_devides(n))"
   ]
  },
  {
   "cell_type": "code",
   "execution_count": 6,
   "id": "a1d480c1-da71-4752-beb3-e992101ecf96",
   "metadata": {},
   "outputs": [
    {
     "name": "stdout",
     "output_type": "stream",
     "text": [
      "11\n"
     ]
    }
   ],
   "source": [
    "import math\n",
    "\n",
    "def evenly_di(n):\n",
    "    cnt = int(math.log10(n)+1)\n",
    "    return cnt\n",
    "\n",
    "n = 12468999900\n",
    "print(evenly_di(n))"
   ]
  },
  {
   "cell_type": "code",
   "execution_count": 12,
   "id": "2c9e7203-7e1f-427d-94c3-1ec8b4d84024",
   "metadata": {},
   "outputs": [
    {
     "name": "stdout",
     "output_type": "stream",
     "text": [
      "321\n"
     ]
    }
   ],
   "source": [
    "# reverse interger\n",
    "\n",
    "def reverse_inte(n):\n",
    "    revNum = 0\n",
    "    while n > 0:\n",
    "        last_digit = n % 10\n",
    "        revNum = (revNum * 10) + last_digit\n",
    "        n = n // 10\n",
    "    return revNum\n",
    "\n",
    "\n",
    "\n",
    "n = 7789\n",
    "print(reverse_inte(n))"
   ]
  },
  {
   "cell_type": "code",
   "execution_count": 14,
   "id": "7f620343-76a1-40b1-b4b9-e6e104dbe33c",
   "metadata": {},
   "outputs": [
    {
     "name": "stdout",
     "output_type": "stream",
     "text": [
      "321\n"
     ]
    }
   ],
   "source": [
    "# practice\n",
    "\n",
    "def rev(n):\n",
    "    revNum = 0\n",
    "    while n > 0:\n",
    "        last_digit = n % 10\n",
    "        revNum = (revNum * 10 ) + last_digit\n",
    "        n = n // 10\n",
    "    return revNum\n",
    "\n",
    "n = 123\n",
    "print(rev(n))"
   ]
  },
  {
   "cell_type": "code",
   "execution_count": null,
   "id": "29393519-16e5-46e2-ae18-6b8ab6932b57",
   "metadata": {},
   "outputs": [],
   "source": [
    "# practice\n",
    "def revrse(n):\n",
    "    rev_num = 0\n",
    "    while n > 0:\n",
    "        last_digit = n % 10\n",
    "        rev_num = (rev_num * 10) + last_digit\n",
    "        n = n // 10\n",
    "    return rev_num\n",
    "    \n",
    "n = 12345\n",
    "print(revrse(n))\n",
    "    "
   ]
  },
  {
   "cell_type": "code",
   "execution_count": 7,
   "id": "45b64727-9efd-4312-ad7e-09c746c52b16",
   "metadata": {},
   "outputs": [
    {
     "name": "stdout",
     "output_type": "stream",
     "text": [
      "4321\n"
     ]
    }
   ],
   "source": [
    "# reverse\n",
    "\n",
    "def rever(n):\n",
    "    revNum = 0\n",
    "    while n > 0:\n",
    "        last_digit = n % 10\n",
    "        revNum = (revNum * 10) + last_digit\n",
    "        n = n // 10\n",
    "    return revNum\n",
    "\n",
    "n = 1234\n",
    "\n",
    "print(rever(n))\n",
    "        "
   ]
  },
  {
   "cell_type": "code",
   "execution_count": null,
   "id": "13f74374-3946-4b9f-87dc-f049ca3f277d",
   "metadata": {},
   "outputs": [],
   "source": [
    "class Solution:\n",
    "    def reverse(self, x: int) -> int:\n",
    "        revNum = 0\n",
    "        while x > 0:\n",
    "            last_digit = x % 10\n",
    "            revNum = (revNum * 10 ) + last_digit\n",
    "            x = x // 10\n",
    "        return revNum"
   ]
  },
  {
   "cell_type": "code",
   "execution_count": null,
   "id": "c2a9ce68-8f6f-483b-8bf9-bde8a77f1dbc",
   "metadata": {},
   "outputs": [],
   "source": []
  },
  {
   "cell_type": "code",
   "execution_count": 9,
   "id": "bcd1174f-29c3-43b9-b77a-f0da3763da9f",
   "metadata": {},
   "outputs": [
    {
     "name": "stdout",
     "output_type": "stream",
     "text": [
      "-321\n"
     ]
    }
   ],
   "source": [
    "# reverse also negetive num\n",
    "\n",
    "def rev_also_nege(n):\n",
    "    int_min , int_max = -2 ** 32, 2 ** 32 -1\n",
    "    negetive = n < 0\n",
    "\n",
    "    n = abs(n)\n",
    "    revNum = 0\n",
    "\n",
    "    while n != 0:\n",
    "        last_digit = n % 10\n",
    "        revNum = (revNum * 10) + last_digit\n",
    "        n = n // 10\n",
    "\n",
    "    if negetive:\n",
    "        revNum = -revNum\n",
    "\n",
    "    if revNum < int_min or revNum > int_max:\n",
    "        return 0\n",
    "    return revNum\n",
    "\n",
    "n = -123\n",
    "print(rev_also_nege(n))"
   ]
  },
  {
   "cell_type": "code",
   "execution_count": 27,
   "id": "0f788162-23d3-4b03-8818-843d00f8400e",
   "metadata": {},
   "outputs": [
    {
     "name": "stdout",
     "output_type": "stream",
     "text": [
      "121 is a polindrome\n"
     ]
    }
   ],
   "source": [
    "# palindrome\n",
    "\n",
    "def palindrome(n):\n",
    "    revNum = 0\n",
    "    dup = n\n",
    "    while n > 0:\n",
    "        last_digit = n % 10\n",
    "        revNum = (revNum * 10) + last_digit\n",
    "        n = n // 10\n",
    "    if revNum == dup:\n",
    "        return True\n",
    "        \n",
    "    else:\n",
    "        return False\n",
    "       \n",
    "n = 121\n",
    "if palindrome(n):\n",
    "    print(n , \"is a polindrome\")\n",
    "else:\n",
    "    print(n , \"is not a palindrome\")"
   ]
  },
  {
   "cell_type": "code",
   "execution_count": 33,
   "id": "f66224b5-da45-459f-9c0b-5def1dba9d72",
   "metadata": {},
   "outputs": [
    {
     "name": "stdout",
     "output_type": "stream",
     "text": [
      "5\n"
     ]
    }
   ],
   "source": [
    "# gcd\n",
    "\n",
    "def gcd(n1,n2):\n",
    "    gcds = 1\n",
    "    for i in range(1,min(n1,n2)+1):\n",
    "        if n1 % i == 0 and n2 % i == 0:\n",
    "            gcds = i\n",
    "    return gcds\n",
    "\n",
    "n1,n2 = 20,15\n",
    "print(gcd(n1,n2))"
   ]
  },
  {
   "cell_type": "code",
   "execution_count": 35,
   "id": "3a61e68f-cde2-4141-8ac5-0739b7b90707",
   "metadata": {},
   "outputs": [
    {
     "name": "stdout",
     "output_type": "stream",
     "text": [
      "5\n"
     ]
    }
   ],
   "source": [
    "def gcd1(n1,n2):\n",
    "    for i in range(min(n1,n2),0,-1):\n",
    "        if n1 % i == 0 and n2 % i == 0:\n",
    "            return i\n",
    "    return 1\n",
    "\n",
    "n1,n2 = 15,20\n",
    "print(gcd1(n1,n2))"
   ]
  },
  {
   "cell_type": "code",
   "execution_count": 39,
   "id": "75fba62f-ac90-47f8-878b-2df343da7247",
   "metadata": {},
   "outputs": [
    {
     "name": "stdout",
     "output_type": "stream",
     "text": [
      "[5, 10]\n"
     ]
    }
   ],
   "source": [
    "# gcd,lcm\n",
    "\n",
    "def gcd(a,b):\n",
    "    a,b = b , a % b \n",
    "    return a\n",
    "def lcmAndGcd(a,b):\n",
    "    gcd_val = gcd(a,b)\n",
    "    lcm_val = (a*b)//gcd_val\n",
    "    return [lcm_val,gcd_val]\n",
    "\n",
    "a,b = 5,10\n",
    "print(lcmAndGcd(a,b))"
   ]
  },
  {
   "cell_type": "code",
   "execution_count": null,
   "id": "d2c5689c-f5cc-42fc-a3f6-89433630f0e5",
   "metadata": {},
   "outputs": [],
   "source": [
    "# armstrong num\n",
    "def armStrong(num):\n",
    "\n",
    "    k = len(str(num))\n",
    "    sum = 0\n",
    "    n = num\n",
    "    while n > 0:\n",
    "        last_digit = n % 10\n",
    "        sum = sum + last_digit ** k\n",
    "        n = n // 10\n",
    "    return num == sum\n",
    "\n",
    "nums = 153\n",
    "print(armStrong(nums))\n",
    "\n"
   ]
  },
  {
   "cell_type": "code",
   "execution_count": null,
   "id": "fb745c51-7bcc-4e5f-8da6-8a52d9995803",
   "metadata": {},
   "outputs": [],
   "source": [
    "def arm(num):\n",
    "    k = len(str(num))\n",
    "    sum = 0\n",
    "    n = num\n",
    "    while n > 0:\n",
    "        last_d = n % 10\n",
    "        sum += ls ** k\n",
    "        n = n // 10\n",
    "    return sum == num\n",
    "num = 153\n",
    "print(arm(num)\n",
    "    "
   ]
  },
  {
   "cell_type": "code",
   "execution_count": 8,
   "id": "230eb460-b04c-45a4-a258-53e60265e569",
   "metadata": {},
   "outputs": [
    {
     "name": "stdout",
     "output_type": "stream",
     "text": [
      "not armstrong\n"
     ]
    }
   ],
   "source": [
    "def arm(num):\n",
    "    k = len(str(num))\n",
    "    sum = 0\n",
    "    n = num\n",
    "    while n > 0:\n",
    "        last_d = n % 10\n",
    "        sum += last_d ** k\n",
    "        n = n // 10\n",
    "    return sum == num\n",
    "num = 156\n",
    "if arm(num):\n",
    "    print('armstrong')\n",
    "else:\n",
    "    print('not armstrong')"
   ]
  },
  {
   "cell_type": "code",
   "execution_count": 40,
   "id": "9e2b4b71-2b88-41b4-801a-1b4149ec2c16",
   "metadata": {},
   "outputs": [
    {
     "data": {
      "text/plain": [
       "[1, 2, 5, 10]"
      ]
     },
     "execution_count": 40,
     "metadata": {},
     "output_type": "execute_result"
    }
   ],
   "source": [
    "def divisors(num):\n",
    "    divi = []\n",
    "    for i in range(1 , num + 1):\n",
    "        if num % i  == 0:\n",
    "            divi.append(i)\n",
    "    return divi\n",
    "            \n",
    "        \n",
    "num = 10\n",
    "divisors(num)"
   ]
  },
  {
   "cell_type": "code",
   "execution_count": 44,
   "id": "aa64a315-3226-4440-9e5f-1a24d00c72c4",
   "metadata": {},
   "outputs": [
    {
     "name": "stdout",
     "output_type": "stream",
     "text": [
      "10\n",
      "4\n",
      "5\n"
     ]
    }
   ],
   "source": [
    "num = [10,4,5]\n",
    "for i in num:\n",
    "    print(i)"
   ]
  },
  {
   "cell_type": "code",
   "execution_count": 56,
   "id": "2e5570d1-d344-4869-8f34-e07d71967941",
   "metadata": {},
   "outputs": [
    {
     "name": "stdout",
     "output_type": "stream",
     "text": [
      "True\n"
     ]
    }
   ],
   "source": [
    "# prime check\n",
    "\n",
    "def checkprime(n):\n",
    "    cnt = 0\n",
    "    for i in range(1,n+1):\n",
    "        if n % i == 0:\n",
    "            cnt += 1\n",
    "    if cnt == 2:\n",
    "        return True\n",
    "    else:\n",
    "        return False\n",
    "\n",
    "n = 7\n",
    "print(checkprime(n))"
   ]
  },
  {
   "cell_type": "code",
   "execution_count": null,
   "id": "d3a71c9f-6d2e-4ad2-b7d7-b151edbd592a",
   "metadata": {},
   "outputs": [],
   "source": []
  },
  {
   "cell_type": "code",
   "execution_count": 6,
   "id": "40216c1e-4829-434f-b54e-6161331c4a4a",
   "metadata": {},
   "outputs": [
    {
     "name": "stdout",
     "output_type": "stream",
     "text": [
      "1220136825991110068701238785423046926253574342803192842192413588385845373153881997605496447502203281863013616477148203584163378722078177200480785205159329285477907571939330603772960859086270429174547882424912726344305670173270769461062802310452644218878789465754777149863494367781037644274033827365397471386477878495438489595537537990423241061271326984327745715546309977202781014561081188373709531016356324432987029563896628911658974769572087926928871281780070265174507768410719624390394322536422605234945850129918571501248706961568141625359056693423813008856249246891564126775654481886506593847951775360894005745238940335798476363944905313062323749066445048824665075946735862074637925184200459369692981022263971952597190945217823331756934581508552332820762820023402626907898342451712006207714640979456116127629145951237229913340169552363850942885592018727433795173014586357570828355780158735432768888680120399882384702151467605445407663535984174430480128938313896881639487469658817504506926365338175055478128640000000000000000000000000000000000000000000000000000000000000000000000000000000000000000000000000000000000000000000000000000\n"
     ]
    }
   ],
   "source": [
    "# recursion\n",
    "\n",
    "\n",
    "def factorial(n):\n",
    "    if n == 0:\n",
    "        return 1\n",
    "    else:\n",
    "        return n * factorial (n-1)\n",
    "\n",
    "n = 50\n",
    "print(factorial(n))"
   ]
  },
  {
   "cell_type": "code",
   "execution_count": null,
   "id": "9f910d7d-c42f-4eba-ab0d-5bdefb344094",
   "metadata": {},
   "outputs": [],
   "source": []
  }
 ],
 "metadata": {
  "kernelspec": {
   "display_name": "Python 3 (ipykernel)",
   "language": "python",
   "name": "python3"
  },
  "language_info": {
   "codemirror_mode": {
    "name": "ipython",
    "version": 3
   },
   "file_extension": ".py",
   "mimetype": "text/x-python",
   "name": "python",
   "nbconvert_exporter": "python",
   "pygments_lexer": "ipython3",
   "version": "3.12.4"
  }
 },
 "nbformat": 4,
 "nbformat_minor": 5
}
