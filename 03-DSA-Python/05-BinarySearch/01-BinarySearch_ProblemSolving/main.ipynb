{
 "cells": [
  {
   "cell_type": "code",
   "execution_count": 20,
   "id": "84ffdbc6-a699-4fb2-b5e3-944ef74125cf",
   "metadata": {},
   "outputs": [
    {
     "name": "stdout",
     "output_type": "stream",
     "text": [
      "4\n"
     ]
    }
   ],
   "source": [
    "# Binary search implementation\n",
    "# iterative approach\n",
    "\n",
    "def binary_search(arr,target):\n",
    "    left,right = 0 , len(arr)-1\n",
    "    while left <= right:\n",
    "        mid = (left + right) // 2\n",
    "        if arr[mid] == target:\n",
    "            return mid\n",
    "        elif arr[mid] < target:\n",
    "            left = mid + 1\n",
    "        else:\n",
    "            right = mid - 1\n",
    "    retirn -1\n",
    "arr = [1,3,4,5,6]\n",
    "target = 6\n",
    "\n",
    "print(binary_search(arr,target))\n",
    "        "
   ]
  },
  {
   "cell_type": "code",
   "execution_count": 22,
   "id": "c94b0903-aede-41af-9e38-cc2877dfac88",
   "metadata": {},
   "outputs": [
    {
     "name": "stdout",
     "output_type": "stream",
     "text": [
      "Target 1 found at val 3\n"
     ]
    }
   ],
   "source": [
    "# binary search practice \n",
    "def binarySe(arr,target):\n",
    "    left,right = 0, len(arr) -1\n",
    "    while left <= right:\n",
    "        mid = (left + right) // 2\n",
    "        if arr[mid] == target:\n",
    "            return mid\n",
    "        elif arr[mid] < target:\n",
    "            left = mid + 1\n",
    "        else:\n",
    "            right = mid -1\n",
    "    return -1\n",
    "\n",
    "arr = [1,3,4,5,6]\n",
    "target = 1\n",
    "ans = binarySe(arr,target)\n",
    "\n",
    "if ans == -1:\n",
    "    print(f'Trget {target} not found')\n",
    "else:\n",
    "    print(f'Target {target} found at val {ans}')"
   ]
  },
  {
   "cell_type": "code",
   "execution_count": null,
   "id": "88a246c3-877b-4973-bf75-06bbaf37a8fb",
   "metadata": {},
   "outputs": [],
   "source": []
  },
  {
   "cell_type": "code",
   "execution_count": 12,
   "id": "b9ec728b-967b-45f9-bd99-a1f44376cd12",
   "metadata": {},
   "outputs": [
    {
     "name": "stdout",
     "output_type": "stream",
     "text": [
      "4\n",
      "f\n"
     ]
    }
   ],
   "source": [
    "def binarySe(arr,t):\n",
    "    left,right = 0 , len(arr) - 1\n",
    "    while left <= right:\n",
    "        mid = (left + right) // 2\n",
    "        if arr[mid] == target:\n",
    "            return mid\n",
    "        elif arr[mid] < target:\n",
    "            left = mid + 1\n",
    "        else:\n",
    "            right = mid - 1\n",
    "    return -1\n",
    "\n",
    "arr = [1,2,3,4,8]\n",
    "target = 8\n",
    "print(binarySe(arr,target))\n"
   ]
  },
  {
   "cell_type": "code",
   "execution_count": 20,
   "id": "fad3282e-23e9-4c55-a873-3c8352e17d5a",
   "metadata": {},
   "outputs": [
    {
     "name": "stdout",
     "output_type": "stream",
     "text": [
      "4\n"
     ]
    }
   ],
   "source": [
    "def binarySe(arr,t):\n",
    "    left,right = 0 , len(arr) - 1\n",
    "    while left <= right:\n",
    "        mid = (left + right) // 2\n",
    "        if arr[mid] == target:\n",
    "            return mid\n",
    "        elif target > arr[mid]:\n",
    "            left = mid + 1\n",
    "        else:\n",
    "            right = mid - 1\n",
    "    return -1\n",
    "\n",
    "arr = [1,2,3,4,8]\n",
    "target = 8\n",
    "print(binarySe(arr,target))\n"
   ]
  },
  {
   "cell_type": "code",
   "execution_count": 26,
   "id": "661c8c4e-7f38-4d3d-9ca6-85d6de26ed81",
   "metadata": {},
   "outputs": [
    {
     "name": "stdout",
     "output_type": "stream",
     "text": [
      "Target 1 found at index 0 \n"
     ]
    }
   ],
   "source": [
    "# Binary search implementation with recursive method\n",
    "\n",
    "def binarySeRecur(arr,target,left,right):\n",
    "    if left > right:\n",
    "        return -1\n",
    "    mid = (left + right) // 2\n",
    "    if arr[mid] == target:\n",
    "        return mid\n",
    "    elif arr[mid] < target:\n",
    "        return binarySeRecur(arr,target,mid + 1,right)\n",
    "    else:\n",
    "        return binarySeRecur(arr,target,left, mid - 1)\n",
    "\n",
    "arr = [1,2,3,4,8]\n",
    "target = 1\n",
    "index = binarySeRecur(arr,target,0,len(arr) - 1)\n",
    "\n",
    "if index != -1:\n",
    "    print(f'Target {target} found at index {index} ')\n",
    "else:\n",
    "    print(f'Target {target} not found')\n",
    "\n",
    "\n",
    "        "
   ]
  },
  {
   "cell_type": "code",
   "execution_count": null,
   "id": "42aae05d-8a8d-439c-906a-8b2d49f0f78d",
   "metadata": {},
   "outputs": [],
   "source": []
  },
  {
   "cell_type": "code",
   "execution_count": 34,
   "id": "a0530b37-022c-4d51-846b-9ef56b2bd38c",
   "metadata": {},
   "outputs": [
    {
     "name": "stdout",
     "output_type": "stream",
     "text": [
      "2\n"
     ]
    }
   ],
   "source": [
    "# binary search problems on 1d array\n",
    "\n",
    "# lowerbound bruteforce\n",
    "def lowerBound(arr,target):\n",
    "    for i in range(len(arr)):\n",
    "        if arr[i] >= target:\n",
    "            return i\n",
    "    return len(arr) \n",
    "\n",
    "arr = [1,2,3,4]\n",
    "target = 3\n",
    "print(lowerBound(arr,target))"
   ]
  },
  {
   "cell_type": "code",
   "execution_count": 48,
   "id": "91421a0f-f22a-480c-bc25-3f5cdf3b7e30",
   "metadata": {},
   "outputs": [
    {
     "name": "stdout",
     "output_type": "stream",
     "text": [
      "2\n"
     ]
    }
   ],
   "source": [
    "# lower bound binary search optimize\n",
    "\n",
    "def lowerBoundBinary(arr,tar):\n",
    "    left , right = 0 , len(arr) - 1\n",
    "    result = len(arr)\n",
    "    while left <= right:\n",
    "        mid = (left + right) // 2\n",
    "        if arr[mid] >= tar:\n",
    "            result = mid\n",
    "            right  = mid - 1\n",
    "        else:\n",
    "            left  = mid + 1\n",
    "    return result\n",
    "\n",
    "arr = [1,2,3,4]\n",
    "tar = 3\n",
    "print(lowerBoundBinary(arr,tar))\n",
    "          \n"
   ]
  },
  {
   "cell_type": "code",
   "execution_count": 20,
   "id": "de2d00bd-b4d5-4ee4-b208-94879f75f711",
   "metadata": {},
   "outputs": [
    {
     "name": "stdout",
     "output_type": "stream",
     "text": [
      "The upper bound is the index: 4\n"
     ]
    }
   ],
   "source": [
    "# upperBound optimal solution\n",
    "\n",
    "def upperBound(arr: [int], x: int, n: int) -> int:\n",
    "    low = 0\n",
    "    high = n - 1\n",
    "    ans = n\n",
    "\n",
    "    while low <= high:\n",
    "        mid = (low + high) // 2\n",
    "        # maybe an answer\n",
    "        if arr[mid] > x:\n",
    "            ans = mid\n",
    "            # look for smaller index on the left\n",
    "            high = mid - 1\n",
    "        else:\n",
    "            low = mid + 1  # look on the right\n",
    "\n",
    "    return ans\n",
    "\n",
    "if __name__ == \"__main__\":\n",
    "    arr = [3, 5, 8, 9, 15, 19]\n",
    "    n = 6\n",
    "    x = 9\n",
    "    ind = upperBound(arr, x, n)\n",
    "    print(\"The upper bound is the index:\", ind)"
   ]
  },
  {
   "cell_type": "code",
   "execution_count": 6,
   "id": "2440bc59-de81-4f86-8a29-fdbd091e959f",
   "metadata": {},
   "outputs": [
    {
     "name": "stdout",
     "output_type": "stream",
     "text": [
      "3\n"
     ]
    }
   ],
   "source": [
    "# Binary search implementation\n",
    "\n",
    "def binarySearch(arr,target):\n",
    "    left, right = 0, len(arr)-1\n",
    "    while left <= right:\n",
    "        mid = (left + right)// 2\n",
    "        if arr[mid] == target:\n",
    "            return mid\n",
    "        elif arr[mid] < target:\n",
    "            left = mid + 1\n",
    "        else:\n",
    "            right = mid - 1\n",
    "    return -1\n",
    "\n",
    "arr = [1,2,3,4,5]\n",
    "\n",
    "print(binarySearch(arr,4))"
   ]
  },
  {
   "cell_type": "code",
   "execution_count": 18,
   "id": "e0da6304-32b3-4759-be83-f3ed89b15b97",
   "metadata": {},
   "outputs": [
    {
     "name": "stdout",
     "output_type": "stream",
     "text": [
      "0\n"
     ]
    }
   ],
   "source": [
    "# binary search by recursive method\n",
    "\n",
    "def binaryRecSearch(arr,target,left,right):\n",
    "    if left > right:\n",
    "        return -1\n",
    "    if left <= right:\n",
    "        \n",
    "        mid = (left + right)// 2\n",
    "    if arr[mid] == target:\n",
    "        return mid\n",
    "    elif arr[mid] < target:\n",
    "        return binaryRecSearch(arr,target,mid + 1,right)\n",
    "    else:\n",
    "        return binaryRecSearch(arr,target,left,mid - 1)\n",
    "\n",
    "arr = [1,3,4,5,6]\n",
    "target = 1\n",
    "print(binaryRecSearch(arr,target,0,len(arr) - 1))\n",
    "    "
   ]
  },
  {
   "cell_type": "code",
   "execution_count": 57,
   "id": "3b08f914-4731-4fc2-87ce-28c5271517fd",
   "metadata": {},
   "outputs": [
    {
     "name": "stdout",
     "output_type": "stream",
     "text": [
      "2\n"
     ]
    }
   ],
   "source": [
    "def lowerBon(arr,target):\n",
    "    left , right = 0 , len(arr) - 1\n",
    "    res = len(arr)\n",
    "    while left <= right:\n",
    "        mid = (left + right)// 2\n",
    "        if arr[mid] >= target:\n",
    "            res =  arr[mid]\n",
    "            right = mid - 1\n",
    "        else:\n",
    "            left = mid + 1\n",
    "    return res\n",
    "    \n",
    "arr = [1,2,3,5]\n",
    "t = 2\n",
    "print(lowerBon(arr,t))"
   ]
  },
  {
   "cell_type": "code",
   "execution_count": 10,
   "id": "d7764006-4f54-46a8-850f-cbeffa728468",
   "metadata": {},
   "outputs": [
    {
     "name": "stdout",
     "output_type": "stream",
     "text": [
      "3\n"
     ]
    }
   ],
   "source": [
    "# Example 1:\n",
    "# Input Format: arr[] = {1,2,4,7}, x = 6\n",
    "# Result: 3\n",
    "# Explanation: 6 is not present in the array. So, if we will insert 6 in the 3rd index(0-based indexing), \n",
    "# the array will still be sorted. {1,2,4,6,7}.\n",
    "\n",
    "# Example 2:\n",
    "# Input Format: arr[] = {1,2,4,7}, x = 2\n",
    "# Result: 1\n",
    "# Explanation: 2 is present in the array and so we will return its index i.e. 1.\n",
    "\n",
    "def insertPosition(arr,t):\n",
    "    left,right = 0,len(arr)-1\n",
    "    while left <= right:\n",
    "        mid = (left + right)//2\n",
    "        if arr[mid] == t:\n",
    "            return mid\n",
    "        elif arr[mid] < t:\n",
    "            left = mid + 1\n",
    "        else:\n",
    "            right = mid - 1\n",
    "        \n",
    "    return left\n",
    "\n",
    "arr = [1,2,3,5]\n",
    "t = 4\n",
    "print(insertPosition(arr,t))\n",
    "            "
   ]
  },
  {
   "cell_type": "code",
   "execution_count": 28,
   "id": "c544e9cc-719d-4a55-9e9b-4852f7e7efa2",
   "metadata": {},
   "outputs": [
    {
     "name": "stdout",
     "output_type": "stream",
     "text": [
      "[0, 1]\n"
     ]
    }
   ],
   "source": [
    "# Example 1:\n",
    "# Input Format: n = 6, arr[] ={3, 4, 4, 7, 8, 10}, x= 5\n",
    "# Result: 4 7\n",
    "# Explanation: The floor of 5 in the array is 4, and the ceiling of 5 in the array is 7.\n",
    "\n",
    "# Example 2:\n",
    "# Input Format: n = 6, arr[] ={3, 4, 4, 7, 8, 10}, x= 8\n",
    "# Result: 8 8\n",
    "# Explanation: The floor of 8 in the array is 8, and the ceiling of 8 in the array is also 8.\n",
    "\n",
    "def findFloor(arr,t):\n",
    "    left,right = 0,len(arr) - 1\n",
    "    ans = -1\n",
    "    while left <= right:\n",
    "        mid = (left + right)//2\n",
    "        if arr[mid] <=  t:\n",
    "            ans =  mid\n",
    "            left = mid + 1\n",
    "        else:\n",
    "            right = mid - 1\n",
    "    return ans\n",
    "\n",
    "def findCeil(arr,t):\n",
    "    left,right = 0,len(arr)-1\n",
    "    ans = -1\n",
    "    while left <= right:\n",
    "        mid = (left+right)//2\n",
    "        if arr[mid] >= t:\n",
    "            ans = mid\n",
    "            right = mid - 1\n",
    "        else:\n",
    "            left = mid + 1\n",
    "    return ans\n",
    "\n",
    "def findFloorCeil(arr,t):\n",
    "    f = findFloor(arr,t)\n",
    "    c = findCeil(arr,t)\n",
    "    return [f,c]\n",
    "\n",
    "arr = [3, 7, 8, 10]\n",
    "t = 5\n",
    "print(findFloorCeil(arr,t))"
   ]
  },
  {
   "cell_type": "code",
   "execution_count": 16,
   "id": "65ee242f-aee5-4101-a753-da6671d73a8d",
   "metadata": {},
   "outputs": [
    {
     "name": "stdout",
     "output_type": "stream",
     "text": [
      "4\n"
     ]
    }
   ],
   "source": [
    "# Given a sorted array of N integers, write a program to find the index of the last occurrence of the target key. \n",
    "# If the target is not found then return -1.\n",
    "\n",
    "# Note: Consider 0 based indexing\n",
    "\n",
    "# Examples:\n",
    "\n",
    "# Example 1:\n",
    "# Input: N = 7, target=13, array[] = {3,4,13,13,13,20,40}\n",
    "# Output: 4\n",
    "# Explanation: As the target value is 13 , it appears for the first time at index number 2.\n",
    "\n",
    "# Example 2:\n",
    "# Input: N = 7, target=60, array[] = {3,4,13,13,13,20,40}\n",
    "# Output: -1\n",
    "# Explanation: Target value 60 is not present in the array \n",
    "\n",
    "\n",
    "\n",
    "def lastOccur(arr,target):\n",
    "    left , right = 0 , len(arr)-1\n",
    "    res = -1\n",
    "    while left <= right:\n",
    "        mid = (left + right)// 2\n",
    "        if arr[mid]  == target:\n",
    "            res =  mid\n",
    "            left = mid + 1 #checking any other elements == target\n",
    "        elif arr[mid] > target:\n",
    "            right = mid - 1\n",
    "        else:\n",
    "            left = mid + 1\n",
    "    return res\n",
    "arr = [3,4,13,13,13,20,40]\n",
    "target = 13\n",
    "print(lastOccur(arr,target))\n",
    "    "
   ]
  },
  {
   "cell_type": "code",
   "execution_count": 18,
   "id": "5db7e502-4b8e-4fd9-a688-10a9d58ee200",
   "metadata": {},
   "outputs": [
    {
     "name": "stdout",
     "output_type": "stream",
     "text": [
      "2\n"
     ]
    }
   ],
   "source": [
    "# find first occurence\n",
    "\n",
    "def firstOccur(arr,target):\n",
    "    left, right  = 0 , len(arr)\n",
    "    res = -1\n",
    "    while left <= right:\n",
    "        mid = (left + right)//2\n",
    "        if arr[mid] == target:\n",
    "            res = mid\n",
    "            right = mid - 1\n",
    "        elif arr[mid] < target:\n",
    "            left = mid + 1\n",
    "        else:\n",
    "            right = mid - 1\n",
    "    return res\n",
    "\n",
    "arr = [3,4,13,13,13,20,40]\n",
    "target = 13\n",
    "print(firstOccur(arr,target))\n",
    "    "
   ]
  },
  {
   "cell_type": "code",
   "execution_count": 43,
   "id": "82e53459-458e-42da-9158-f67153f8bccd",
   "metadata": {},
   "outputs": [
    {
     "name": "stdout",
     "output_type": "stream",
     "text": [
      "5\n"
     ]
    }
   ],
   "source": [
    "# Count Occurrences in Sorted Array\n",
    "\n",
    "# Problem Statement: You are given a sorted array containing N integers and a number X,\n",
    "# you have to find the occurrences of X in the given array.\n",
    "\n",
    "# Examples\n",
    "# Example 1:\n",
    "# Input:\n",
    "#  N = 7,  X = 3 , array[] = {2, 2 , 3 , 3 , 3 , 3 , 4}\n",
    "# Output\n",
    "# : 4\n",
    "# Explanation:\n",
    "#  3 is occurring 4 times in \n",
    "# the given array so it is our answer.\n",
    "\n",
    "# Example 2:\n",
    "# Input:\n",
    "#  N = 8,  X = 2 , array[] = {1, 1, 2, 2, 2, 2, 2, 3}\n",
    "# Output\n",
    "# : 5\n",
    "# Explanation:\n",
    "#  2 is occurring 5 times in the given array so it is our answer.\n",
    "\n",
    "def firstOccur(arr,target):\n",
    "    left , right = 0 , len(arr) - 1\n",
    "    first = -1\n",
    "    while left <= right:\n",
    "        mid  = (left + right)//2\n",
    "        if arr[mid] == target:\n",
    "            first = mid\n",
    "            right = mid - 1\n",
    "        elif arr[mid] < target:\n",
    "            left = mid + 1\n",
    "        else:\n",
    "            right = mid - 1\n",
    "    return  first\n",
    "\n",
    "# arr = [2,2, 3 , 3 , 3 , 3 , 4]\n",
    "# target = 3\n",
    "# print(firstOccur(arr,target))\n",
    "\n",
    "def lastOccur(arr,target):\n",
    "    left , right = 0 , len(arr)-1\n",
    "    last = -1\n",
    "    while left <= right:\n",
    "        mid = (left + right)// 2\n",
    "        if arr[mid] == target:\n",
    "            last = mid\n",
    "            left = mid + 1\n",
    "        elif arr[mid] < target:\n",
    "            left = mid + 1\n",
    "        else:\n",
    "            right = mid - 1\n",
    "    return last\n",
    "# arr = [2,2, 3 , 3 , 3 , 3 , 4]\n",
    "# target = 3\n",
    "# print(lastOccur(arr,target))\n",
    "\n",
    "def firstOccurAndLast(arr,target):\n",
    "    first = firstOccur(arr,target)\n",
    "    if first == -1:\n",
    "        return (-1,-1)\n",
    "    last = lastOccur(arr,target)\n",
    "    return (first,last)\n",
    "\n",
    "def count(arr,target):\n",
    "    first,last = firstOccurAndLast(arr,target)\n",
    "    if first == -1:\n",
    "        return 0\n",
    "    return last - first + 1\n",
    "\n",
    "arr = [2,2, 3 , 3 , 3 , 3 ,3, 4]\n",
    "target = 3\n",
    "print(count(arr,target))\n",
    "\n",
    "# do it tomorrow again\n"
   ]
  },
  {
   "cell_type": "code",
   "execution_count": 18,
   "id": "ba769c3b-1a65-4212-90a8-852e7480ff99",
   "metadata": {},
   "outputs": [
    {
     "name": "stdout",
     "output_type": "stream",
     "text": [
      "-1\n"
     ]
    }
   ],
   "source": [
    "# Search Element in a Rotated Sorted Array\n",
    "\n",
    "# Problem Statement: Given an integer array arr of size N, sorted in ascending order (with distinct values) and a target value k. \n",
    "# Now the array is rotated at some pivot point unknown to you.\n",
    "# Find the index at which k is present and if k is not present return -1.\n",
    "\n",
    "# Examples\n",
    "# Example 1:\n",
    "# Input Format: arr = [4,5,6,7,0,1,2,3], k = 0\n",
    "# Result: 4\n",
    "# Explanation: Here, the target is 0. We can see that 0 is present in the given rotated sorted array, nums. \n",
    "# Thus, we get output as 4, which is the index at which 0 is present in the array.\n",
    "\n",
    "# Example 2:\n",
    "# Input Format: arr = [4,5,6,7,0,1,2], k = 3\n",
    "# Result: -1\n",
    "# Explanation: Here, the target is 3. Since 3 is not present in the given rotated sorted array. Thus, we get the output as -1.\n",
    "\n",
    "\n",
    "# Brute Force Approach\n",
    "\n",
    "def searchEle(arr,t):\n",
    "    for i in range(len(arr)):\n",
    "        if arr[i] == t:\n",
    "            return i\n",
    "    return -1\n",
    "\n",
    "t = 9\n",
    "arr = [4,5,6,7,0,1,2,3]\n",
    "print(searchEle(arr,t))"
   ]
  },
  {
   "cell_type": "code",
   "execution_count": 6,
   "id": "5a442500-b8f1-48d6-842a-ba421f84f5ff",
   "metadata": {},
   "outputs": [
    {
     "name": "stdout",
     "output_type": "stream",
     "text": [
      "7\n"
     ]
    }
   ],
   "source": [
    "# optimized approach\n",
    "\n",
    "def searchEleBinary(arr,t):\n",
    "    left , right = 0,len(arr)-1\n",
    "    while left <= right:\n",
    "        mid = (left + right)//2\n",
    "        if arr[mid] == t:\n",
    "            return mid\n",
    "        if arr[left] <= arr[mid]:\n",
    "            if arr[left] <= t and t <= arr[mid]:\n",
    "                right = mid - 1\n",
    "            else:\n",
    "                left = mid + 1\n",
    "        else:\n",
    "            if arr[mid] <= t and t <= arr[high]:\n",
    "                left = mid + 1\n",
    "            else:\n",
    "                right = mid - 1\n",
    "    return -1\n",
    "\n",
    "t = 3\n",
    "arr = [4,5,6,7,0,1,2,3]\n",
    "print(searchEleBinary(arr,t))\n",
    "        \n",
    "            "
   ]
  },
  {
   "cell_type": "code",
   "execution_count": 10,
   "id": "3b2f3744-c060-4398-bb48-da7b86bc8e4a",
   "metadata": {},
   "outputs": [
    {
     "name": "stdout",
     "output_type": "stream",
     "text": [
      "False\n"
     ]
    }
   ],
   "source": [
    "# Problem Statement: Given an integer array arr of size N, sorted in ascending order (may contain duplicate values)\n",
    "# and a target value k. Now the array is rotated at some pivot point unknown to you. Return True if k is present and otherwise, return False. \n",
    "\n",
    "# Pre-requisite: Search Element in Rotated Sorted Array I & Binary Search algorithm\n",
    "\n",
    "# Examples\n",
    "# Example 1:\n",
    "# Input Format:\n",
    "#  arr = [7, 8, 1, 2, 3, 3, 3, 4, 5, 6], k = 3\n",
    "# Result:\n",
    "#  True\n",
    "# Explanation:\n",
    "#  The element 3 is present in the array. So, the answer is True.\n",
    "\n",
    "# Example 2:\n",
    "# Input Format:\n",
    "#  arr = [7, 8, 1, 2, 3, 3, 3, 4, 5, 6], k = 10\n",
    "# Result:\n",
    "#  False\n",
    "# Explanation:\n",
    "#  The element 10 is not present in the array. So, the answer is False.\n",
    "\n",
    "\n",
    "\n",
    "def searchElement(arr,t):\n",
    "    left , right = 0,len(arr)-1\n",
    "    while left <= right:\n",
    "        mid = (left + right)//2\n",
    "        if arr[mid] == t:\n",
    "            return True\n",
    "        if arr[left] <= arr[mid]:\n",
    "            if arr[left] <= t and t <= arr[mid]:\n",
    "                right = mid -1\n",
    "            else:\n",
    "                left = mid + 1\n",
    "        else:\n",
    "            if arr[mid] <= t and t <= arr[right]:\n",
    "                left = mid + 1\n",
    "            else:\n",
    "                right = mid + 1\n",
    "    return False\n",
    "\n",
    "t = 30\n",
    "arr = [4,5,6,7,0,1,2,3]\n",
    "print(searchElement(arr,t))\n",
    "        \n",
    "            \n",
    "            \n",
    "        "
   ]
  },
  {
   "cell_type": "code",
   "execution_count": 14,
   "id": "e75299ea-91b6-4dc9-94c1-477ab5a47fdc",
   "metadata": {},
   "outputs": [
    {
     "name": "stdout",
     "output_type": "stream",
     "text": [
      "1\n"
     ]
    }
   ],
   "source": [
    "# Minimum in Rotated Sorted Array\n",
    "\n",
    "# Problem Statement: Given an integer array arr of size N, sorted in ascending order (with distinct values).\n",
    "# Now the array is rotated between 1 to N times which is unknown. Find the minimum element in the array. \n",
    "\n",
    "# Pre-requisites: Search in Rotated Sorted Array I,  Search in Rotated Sorted Array II & Binary Search algorithm\n",
    "\n",
    "# Examples\n",
    "# Example 1:\n",
    "# Input Format:\n",
    "#  arr = [4,5,6,7,0,1,2,3]\n",
    "# Result:\n",
    "#  0\n",
    "# Explanation:\n",
    "#  Here, the element 0 is the minimum element in the array.\n",
    "\n",
    "# Example 2:\n",
    "# Input Format:\n",
    "#  arr = [3,4,5,1,2]\n",
    "# Result:\n",
    "#  1\n",
    "# Explanation:\n",
    "#  Here, the element 1 is the minimum element in the array.\n",
    "\n",
    "# Brute force approach\n",
    "\n",
    "import sys\n",
    "\n",
    "def findMin(arr):\n",
    "    n = len(arr)\n",
    "    mini = sys.maxsize\n",
    "    for i in range(n):\n",
    "        mini = min(mini,arr[i])\n",
    "    return mini\n",
    "\n",
    "arr = [4, 5, 6, 7, 10, 1, 2, 3]\n",
    "ans = findMin(arr)\n",
    "print(ans)"
   ]
  },
  {
   "cell_type": "code",
   "execution_count": 22,
   "id": "33726743-e036-48cb-a873-7fa40dc281f5",
   "metadata": {},
   "outputs": [
    {
     "name": "stdout",
     "output_type": "stream",
     "text": [
      "2\n"
     ]
    }
   ],
   "source": [
    "# optimized approach\n",
    "import sys \n",
    "def findMinBinaryS(arr):\n",
    "    left , right = 0 , len(arr)-1\n",
    "    mini = sys.maxsize\n",
    "    while left <= right:\n",
    "        mid = (left + right)//2\n",
    "        if arr[left] <= arr[mid]:\n",
    "            mini = min(mini,arr[left])\n",
    "            left = mid + 1\n",
    "        else:\n",
    "            mini = min(mini,arr[mid])\n",
    "            right = mid - 1\n",
    "    return mini\n",
    "arr = [4, 5, 6, 7, 10, 100, 2, 3]\n",
    "ans = findMinBinaryS(arr)\n",
    "print(ans)"
   ]
  },
  {
   "cell_type": "code",
   "execution_count": 32,
   "id": "859763d1-ad7f-448f-869f-65fa6e597989",
   "metadata": {},
   "outputs": [
    {
     "name": "stdout",
     "output_type": "stream",
     "text": [
      "4\n"
     ]
    }
   ],
   "source": [
    "# Find out how many times the array has been rotated\n",
    "\n",
    "# Problem Statement: Given an integer array arr of size N, sorted in ascending order (with distinct values).\n",
    "# Now the array is rotated between 1 to N times which is unknown. Find how many times the array has been rotated. \n",
    "\n",
    "# Pre-requisites: Find minimum in Rotated Sorted Array,  Search in Rotated Sorted Array II & Binary Search algorithm\n",
    "\n",
    "# Examples\n",
    "# Example 1:\n",
    "# Input Format:\n",
    "#  arr = [4,5,6,7,0,1,2,3]\n",
    "# Result:\n",
    "#  4\n",
    "# Explanation:\n",
    "#  The original array should be [0,1,2,3,4,5,6,7]. So, we can notice that the array has been rotated 4 times.\n",
    "\n",
    "# Example 2:\n",
    "# Input Format:\n",
    "#  arr = [3,4,5,1,2]\n",
    "# Result:\n",
    "#  3\n",
    "# Explanation:\n",
    "#  The original array should be [1,2,3,4,5]. So, we can notice that the array has been rotated 3 times.\n",
    "\n",
    "# bruteforce\n",
    "\n",
    "\n",
    "import sys\n",
    "def NumRotation(arr):\n",
    "    n = len(arr)\n",
    "    ans = float('inf')\n",
    "    index = -1\n",
    "    for i in range(n):\n",
    "        if arr[i] < ans:\n",
    "            ans = arr[i]\n",
    "            index = i \n",
    "    return index\n",
    "\n",
    "arr = [4, 5, 6, 7,8, 0, 1, 2, 3]\n",
    "ans = NumRotation(arr)\n",
    "print(ans)"
   ]
  },
  {
   "cell_type": "code",
   "execution_count": 16,
   "id": "77f1d581-71f4-4fb1-9f6c-50e0cb25867b",
   "metadata": {},
   "outputs": [
    {
     "name": "stdout",
     "output_type": "stream",
     "text": [
      "4\n"
     ]
    }
   ],
   "source": [
    "# optimized solution:\n",
    "import sys\n",
    "def findKRotations(arr):\n",
    "    left , right = 0,len(arr)-1\n",
    "    ans = float('inf')\n",
    "    index = -1\n",
    "    while left <= right:\n",
    "        mid = (left + right)//2\n",
    "        # if arr is sorted \n",
    "        if arr[left] <= arr[right]:\n",
    "            if arr[left] < ans:\n",
    "                index = left\n",
    "                ans = arr[left]\n",
    "            break\n",
    "\n",
    "        # if left part is sorted\n",
    "        if arr[left] <= arr[mid]:\n",
    "            if arr[left] < ans:\n",
    "                index = left\n",
    "                ans = arr[left]\n",
    "            \n",
    "            left = mid + 1\n",
    "        else:\n",
    "            if arr[mid] < ans:\n",
    "                index = mid\n",
    "                ans = arr[mid]\n",
    "            right = mid -1\n",
    "    return index\n",
    "arr = [4, 5, 6, 7, 0, 1, 2, 3]\n",
    "print(findKRotations(arr))\n",
    "\n"
   ]
  },
  {
   "cell_type": "code",
   "execution_count": 23,
   "id": "9e2b1336-b31a-4c21-ac5c-2beeb4d0f64d",
   "metadata": {},
   "outputs": [
    {
     "name": "stdout",
     "output_type": "stream",
     "text": [
      "4\n"
     ]
    }
   ],
   "source": [
    "# Search Single Element in a sorted array\n",
    "\n",
    "# Problem Statement: Given an array of N integers. Every number in the array except one appears twice. \n",
    "# Find the single number in the array.\n",
    "\n",
    "# Pre-requisite: Binary Search Algorithm\n",
    "\n",
    "# Examples\n",
    "# Example 1:\n",
    "# Input Format:\n",
    "#  arr[] = {1,1,2,2,3,3,4,5,5,6,6}\n",
    "# Result:\n",
    "#  4\n",
    "# Explanation:\n",
    "#  Only the number 4 appears once in the array.\n",
    "\n",
    "# Example 2:\n",
    "# Input Format:\n",
    "#  arr[] = {1,1,3,5,5}\n",
    "# Result:\n",
    "#  3\n",
    "# Explanation:\n",
    "#  Only the number 3 appears once in the array.\n",
    "\n",
    "\n",
    "# brute force approach\n",
    "\n",
    "def singleNum(arr):\n",
    "    n = len(arr)\n",
    "    if n == 1:\n",
    "        return arr[0]\n",
    "\n",
    "    for i in range(n):\n",
    "        if i == 0:\n",
    "            if arr[i] != arr[i+1]:\n",
    "                return arr[i] \n",
    "        elif i == n -1:\n",
    "            if arr[i] != arr[i-1]:\n",
    "                return arr[i]\n",
    "        else:\n",
    "            if arr[i] != arr[i+1] and arr[i] != arr[i-1]:\n",
    "                return arr[i]\n",
    "    return -1\n",
    "            \n",
    "arr = [1,1,2,2,3,3,4,5,5,6,6]\n",
    "print(singleNum(arr))"
   ]
  },
  {
   "cell_type": "code",
   "execution_count": null,
   "id": "f4852f33-0d96-45a8-b22c-9727c47be074",
   "metadata": {},
   "outputs": [],
   "source": [
    "#optimal approach\n",
    "\n",
    "\n"
   ]
  },
  {
   "cell_type": "code",
   "execution_count": 33,
   "id": "5424073d-6e18-4f9e-9b9d-a967821ef35d",
   "metadata": {},
   "outputs": [
    {
     "name": "stdout",
     "output_type": "stream",
     "text": [
      "1\n"
     ]
    }
   ],
   "source": []
  },
  {
   "cell_type": "code",
   "execution_count": null,
   "id": "70e04667-3854-49b8-ab8b-7861695c3c69",
   "metadata": {},
   "outputs": [],
   "source": []
  }
 ],
 "metadata": {
  "kernelspec": {
   "display_name": "Python 3 (ipykernel)",
   "language": "python",
   "name": "python3"
  },
  "language_info": {
   "codemirror_mode": {
    "name": "ipython",
    "version": 3
   },
   "file_extension": ".py",
   "mimetype": "text/x-python",
   "name": "python",
   "nbconvert_exporter": "python",
   "pygments_lexer": "ipython3",
   "version": "3.12.4"
  }
 },
 "nbformat": 4,
 "nbformat_minor": 5
}
