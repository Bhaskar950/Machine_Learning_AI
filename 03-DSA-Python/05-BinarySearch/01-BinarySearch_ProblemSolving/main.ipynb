{
 "cells": [
  {
   "cell_type": "code",
   "execution_count": 20,
   "id": "84ffdbc6-a699-4fb2-b5e3-944ef74125cf",
   "metadata": {},
   "outputs": [
    {
     "name": "stdout",
     "output_type": "stream",
     "text": [
      "4\n"
     ]
    }
   ],
   "source": [
    "# Binary search implementation\n",
    "# iterative approach\n",
    "\n",
    "def binary_search(arr,target):\n",
    "    left,right = 0 , len(arr)-1\n",
    "    while left <= right:\n",
    "        mid = (left + right) // 2\n",
    "        if arr[mid] == target:\n",
    "            return mid\n",
    "        elif arr[mid] < target:\n",
    "            left = mid + 1\n",
    "        else:\n",
    "            right = mid - 1\n",
    "    retirn -1\n",
    "arr = [1,3,4,5,6]\n",
    "target = 6\n",
    "\n",
    "print(binary_search(arr,target))\n",
    "        "
   ]
  },
  {
   "cell_type": "code",
   "execution_count": 22,
   "id": "c94b0903-aede-41af-9e38-cc2877dfac88",
   "metadata": {},
   "outputs": [
    {
     "name": "stdout",
     "output_type": "stream",
     "text": [
      "Target 1 found at val 3\n"
     ]
    }
   ],
   "source": [
    "# binary search practice \n",
    "def binarySe(arr,target):\n",
    "    left,right = 0, len(arr) -1\n",
    "    while left <= right:\n",
    "        mid = (left + right) // 2\n",
    "        if arr[mid] == target:\n",
    "            return mid\n",
    "        elif arr[mid] < target:\n",
    "            left = mid + 1\n",
    "        else:\n",
    "            right = mid -1\n",
    "    return -1\n",
    "\n",
    "arr = [1,3,4,5,6]\n",
    "target = 1\n",
    "ans = binarySe(arr,target)\n",
    "\n",
    "if ans == -1:\n",
    "    print(f'Trget {target} not found')\n",
    "else:\n",
    "    print(f'Target {target} found at val {ans}')"
   ]
  },
  {
   "cell_type": "code",
   "execution_count": null,
   "id": "88a246c3-877b-4973-bf75-06bbaf37a8fb",
   "metadata": {},
   "outputs": [],
   "source": []
  },
  {
   "cell_type": "code",
   "execution_count": 12,
   "id": "b9ec728b-967b-45f9-bd99-a1f44376cd12",
   "metadata": {},
   "outputs": [
    {
     "name": "stdout",
     "output_type": "stream",
     "text": [
      "4\n",
      "f\n"
     ]
    }
   ],
   "source": [
    "def binarySe(arr,t):\n",
    "    left,right = 0 , len(arr) - 1\n",
    "    while left <= right:\n",
    "        mid = (left + right) // 2\n",
    "        if arr[mid] == target:\n",
    "            return mid\n",
    "        elif arr[mid] < target:\n",
    "            left = mid + 1\n",
    "        else:\n",
    "            right = mid - 1\n",
    "    return -1\n",
    "\n",
    "arr = [1,2,3,4,8]\n",
    "target = 8\n",
    "print(binarySe(arr,target))\n"
   ]
  },
  {
   "cell_type": "code",
   "execution_count": 20,
   "id": "fad3282e-23e9-4c55-a873-3c8352e17d5a",
   "metadata": {},
   "outputs": [
    {
     "name": "stdout",
     "output_type": "stream",
     "text": [
      "4\n"
     ]
    }
   ],
   "source": [
    "def binarySe(arr,t):\n",
    "    left,right = 0 , len(arr) - 1\n",
    "    while left <= right:\n",
    "        mid = (left + right) // 2\n",
    "        if arr[mid] == target:\n",
    "            return mid\n",
    "        elif target > arr[mid]:\n",
    "            left = mid + 1\n",
    "        else:\n",
    "            right = mid - 1\n",
    "    return -1\n",
    "\n",
    "arr = [1,2,3,4,8]\n",
    "target = 8\n",
    "print(binarySe(arr,target))\n"
   ]
  },
  {
   "cell_type": "code",
   "execution_count": 26,
   "id": "661c8c4e-7f38-4d3d-9ca6-85d6de26ed81",
   "metadata": {},
   "outputs": [
    {
     "name": "stdout",
     "output_type": "stream",
     "text": [
      "Target 1 found at index 0 \n"
     ]
    }
   ],
   "source": [
    "# Binary search implementation with recursive method\n",
    "\n",
    "def binarySeRecur(arr,target,left,right):\n",
    "    if left > right:\n",
    "        return -1\n",
    "    mid = (left + right) // 2\n",
    "    if arr[mid] == target:\n",
    "        return mid\n",
    "    elif arr[mid] < target:\n",
    "        return binarySeRecur(arr,target,mid + 1,right)\n",
    "    else:\n",
    "        return binarySeRecur(arr,target,left, mid - 1)\n",
    "\n",
    "arr = [1,2,3,4,8]\n",
    "target = 1\n",
    "index = binarySeRecur(arr,target,0,len(arr) - 1)\n",
    "\n",
    "if index != -1:\n",
    "    print(f'Target {target} found at index {index} ')\n",
    "else:\n",
    "    print(f'Target {target} not found')\n",
    "\n",
    "\n",
    "        "
   ]
  },
  {
   "cell_type": "code",
   "execution_count": null,
   "id": "42aae05d-8a8d-439c-906a-8b2d49f0f78d",
   "metadata": {},
   "outputs": [],
   "source": []
  },
  {
   "cell_type": "code",
   "execution_count": 34,
   "id": "a0530b37-022c-4d51-846b-9ef56b2bd38c",
   "metadata": {},
   "outputs": [
    {
     "name": "stdout",
     "output_type": "stream",
     "text": [
      "2\n"
     ]
    }
   ],
   "source": [
    "# binary search problems on 1d array\n",
    "\n",
    "# lowerbound bruteforce\n",
    "def lowerBound(arr,target):\n",
    "    for i in range(len(arr)):\n",
    "        if arr[i] >= target:\n",
    "            return i\n",
    "    return len(arr) \n",
    "\n",
    "arr = [1,2,3,4]\n",
    "target = 3\n",
    "print(lowerBound(arr,target))"
   ]
  },
  {
   "cell_type": "code",
   "execution_count": 48,
   "id": "91421a0f-f22a-480c-bc25-3f5cdf3b7e30",
   "metadata": {},
   "outputs": [
    {
     "name": "stdout",
     "output_type": "stream",
     "text": [
      "2\n"
     ]
    }
   ],
   "source": [
    "# lower bound binary search optimize\n",
    "\n",
    "def lowerBoundBinary(arr,tar):\n",
    "    left , right = 0 , len(arr) - 1\n",
    "    result = len(arr)\n",
    "    while left <= right:\n",
    "        mid = (left + right) // 2\n",
    "        if arr[mid] >= tar:\n",
    "            result = mid\n",
    "            right  = mid - 1\n",
    "        else:\n",
    "            left  = mid + 1\n",
    "    return result\n",
    "\n",
    "arr = [1,2,3,4]\n",
    "tar = 3\n",
    "print(lowerBoundBinary(arr,tar))\n",
    "          \n"
   ]
  },
  {
   "cell_type": "code",
   "execution_count": 20,
   "id": "de2d00bd-b4d5-4ee4-b208-94879f75f711",
   "metadata": {},
   "outputs": [
    {
     "name": "stdout",
     "output_type": "stream",
     "text": [
      "The upper bound is the index: 4\n"
     ]
    }
   ],
   "source": [
    "# upperBound optimal solution\n",
    "\n",
    "def upperBound(arr: [int], x: int, n: int) -> int:\n",
    "    low = 0\n",
    "    high = n - 1\n",
    "    ans = n\n",
    "\n",
    "    while low <= high:\n",
    "        mid = (low + high) // 2\n",
    "        # maybe an answer\n",
    "        if arr[mid] > x:\n",
    "            ans = mid\n",
    "            # look for smaller index on the left\n",
    "            high = mid - 1\n",
    "        else:\n",
    "            low = mid + 1  # look on the right\n",
    "\n",
    "    return ans\n",
    "\n",
    "if __name__ == \"__main__\":\n",
    "    arr = [3, 5, 8, 9, 15, 19]\n",
    "    n = 6\n",
    "    x = 9\n",
    "    ind = upperBound(arr, x, n)\n",
    "    print(\"The upper bound is the index:\", ind)"
   ]
  },
  {
   "cell_type": "code",
   "execution_count": 6,
   "id": "2440bc59-de81-4f86-8a29-fdbd091e959f",
   "metadata": {},
   "outputs": [
    {
     "name": "stdout",
     "output_type": "stream",
     "text": [
      "3\n"
     ]
    }
   ],
   "source": [
    "# Binary search implementation\n",
    "\n",
    "def binarySearch(arr,target):\n",
    "    left, right = 0, len(arr)-1\n",
    "    while left <= right:\n",
    "        mid = (left + right)// 2\n",
    "        if arr[mid] == target:\n",
    "            return mid\n",
    "        elif arr[mid] < target:\n",
    "            left = mid + 1\n",
    "        else:\n",
    "            right = mid - 1\n",
    "    return -1\n",
    "\n",
    "arr = [1,2,3,4,5]\n",
    "\n",
    "print(binarySearch(arr,4))"
   ]
  },
  {
   "cell_type": "code",
   "execution_count": 18,
   "id": "e0da6304-32b3-4759-be83-f3ed89b15b97",
   "metadata": {},
   "outputs": [
    {
     "name": "stdout",
     "output_type": "stream",
     "text": [
      "0\n"
     ]
    }
   ],
   "source": [
    "# binary search by recursive method\n",
    "\n",
    "def binaryRecSearch(arr,target,left,right):\n",
    "    if left > right:\n",
    "        return -1\n",
    "    if left <= right:\n",
    "        \n",
    "        mid = (left + right)// 2\n",
    "    if arr[mid] == target:\n",
    "        return mid\n",
    "    elif arr[mid] < target:\n",
    "        return binaryRecSearch(arr,target,mid + 1,right)\n",
    "    else:\n",
    "        return binaryRecSearch(arr,target,left,mid - 1)\n",
    "\n",
    "arr = [1,3,4,5,6]\n",
    "target = 1\n",
    "print(binaryRecSearch(arr,target,0,len(arr) - 1))\n",
    "    "
   ]
  },
  {
   "cell_type": "code",
   "execution_count": null,
   "id": "3b08f914-4731-4fc2-87ce-28c5271517fd",
   "metadata": {},
   "outputs": [],
   "source": []
  }
 ],
 "metadata": {
  "kernelspec": {
   "display_name": "Python 3 (ipykernel)",
   "language": "python",
   "name": "python3"
  },
  "language_info": {
   "codemirror_mode": {
    "name": "ipython",
    "version": 3
   },
   "file_extension": ".py",
   "mimetype": "text/x-python",
   "name": "python",
   "nbconvert_exporter": "python",
   "pygments_lexer": "ipython3",
   "version": "3.12.4"
  }
 },
 "nbformat": 4,
 "nbformat_minor": 5
}
