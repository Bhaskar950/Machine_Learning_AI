{
 "cells": [
  {
   "cell_type": "code",
   "execution_count": 20,
   "id": "84ffdbc6-a699-4fb2-b5e3-944ef74125cf",
   "metadata": {},
   "outputs": [
    {
     "name": "stdout",
     "output_type": "stream",
     "text": [
      "4\n"
     ]
    }
   ],
   "source": [
    "# Binary search implementation\n",
    "# iterative approach\n",
    "\n",
    "def binary_search(arr,target):\n",
    "    left,right = 0 , len(arr)-1\n",
    "    while left <= right:\n",
    "        mid = (left + right) // 2\n",
    "        if arr[mid] == target:\n",
    "            return mid\n",
    "        elif arr[mid] < target:\n",
    "            left = mid + 1\n",
    "        else:\n",
    "            right = mid - 1\n",
    "    retirn -1\n",
    "arr = [1,3,4,5,6]\n",
    "target = 6\n",
    "\n",
    "print(binary_search(arr,target))\n",
    "        "
   ]
  },
  {
   "cell_type": "code",
   "execution_count": 22,
   "id": "c94b0903-aede-41af-9e38-cc2877dfac88",
   "metadata": {},
   "outputs": [
    {
     "name": "stdout",
     "output_type": "stream",
     "text": [
      "Target 1 found at val 3\n"
     ]
    }
   ],
   "source": [
    "# binary search practice \n",
    "def binarySe(arr,target):\n",
    "    left,right = 0, len(arr) -1\n",
    "    while left <= right:\n",
    "        mid = (left + right) // 2\n",
    "        if arr[mid] == target:\n",
    "            return mid\n",
    "        elif arr[mid] < target:\n",
    "            left = mid + 1\n",
    "        else:\n",
    "            right = mid -1\n",
    "    return -1\n",
    "\n",
    "arr = [1,3,4,5,6]\n",
    "target = 1\n",
    "ans = binarySe(arr,target)\n",
    "\n",
    "if ans == -1:\n",
    "    print(f'Trget {target} not found')\n",
    "else:\n",
    "    print(f'Target {target} found at val {}')"
   ]
  },
  {
   "cell_type": "code",
   "execution_count": null,
   "id": "88a246c3-877b-4973-bf75-06bbaf37a8fb",
   "metadata": {},
   "outputs": [],
   "source": []
  }
 ],
 "metadata": {
  "kernelspec": {
   "display_name": "Python 3 (ipykernel)",
   "language": "python",
   "name": "python3"
  },
  "language_info": {
   "codemirror_mode": {
    "name": "ipython",
    "version": 3
   },
   "file_extension": ".py",
   "mimetype": "text/x-python",
   "name": "python",
   "nbconvert_exporter": "python",
   "pygments_lexer": "ipython3",
   "version": "3.12.4"
  }
 },
 "nbformat": 4,
 "nbformat_minor": 5
}
