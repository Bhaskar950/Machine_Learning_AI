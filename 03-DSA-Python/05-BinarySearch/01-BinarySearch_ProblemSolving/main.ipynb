{
 "cells": [
  {
   "cell_type": "code",
   "execution_count": 20,
   "id": "84ffdbc6-a699-4fb2-b5e3-944ef74125cf",
   "metadata": {},
   "outputs": [
    {
     "name": "stdout",
     "output_type": "stream",
     "text": [
      "4\n"
     ]
    }
   ],
   "source": [
    "# Binary search implementation\n",
    "# iterative approach\n",
    "\n",
    "def binary_search(arr,target):\n",
    "    left,right = 0 , len(arr)-1\n",
    "    while left <= right:\n",
    "        mid = (left + right) // 2\n",
    "        if arr[mid] == target:\n",
    "            return mid\n",
    "        elif arr[mid] < target:\n",
    "            left = mid + 1\n",
    "        else:\n",
    "            right = mid - 1\n",
    "    retirn -1\n",
    "arr = [1,3,4,5,6]\n",
    "target = 6\n",
    "\n",
    "print(binary_search(arr,target))\n",
    "        "
   ]
  },
  {
   "cell_type": "code",
   "execution_count": 22,
   "id": "c94b0903-aede-41af-9e38-cc2877dfac88",
   "metadata": {},
   "outputs": [
    {
     "name": "stdout",
     "output_type": "stream",
     "text": [
      "Target 1 found at val 3\n"
     ]
    }
   ],
   "source": [
    "# binary search practice \n",
    "def binarySe(arr,target):\n",
    "    left,right = 0, len(arr) -1\n",
    "    while left <= right:\n",
    "        mid = (left + right) // 2\n",
    "        if arr[mid] == target:\n",
    "            return mid\n",
    "        elif arr[mid] < target:\n",
    "            left = mid + 1\n",
    "        else:\n",
    "            right = mid -1\n",
    "    return -1\n",
    "\n",
    "arr = [1,3,4,5,6]\n",
    "target = 1\n",
    "ans = binarySe(arr,target)\n",
    "\n",
    "if ans == -1:\n",
    "    print(f'Trget {target} not found')\n",
    "else:\n",
    "    print(f'Target {target} found at val {ans}')"
   ]
  },
  {
   "cell_type": "code",
   "execution_count": null,
   "id": "88a246c3-877b-4973-bf75-06bbaf37a8fb",
   "metadata": {},
   "outputs": [],
   "source": []
  },
  {
   "cell_type": "code",
   "execution_count": 12,
   "id": "b9ec728b-967b-45f9-bd99-a1f44376cd12",
   "metadata": {},
   "outputs": [
    {
     "name": "stdout",
     "output_type": "stream",
     "text": [
      "4\n",
      "f\n"
     ]
    }
   ],
   "source": [
    "def binarySe(arr,t):\n",
    "    left,right = 0 , len(arr) - 1\n",
    "    while left <= right:\n",
    "        mid = (left + right) // 2\n",
    "        if arr[mid] == target:\n",
    "            return mid\n",
    "        elif arr[mid] < target:\n",
    "            left = mid + 1\n",
    "        else:\n",
    "            right = mid - 1\n",
    "    return -1\n",
    "\n",
    "arr = [1,2,3,4,8]\n",
    "target = 8\n",
    "print(binarySe(arr,target))\n"
   ]
  },
  {
   "cell_type": "code",
   "execution_count": 20,
   "id": "fad3282e-23e9-4c55-a873-3c8352e17d5a",
   "metadata": {},
   "outputs": [
    {
     "name": "stdout",
     "output_type": "stream",
     "text": [
      "4\n"
     ]
    }
   ],
   "source": [
    "def binarySe(arr,t):\n",
    "    left,right = 0 , len(arr) - 1\n",
    "    while left <= right:\n",
    "        mid = (left + right) // 2\n",
    "        if arr[mid] == target:\n",
    "            return mid\n",
    "        elif target > arr[mid]:\n",
    "            left = mid + 1\n",
    "        else:\n",
    "            right = mid - 1\n",
    "    return -1\n",
    "\n",
    "arr = [1,2,3,4,8]\n",
    "target = 8\n",
    "print(binarySe(arr,target))\n"
   ]
  },
  {
   "cell_type": "code",
   "execution_count": 26,
   "id": "661c8c4e-7f38-4d3d-9ca6-85d6de26ed81",
   "metadata": {},
   "outputs": [
    {
     "name": "stdout",
     "output_type": "stream",
     "text": [
      "Target 1 found at index 0 \n"
     ]
    }
   ],
   "source": [
    "# Binary search implementation with recursive method\n",
    "\n",
    "def binarySeRecur(arr,target,left,right):\n",
    "    if left > right:\n",
    "        return -1\n",
    "    mid = (left + right) // 2\n",
    "    if arr[mid] == target:\n",
    "        return mid\n",
    "    elif arr[mid] < target:\n",
    "        return binarySeRecur(arr,target,mid + 1,right)\n",
    "    else:\n",
    "        return binarySeRecur(arr,target,left, mid - 1)\n",
    "\n",
    "arr = [1,2,3,4,8]\n",
    "target = 1\n",
    "index = binarySeRecur(arr,target,0,len(arr) - 1)\n",
    "\n",
    "if index != -1:\n",
    "    print(f'Target {target} found at index {index} ')\n",
    "else:\n",
    "    print(f'Target {target} not found')\n",
    "\n",
    "\n",
    "        "
   ]
  },
  {
   "cell_type": "code",
   "execution_count": null,
   "id": "42aae05d-8a8d-439c-906a-8b2d49f0f78d",
   "metadata": {},
   "outputs": [],
   "source": []
  },
  {
   "cell_type": "code",
   "execution_count": 34,
   "id": "a0530b37-022c-4d51-846b-9ef56b2bd38c",
   "metadata": {},
   "outputs": [
    {
     "name": "stdout",
     "output_type": "stream",
     "text": [
      "2\n"
     ]
    }
   ],
   "source": [
    "# binary search problems on 1d array\n",
    "\n",
    "# lowerbound bruteforce\n",
    "def lowerBound(arr,target):\n",
    "    for i in range(len(arr)):\n",
    "        if arr[i] >= target:\n",
    "            return i\n",
    "    return len(arr) \n",
    "\n",
    "arr = [1,2,3,4]\n",
    "target = 3\n",
    "print(lowerBound(arr,target))"
   ]
  },
  {
   "cell_type": "code",
   "execution_count": 48,
   "id": "91421a0f-f22a-480c-bc25-3f5cdf3b7e30",
   "metadata": {},
   "outputs": [
    {
     "name": "stdout",
     "output_type": "stream",
     "text": [
      "2\n"
     ]
    }
   ],
   "source": [
    "# lower bound binary search optimize\n",
    "\n",
    "def lowerBoundBinary(arr,tar):\n",
    "    left , right = 0 , len(arr) - 1\n",
    "    result = len(arr)\n",
    "    while left <= right:\n",
    "        mid = (left + right) // 2\n",
    "        if arr[mid] >= tar:\n",
    "            result = mid\n",
    "            right  = mid - 1\n",
    "        else:\n",
    "            left  = mid + 1\n",
    "    return result\n",
    "\n",
    "arr = [1,2,3,4]\n",
    "tar = 3\n",
    "print(lowerBoundBinary(arr,tar))\n",
    "          \n"
   ]
  },
  {
   "cell_type": "code",
   "execution_count": 20,
   "id": "de2d00bd-b4d5-4ee4-b208-94879f75f711",
   "metadata": {},
   "outputs": [
    {
     "name": "stdout",
     "output_type": "stream",
     "text": [
      "The upper bound is the index: 4\n"
     ]
    }
   ],
   "source": [
    "# upperBound optimal solution\n",
    "\n",
    "def upperBound(arr: [int], x: int, n: int) -> int:\n",
    "    low = 0\n",
    "    high = n - 1\n",
    "    ans = n\n",
    "\n",
    "    while low <= high:\n",
    "        mid = (low + high) // 2\n",
    "        # maybe an answer\n",
    "        if arr[mid] > x:\n",
    "            ans = mid\n",
    "            # look for smaller index on the left\n",
    "            high = mid - 1\n",
    "        else:\n",
    "            low = mid + 1  # look on the right\n",
    "\n",
    "    return ans\n",
    "\n",
    "if __name__ == \"__main__\":\n",
    "    arr = [3, 5, 8, 9, 15, 19]\n",
    "    n = 6\n",
    "    x = 9\n",
    "    ind = upperBound(arr, x, n)\n",
    "    print(\"The upper bound is the index:\", ind)"
   ]
  },
  {
   "cell_type": "code",
   "execution_count": 6,
   "id": "2440bc59-de81-4f86-8a29-fdbd091e959f",
   "metadata": {},
   "outputs": [
    {
     "name": "stdout",
     "output_type": "stream",
     "text": [
      "3\n"
     ]
    }
   ],
   "source": [
    "# Binary search implementation\n",
    "\n",
    "def binarySearch(arr,target):\n",
    "    left, right = 0, len(arr)-1\n",
    "    while left <= right:\n",
    "        mid = (left + right)// 2\n",
    "        if arr[mid] == target:\n",
    "            return mid\n",
    "        elif arr[mid] < target:\n",
    "            left = mid + 1\n",
    "        else:\n",
    "            right = mid - 1\n",
    "    return -1\n",
    "\n",
    "arr = [1,2,3,4,5]\n",
    "\n",
    "print(binarySearch(arr,4))"
   ]
  },
  {
   "cell_type": "code",
   "execution_count": 18,
   "id": "e0da6304-32b3-4759-be83-f3ed89b15b97",
   "metadata": {},
   "outputs": [
    {
     "name": "stdout",
     "output_type": "stream",
     "text": [
      "0\n"
     ]
    }
   ],
   "source": [
    "# binary search by recursive method\n",
    "\n",
    "def binaryRecSearch(arr,target,left,right):\n",
    "    if left > right:\n",
    "        return -1\n",
    "    if left <= right:\n",
    "        \n",
    "        mid = (left + right)// 2\n",
    "    if arr[mid] == target:\n",
    "        return mid\n",
    "    elif arr[mid] < target:\n",
    "        return binaryRecSearch(arr,target,mid + 1,right)\n",
    "    else:\n",
    "        return binaryRecSearch(arr,target,left,mid - 1)\n",
    "\n",
    "arr = [1,3,4,5,6]\n",
    "target = 1\n",
    "print(binaryRecSearch(arr,target,0,len(arr) - 1))\n",
    "    "
   ]
  },
  {
   "cell_type": "code",
   "execution_count": 57,
   "id": "3b08f914-4731-4fc2-87ce-28c5271517fd",
   "metadata": {},
   "outputs": [
    {
     "name": "stdout",
     "output_type": "stream",
     "text": [
      "2\n"
     ]
    }
   ],
   "source": [
    "def lowerBon(arr,target):\n",
    "    left , right = 0 , len(arr) - 1\n",
    "    res = len(arr)\n",
    "    while left <= right:\n",
    "        mid = (left + right)// 2\n",
    "        if arr[mid] >= target:\n",
    "            res =  arr[mid]\n",
    "            right = mid - 1\n",
    "        else:\n",
    "            left = mid + 1\n",
    "    return res\n",
    "    \n",
    "arr = [1,2,3,5]\n",
    "t = 2\n",
    "print(lowerBon(arr,t))"
   ]
  },
  {
   "cell_type": "code",
   "execution_count": 10,
   "id": "d7764006-4f54-46a8-850f-cbeffa728468",
   "metadata": {},
   "outputs": [
    {
     "name": "stdout",
     "output_type": "stream",
     "text": [
      "3\n"
     ]
    }
   ],
   "source": [
    "# Example 1:\n",
    "# Input Format: arr[] = {1,2,4,7}, x = 6\n",
    "# Result: 3\n",
    "# Explanation: 6 is not present in the array. So, if we will insert 6 in the 3rd index(0-based indexing), \n",
    "# the array will still be sorted. {1,2,4,6,7}.\n",
    "\n",
    "# Example 2:\n",
    "# Input Format: arr[] = {1,2,4,7}, x = 2\n",
    "# Result: 1\n",
    "# Explanation: 2 is present in the array and so we will return its index i.e. 1.\n",
    "\n",
    "def insertPosition(arr,t):\n",
    "    left,right = 0,len(arr)-1\n",
    "    while left <= right:\n",
    "        mid = (left + right)//2\n",
    "        if arr[mid] == t:\n",
    "            return mid\n",
    "        elif arr[mid] < t:\n",
    "            left = mid + 1\n",
    "        else:\n",
    "            right = mid - 1\n",
    "        \n",
    "    return left\n",
    "\n",
    "arr = [1,2,3,5]\n",
    "t = 4\n",
    "print(insertPosition(arr,t))\n",
    "            "
   ]
  },
  {
   "cell_type": "code",
   "execution_count": 28,
   "id": "c544e9cc-719d-4a55-9e9b-4852f7e7efa2",
   "metadata": {},
   "outputs": [
    {
     "name": "stdout",
     "output_type": "stream",
     "text": [
      "[0, 1]\n"
     ]
    }
   ],
   "source": [
    "# Example 1:\n",
    "# Input Format: n = 6, arr[] ={3, 4, 4, 7, 8, 10}, x= 5\n",
    "# Result: 4 7\n",
    "# Explanation: The floor of 5 in the array is 4, and the ceiling of 5 in the array is 7.\n",
    "\n",
    "# Example 2:\n",
    "# Input Format: n = 6, arr[] ={3, 4, 4, 7, 8, 10}, x= 8\n",
    "# Result: 8 8\n",
    "# Explanation: The floor of 8 in the array is 8, and the ceiling of 8 in the array is also 8.\n",
    "\n",
    "def findFloor(arr,t):\n",
    "    left,right = 0,len(arr) - 1\n",
    "    ans = -1\n",
    "    while left <= right:\n",
    "        mid = (left + right)//2\n",
    "        if arr[mid] <=  t:\n",
    "            ans =  mid\n",
    "            left = mid + 1\n",
    "        else:\n",
    "            right = mid - 1\n",
    "    return ans\n",
    "\n",
    "def findCeil(arr,t):\n",
    "    left,right = 0,len(arr)-1\n",
    "    ans = -1\n",
    "    while left <= right:\n",
    "        mid = (left+right)//2\n",
    "        if arr[mid] >= t:\n",
    "            ans = mid\n",
    "            right = mid - 1\n",
    "        else:\n",
    "            left = mid + 1\n",
    "    return ans\n",
    "\n",
    "def findFloorCeil(arr,t):\n",
    "    f = findFloor(arr,t)\n",
    "    c = findCeil(arr,t)\n",
    "    return [f,c]\n",
    "\n",
    "arr = [3, 7, 8, 10]\n",
    "t = 5\n",
    "print(findFloorCeil(arr,t))"
   ]
  },
  {
   "cell_type": "code",
   "execution_count": null,
   "id": "65ee242f-aee5-4101-a753-da6671d73a8d",
   "metadata": {},
   "outputs": [],
   "source": []
  }
 ],
 "metadata": {
  "kernelspec": {
   "display_name": "Python 3 (ipykernel)",
   "language": "python",
   "name": "python3"
  },
  "language_info": {
   "codemirror_mode": {
    "name": "ipython",
    "version": 3
   },
   "file_extension": ".py",
   "mimetype": "text/x-python",
   "name": "python",
   "nbconvert_exporter": "python",
   "pygments_lexer": "ipython3",
   "version": "3.12.4"
  }
 },
 "nbformat": 4,
 "nbformat_minor": 5
}
