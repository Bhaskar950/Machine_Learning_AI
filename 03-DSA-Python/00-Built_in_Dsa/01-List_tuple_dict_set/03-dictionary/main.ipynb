{
 "cells": [
  {
   "cell_type": "code",
   "execution_count": 39,
   "id": "fffdc61a-d1fb-4b89-9e82-96cde56c3b25",
   "metadata": {},
   "outputs": [
    {
     "data": {
      "text/plain": [
       "[10]"
      ]
     },
     "execution_count": 39,
     "metadata": {},
     "output_type": "execute_result"
    }
   ],
   "source": [
    "# list\n",
    "\n",
    "my_list = [10,20,30,40]\n",
    "\n",
    "# access element\n",
    "\n",
    "my_list[3]\n",
    "\n",
    "# modify alement\n",
    "\n",
    "my_list[3] = 50\n",
    "my_list[3]\n",
    "my_list\n",
    "\n",
    "# add element\n",
    "my_list.append(60)\n",
    "my_list[4] \n",
    "\n",
    "# remove element\n",
    "my_list.remove(60)\n",
    "my_list\n",
    "\n",
    "my_list.pop(1)\n",
    "my_list\n",
    "\n",
    "# del with out return delated element \n",
    "# pop will return delate element\n",
    "\n",
    "\n",
    "# accessing\n",
    "\n",
    "del my_list[1]\n",
    "my_list.pop(1)\n",
    "my_list\n",
    "\n",
    "\n"
   ]
  },
  {
   "cell_type": "code",
   "execution_count": 125,
   "id": "a3bc280a-a5ff-4ec5-b460-95a55ea0eb31",
   "metadata": {},
   "outputs": [
    {
     "name": "stdout",
     "output_type": "stream",
     "text": [
      "2\n"
     ]
    },
    {
     "data": {
      "text/plain": [
       "(4.6, 'python', 5, 4, 3, 2, 1)"
      ]
     },
     "execution_count": 125,
     "metadata": {},
     "output_type": "execute_result"
    }
   ],
   "source": [
    "# tuple\n",
    "\n",
    "my_tuple = (1,2,3,4,5,'python',4.6)\n",
    "# accessing tuple it is immutable\n",
    "\n",
    "# length = len(my_tuple)\n",
    "# last_ele = my_tuple[length-1]\n",
    "# print(last_ele)\n",
    "\n",
    "# accessing last element\n",
    "\n",
    "print(my_tuple[1])\n",
    "\n",
    "\n",
    "my_tuple[::-1]\n",
    "\n",
    "\n",
    "\n"
   ]
  },
  {
   "cell_type": "code",
   "execution_count": 117,
   "id": "fa6b014c-d511-47be-bc89-fbffd5a73d93",
   "metadata": {},
   "outputs": [
    {
     "data": {
      "text/plain": [
       "{'salary': 30000000,\n",
       " 'designation': 'Ai engineer',\n",
       " 'Profession': 'Software Engineer'}"
      ]
     },
     "execution_count": 117,
     "metadata": {},
     "output_type": "execute_result"
    }
   ],
   "source": [
    "# dictionary\n",
    "\n",
    "my_dict = {\"name\":\"bhaskar\",\"salary\":30000000,\"designation\":\"Ai engineer\"}\n",
    "my_2dict = dict(name = 'bhaskar', sal= 3000000000,designation = 'ml engineer')\n",
    "\n",
    "\n",
    "\n",
    "# accessing\n",
    "my_dict['name']\n",
    "\n",
    "# modifying\n",
    "my_dict['name'] = 'koilada'\n",
    "my_dict['name']\n",
    "my_2dict['name'] = \"koilada Bhaskara rao\"\n",
    "my_2dict['name']\n",
    "# adding key_values pairs\n",
    "\n",
    "my_dict['Profession'] = 'Software Engineer'\n",
    "my_dict\n",
    "\n",
    "# remove key_value pairs\n",
    "\n",
    "my_dict.pop('name')\n",
    "my_dict['name'] = 'bhaskar k'\n",
    "my_dict['name']\n",
    "\n",
    "del my_dict['name']\n",
    "my_dict\n"
   ]
  },
  {
   "cell_type": "code",
   "execution_count": 143,
   "id": "697868da-30f1-48f0-aaed-c5e3c589f3bc",
   "metadata": {},
   "outputs": [
    {
     "name": "stdout",
     "output_type": "stream",
     "text": [
      "python\n",
      "1\n",
      "2\n",
      "3\n",
      "4\n",
      "4.5\n"
     ]
    },
    {
     "data": {
      "text/plain": [
       "{1, 2, 222, 3, 333, 4, 4.5, 4444, 5555, 'python'}"
      ]
     },
     "execution_count": 143,
     "metadata": {},
     "output_type": "execute_result"
    }
   ],
   "source": [
    "# set\n",
    "# no indexing\n",
    "\n",
    "my_set = {1,2,3,4,4,'python',4.5}\n",
    "my_set\n",
    "\n",
    "# accessing\n",
    "\n",
    "for i in my_set:\n",
    "    print(i)\n",
    "\n",
    "# adding\n",
    "\n",
    "my_set.add(1.3)\n",
    "my_set\n",
    "\n",
    "# removing\n",
    "my_set.remove(1.3)\n",
    "my_set\n",
    "\n",
    "# set operation\n",
    "\n",
    "another_set = {222,333,4444,5555}\n",
    "my_set.union(another_set)\n",
    "\n",
    "\n",
    "\n"
   ]
  },
  {
   "cell_type": "code",
   "execution_count": 23,
   "id": "fbabceb7-ca27-4880-bc6f-3e076c838056",
   "metadata": {},
   "outputs": [
    {
     "name": "stdout",
     "output_type": "stream",
     "text": [
      "{1: 2, 2: 3, 3: 4, 4: 1, 5: 1}\n"
     ]
    }
   ],
   "source": [
    "# dict excercises\n",
    "\n",
    "# frequency count\n",
    "def frequency_count(lst):\n",
    "    freq_dict = {}\n",
    "    for i in lst:\n",
    "        if i in freq_dict:\n",
    "            freq_dict[i] += 1\n",
    "        else:\n",
    "            freq_dict[i] = 1\n",
    "    return freq_dict\n",
    "\n",
    "lst = [1,1,2,2,2,3,3,3,3,4,5]\n",
    "print(frequency_count(lst))"
   ]
  },
  {
   "cell_type": "code",
   "execution_count": 19,
   "id": "dccf0a92-369a-4639-b621-ef9556006ab1",
   "metadata": {},
   "outputs": [
    {
     "name": "stdout",
     "output_type": "stream",
     "text": [
      "(5, 7)\n"
     ]
    }
   ],
   "source": [
    "# find most frequent element\n",
    "def most_frequent(lst):\n",
    "    freq_dict = frequency_count(lst)     #i stored frequncy_count function in freq_dict\n",
    "    max_count = max(freq_dict.values())\n",
    "    for key , value in freq_dict.items():\n",
    "        if max_count == value:\n",
    "            return key,value\n",
    "            \n",
    "lst = ['a','b','b','c','a','a']\n",
    "\n",
    "lst2 = [1,1,2,2,2,3,3,3,3,4,5,5,5,5,5,5,5]\n",
    "print(most_frequent(lst2))"
   ]
  },
  {
   "cell_type": "code",
   "execution_count": 35,
   "id": "68db6aaa-e4a4-4a35-8921-a714ae48ccea",
   "metadata": {},
   "outputs": [
    {
     "name": "stdout",
     "output_type": "stream",
     "text": [
      "{2: 'b', 3: 'c', '1': 'a'}\n",
      "{1: 'a', 2: 'b', 3: 'c'}\n"
     ]
    }
   ],
   "source": [
    "# invert dict\n",
    "\n",
    "def inverted_dict(d):\n",
    "    inverted_dict = {}\n",
    "    for k, v in d.items():\n",
    "        inverted_dict[v] = k\n",
    "    return inverted_dict\n",
    "\n",
    "print(inverted_dict({'b': 2, 'c': 3, 'a':4,'a': \"1\" }))\n",
    "\n",
    "\n",
    "# short code\n",
    "def invert_dict(d):\n",
    "    return { v: k for k ,v in d.items()}\n",
    "    \n",
    "print(invert_dict({'a': 1, 'b': 2, 'c': 3}))\n",
    "# Output: {1: 'a', 2: 'b', 3: 'c'}"
   ]
  },
  {
   "cell_type": "code",
   "execution_count": 39,
   "id": "fcce0686-ea6d-4264-a2e3-69b7e93db212",
   "metadata": {},
   "outputs": [
    {
     "name": "stdout",
     "output_type": "stream",
     "text": [
      "{'a': 1, 'b': 68, 'c': 4}\n"
     ]
    }
   ],
   "source": [
    "def merge_dicts(d1,d2):\n",
    "    merge_dict = d1.copy()\n",
    "    for key , value in d2.items():\n",
    "        if key in merge_dict:\n",
    "            merge_dict[key] += value\n",
    "        else:\n",
    "            merge_dict[key] = value\n",
    "    return merge_dict\n",
    "\n",
    "print(merge_dicts({'a': 1, 'b': 2}, {'b': 66, 'c': 4}))\n",
    "# Output: {'a': 1, 'b': 5, 'c': 4}"
   ]
  },
  {
   "cell_type": "code",
   "execution_count": 54,
   "id": "3709181d-eb72-4d12-ae12-1684b3642201",
   "metadata": {},
   "outputs": [
    {
     "name": "stdout",
     "output_type": "stream",
     "text": [
      "aet\n",
      "aet\n",
      "ant\n",
      "aet\n",
      "ant\n",
      "abt\n",
      "{'aet': ['eat', 'tea', 'ate'], 'ant': ['tan', 'nat'], 'abt': ['bat']}\n"
     ]
    }
   ],
   "source": [
    "\n",
    "# understanding pending\n",
    "\n",
    "def group_anagrams(words):\n",
    "    anagram_dict = {}\n",
    "    for word in words:\n",
    "        sorted_word = ''.join(sorted(word))msvb\n",
    "        print(sorted_word)\n",
    "        if sorted_word in anagram_dict:\n",
    "            anagram_dict[sorted_word].append(word)\n",
    "        else:\n",
    "            anagram_dict[sorted_word] = [word]\n",
    "    return anagram_dict\n",
    "\n",
    "# Example usage\n",
    "print(group_anagrams(['eat', 'tea', 'tan', 'ate', 'nat', 'bat']))\n",
    "# Output: {'aet': ['eat', 'tea', 'ate'], 'ant': ['tan', 'nat'], 'abt': ['bat']}"
   ]
  },
  {
   "cell_type": "code",
   "execution_count": 60,
   "id": "7bd23f84-4e70-47cc-a5e3-2f6e890bf62b",
   "metadata": {},
   "outputs": [
    {
     "name": "stdout",
     "output_type": "stream",
     "text": [
      "True\n"
     ]
    }
   ],
   "source": [
    "# check for duplicates in dict\n",
    "\n",
    "def has_duplicate(d):\n",
    "    return len(d.values()) != len(set(d.values()))\n",
    "\n",
    "d = {'a':1, 'b':2,'c':1}\n",
    "print(has_duplicate(d))"
   ]
  },
  {
   "cell_type": "code",
   "execution_count": 64,
   "id": "31bb7668-26ed-49ea-a164-552d21e49d70",
   "metadata": {},
   "outputs": [
    {
     "name": "stdout",
     "output_type": "stream",
     "text": [
      "3040499454994\n"
     ]
    }
   ],
   "source": [
    "# sum_values in dict\n",
    "def sum_values(d):\n",
    "    return sum(d.values())\n",
    "\n",
    "print(sum_values({'a': 10, 'b': 20, 'c': 3040499454964}))"
   ]
  },
  {
   "cell_type": "code",
   "execution_count": 68,
   "id": "bd678262-a472-4a6d-91c0-00930494829f",
   "metadata": {},
   "outputs": [
    {
     "name": "stdout",
     "output_type": "stream",
     "text": [
      "a\n"
     ]
    }
   ],
   "source": [
    "# find key with max value\n",
    "def max_value_key(d):\n",
    "    return max(d, key = d.get)\\\n",
    "\n",
    "print(max_value_key({'a': 3556, 'b': 5, 'c': 2}))"
   ]
  },
  {
   "cell_type": "code",
   "execution_count": 74,
   "id": "98b6d59e-b2ca-4c59-9b2f-485a3dfa9a1c",
   "metadata": {},
   "outputs": [
    {
     "name": "stdout",
     "output_type": "stream",
     "text": [
      "{'h': 1, 'e': 1, 'l': 6, 'o': 1}\n"
     ]
    }
   ],
   "source": [
    "# count char in string\n",
    "\n",
    "def count_charecter(d):\n",
    "    char_count = {}\n",
    "    for i in d:\n",
    "        if i in char_count:\n",
    "            char_count[i] += 1\n",
    "        else:\n",
    "            char_count[i] = 1\n",
    "    return char_count\n",
    "\n",
    "d = \"hellllllo\"\n",
    "print(count_charecter(d))"
   ]
  },
  {
   "cell_type": "code",
   "execution_count": null,
   "id": "fbc2ca3f-a544-477e-a4b6-3b67a6bc9027",
   "metadata": {},
   "outputs": [],
   "source": []
  }
 ],
 "metadata": {
  "kernelspec": {
   "display_name": "Python 3 (ipykernel)",
   "language": "python",
   "name": "python3"
  },
  "language_info": {
   "codemirror_mode": {
    "name": "ipython",
    "version": 3
   },
   "file_extension": ".py",
   "mimetype": "text/x-python",
   "name": "python",
   "nbconvert_exporter": "python",
   "pygments_lexer": "ipython3",
   "version": "3.12.4"
  }
 },
 "nbformat": 4,
 "nbformat_minor": 5
}
