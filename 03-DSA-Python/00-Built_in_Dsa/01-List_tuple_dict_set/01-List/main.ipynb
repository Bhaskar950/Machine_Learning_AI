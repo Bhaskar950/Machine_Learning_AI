{
 "cells": [
  {
   "cell_type": "code",
   "execution_count": 39,
   "id": "fffdc61a-d1fb-4b89-9e82-96cde56c3b25",
   "metadata": {},
   "outputs": [
    {
     "data": {
      "text/plain": [
       "[10]"
      ]
     },
     "execution_count": 39,
     "metadata": {},
     "output_type": "execute_result"
    }
   ],
   "source": [
    "# list\n",
    "\n",
    "my_list = [10,20,30,40]\n",
    "\n",
    "# access element\n",
    "\n",
    "my_list[3]\n",
    "\n",
    "# modify alement\n",
    "\n",
    "my_list[3] = 50\n",
    "my_list[3]\n",
    "my_list\n",
    "\n",
    "# add element\n",
    "my_list.append(60)\n",
    "my_list[4] \n",
    "\n",
    "# remove element\n",
    "my_list.remove(60)\n",
    "my_list\n",
    "\n",
    "my_list.pop(1)\n",
    "my_list\n",
    "\n",
    "# del with out return delated element \n",
    "# pop will return delate element\n",
    "\n",
    "\n",
    "# accessing\n",
    "\n",
    "del my_list[1]\n",
    "my_list.pop(1)\n",
    "my_list\n",
    "\n",
    "\n"
   ]
  },
  {
   "cell_type": "code",
   "execution_count": 125,
   "id": "a3bc280a-a5ff-4ec5-b460-95a55ea0eb31",
   "metadata": {},
   "outputs": [
    {
     "name": "stdout",
     "output_type": "stream",
     "text": [
      "2\n"
     ]
    },
    {
     "data": {
      "text/plain": [
       "(4.6, 'python', 5, 4, 3, 2, 1)"
      ]
     },
     "execution_count": 125,
     "metadata": {},
     "output_type": "execute_result"
    }
   ],
   "source": [
    "# tuple\n",
    "\n",
    "my_tuple = (1,2,3,4,5,'python',4.6)\n",
    "# accessing tuple it is immutable\n",
    "\n",
    "# length = len(my_tuple)\n",
    "# last_ele = my_tuple[length-1]\n",
    "# print(last_ele)\n",
    "\n",
    "# accessing last element\n",
    "\n",
    "print(my_tuple[1])\n",
    "\n",
    "\n",
    "my_tuple[::-1]\n",
    "\n",
    "\n",
    "\n"
   ]
  },
  {
   "cell_type": "code",
   "execution_count": 117,
   "id": "fa6b014c-d511-47be-bc89-fbffd5a73d93",
   "metadata": {},
   "outputs": [
    {
     "data": {
      "text/plain": [
       "{'salary': 30000000,\n",
       " 'designation': 'Ai engineer',\n",
       " 'Profession': 'Software Engineer'}"
      ]
     },
     "execution_count": 117,
     "metadata": {},
     "output_type": "execute_result"
    }
   ],
   "source": [
    "# dictionary\n",
    "\n",
    "my_dict = {\"name\":\"bhaskar\",\"salary\":30000000,\"designation\":\"Ai engineer\"}\n",
    "my_2dict = dict(name = 'bhaskar', sal= 3000000000,designation = 'ml engineer')\n",
    "\n",
    "\n",
    "\n",
    "# accessing\n",
    "my_dict['name']\n",
    "\n",
    "# modifying\n",
    "my_dict['name'] = 'koilada'\n",
    "my_dict['name']\n",
    "my_2dict['name'] = \"koilada Bhaskara rao\"\n",
    "my_2dict['name']\n",
    "# adding key_values pairs\n",
    "\n",
    "my_dict['Profession'] = 'Software Engineer'\n",
    "my_dict\n",
    "\n",
    "# remove key_value pairs\n",
    "\n",
    "my_dict.pop('name')\n",
    "my_dict['name'] = 'bhaskar k'\n",
    "my_dict['name']\n",
    "\n",
    "del my_dict['name']\n",
    "my_dict\n"
   ]
  },
  {
   "cell_type": "code",
   "execution_count": 143,
   "id": "697868da-30f1-48f0-aaed-c5e3c589f3bc",
   "metadata": {},
   "outputs": [
    {
     "name": "stdout",
     "output_type": "stream",
     "text": [
      "python\n",
      "1\n",
      "2\n",
      "3\n",
      "4\n",
      "4.5\n"
     ]
    },
    {
     "data": {
      "text/plain": [
       "{1, 2, 222, 3, 333, 4, 4.5, 4444, 5555, 'python'}"
      ]
     },
     "execution_count": 143,
     "metadata": {},
     "output_type": "execute_result"
    }
   ],
   "source": [
    "# set\n",
    "# no indexing\n",
    "\n",
    "my_set = {1,2,3,4,4,'python',4.5}\n",
    "my_set\n",
    "\n",
    "# accessing\n",
    "\n",
    "for i in my_set:\n",
    "    print(i)\n",
    "\n",
    "# adding\n",
    "\n",
    "my_set.add(1.3)\n",
    "my_set\n",
    "\n",
    "# removing\n",
    "my_set.remove(1.3)\n",
    "my_set\n",
    "\n",
    "# set operation\n",
    "\n",
    "another_set = {222,333,4444,5555}\n",
    "my_set.union(another_set)\n",
    "\n",
    "\n",
    "\n"
   ]
  },
  {
   "cell_type": "code",
   "execution_count": 147,
   "id": "fbabceb7-ca27-4880-bc6f-3e076c838056",
   "metadata": {},
   "outputs": [
    {
     "name": "stdout",
     "output_type": "stream",
     "text": [
      "155\n"
     ]
    }
   ],
   "source": [
    "# excercises on list\n",
    "\n",
    "# sum of arr\n",
    "\n",
    "def sum_elements(nums):\n",
    "    return sum(nums)\n",
    "array = [1,3,3,4,5,6,7,8,9,9,100]\n",
    "print(sum_elements(array))"
   ]
  },
  {
   "cell_type": "code",
   "execution_count": 149,
   "id": "0b665ea9-d6d2-4fa7-8b1e-a10297c3e224",
   "metadata": {},
   "outputs": [
    {
     "name": "stdout",
     "output_type": "stream",
     "text": [
      "[4.66, 'python', 5, 4, 3, 1]\n"
     ]
    }
   ],
   "source": [
    "# reverse arr\n",
    "\n",
    "def reverse_arr(nums):\n",
    "    return nums[::-1]\n",
    "\n",
    "\n",
    "nums = [1,3,4,5,'python',4.66]\n",
    "print(reverse_arr(nums))\n"
   ]
  },
  {
   "cell_type": "code",
   "execution_count": 153,
   "id": "07753432-d32d-489a-a8ef-e1fa590653d2",
   "metadata": {},
   "outputs": [
    {
     "name": "stdout",
     "output_type": "stream",
     "text": [
      "5\n"
     ]
    }
   ],
   "source": [
    "# find max number\n",
    "\n",
    "def find_max(nums):\n",
    "    return max(nums)\n",
    "\n",
    "\n",
    "nums = [1,3,4,5,4.66]\n",
    "print(find_max(nums))\n",
    "\n"
   ]
  },
  {
   "cell_type": "code",
   "execution_count": 165,
   "id": "dd9af40c-eefe-4109-a008-ef3951337ec4",
   "metadata": {},
   "outputs": [
    {
     "name": "stdout",
     "output_type": "stream",
     "text": [
      "[2, 4, 6, 8, 10, 12, 14, 16, 18, 20]\n"
     ]
    }
   ],
   "source": [
    "# list of even numbers 0 to 20\n",
    "\n",
    "def even_numbers():\n",
    "    even_number = []\n",
    "    for i in range(2,21):\n",
    "        if i % 2 == 0:\n",
    "            even_number.append(i)\n",
    "    return even_number\n",
    "print(even_numbers())"
   ]
  },
  {
   "cell_type": "code",
   "execution_count": 171,
   "id": "efeb9d9e-9920-4741-bf49-06dd4302d1c7",
   "metadata": {},
   "outputs": [
    {
     "name": "stdout",
     "output_type": "stream",
     "text": [
      "1004\n"
     ]
    }
   ],
   "source": [
    "# sum_of list\n",
    "\n",
    "def sum_list(nums):\n",
    "    count = 0\n",
    "    for i in nums:\n",
    "        count += i\n",
    "    return count\n",
    "\n",
    "nums = [1,1,1,1,1000]\n",
    "\n",
    "print(sum_list(nums))\n",
    "    "
   ]
  },
  {
   "cell_type": "code",
   "execution_count": 175,
   "id": "0539e2a8-6012-4724-9594-7c96e5753770",
   "metadata": {},
   "outputs": [
    {
     "name": "stdout",
     "output_type": "stream",
     "text": [
      "0.5\n"
     ]
    }
   ],
   "source": [
    "# find smallest element\n",
    "def smallest_element(nums):\n",
    "    smallest = nums[0]\n",
    "    for i in nums:\n",
    "        if i < smallest:\n",
    "            smallest = i\n",
    "    return smallest\n",
    "\n",
    "nums = [0.5,1,1,1,1000]\n",
    "\n",
    "print(smallest_element(nums))\n",
    "\n",
    "\n"
   ]
  },
  {
   "cell_type": "code",
   "execution_count": 181,
   "id": "faf14cfc-a6ce-451d-8b49-f384429161ab",
   "metadata": {},
   "outputs": [
    {
     "name": "stdout",
     "output_type": "stream",
     "text": [
      "3\n"
     ]
    }
   ],
   "source": [
    "# count occurence of element    \n",
    "\n",
    "def count_occurence(nums,element):\n",
    "    count = 0\n",
    "    for i in nums:\n",
    "        if i == element:\n",
    "            count += 1\n",
    "    return count\n",
    "\n",
    "nums = [1,1,1,3,3,3,4,4,4,5,5,5,5,5,5,5,5]\n",
    "print(count_occurence(nums,1))"
   ]
  },
  {
   "cell_type": "code",
   "execution_count": 207,
   "id": "680fbeff-a1a3-4696-a376-482deb83a222",
   "metadata": {},
   "outputs": [
    {
     "name": "stdout",
     "output_type": "stream",
     "text": [
      "[1, 1, 1, 3, 3, 3, 4, 4, 4, 5]\n",
      "[1, 1, 1, 3, 3, 3, 5, 5, 5]\n"
     ]
    }
   ],
   "source": [
    "# remove_occurence of element\n",
    "def count_occurence(nums,element):\n",
    "    for i in nums:\n",
    "        if i == element:\n",
    "            nums.remove(i)\n",
    "    return nums\n",
    "\n",
    "# this is correct\n",
    "\n",
    "def count_occurence2(nums,element):\n",
    "    result = []\n",
    "    for i in nums:\n",
    "        if i != element:\n",
    "            result.append(i)\n",
    "            \n",
    "    return result\n",
    "\n",
    "    \n",
    "nums = [1,1,1,3,3,3,4,4,4,5,5,5]\n",
    "print(count_occurence(nums,5))\n",
    "\n",
    "nums = [1,1,1,3,3,3,4,4,4,5,5,5]\n",
    "print(count_occurence2(nums,4))"
   ]
  },
  {
   "cell_type": "code",
   "execution_count": null,
   "id": "cc057114-a57a-46b8-a774-78d7c2d08695",
   "metadata": {},
   "outputs": [],
   "source": []
  }
 ],
 "metadata": {
  "kernelspec": {
   "display_name": "Python 3 (ipykernel)",
   "language": "python",
   "name": "python3"
  },
  "language_info": {
   "codemirror_mode": {
    "name": "ipython",
    "version": 3
   },
   "file_extension": ".py",
   "mimetype": "text/x-python",
   "name": "python",
   "nbconvert_exporter": "python",
   "pygments_lexer": "ipython3",
   "version": "3.12.4"
  }
 },
 "nbformat": 4,
 "nbformat_minor": 5
}
