{
 "cells": [
  {
   "cell_type": "code",
   "execution_count": 39,
   "id": "fffdc61a-d1fb-4b89-9e82-96cde56c3b25",
   "metadata": {},
   "outputs": [
    {
     "data": {
      "text/plain": [
       "[10]"
      ]
     },
     "execution_count": 39,
     "metadata": {},
     "output_type": "execute_result"
    }
   ],
   "source": [
    "# list\n",
    "\n",
    "my_list = [10,20,30,40]\n",
    "\n",
    "# access element\n",
    "\n",
    "my_list[3]\n",
    "\n",
    "# modify alement\n",
    "\n",
    "my_list[3] = 50\n",
    "my_list[3]\n",
    "my_list\n",
    "\n",
    "# add element\n",
    "my_list.append(60)\n",
    "my_list[4] \n",
    "\n",
    "# remove element\n",
    "my_list.remove(60)\n",
    "my_list\n",
    "\n",
    "my_list.pop(1)\n",
    "my_list\n",
    "\n",
    "# del with out return delated element \n",
    "# pop will return delate element\n",
    "\n",
    "\n",
    "# accessing\n",
    "\n",
    "del my_list[1]\n",
    "my_list.pop(1)\n",
    "my_list\n",
    "\n",
    "\n"
   ]
  },
  {
   "cell_type": "code",
   "execution_count": 125,
   "id": "a3bc280a-a5ff-4ec5-b460-95a55ea0eb31",
   "metadata": {},
   "outputs": [
    {
     "name": "stdout",
     "output_type": "stream",
     "text": [
      "2\n"
     ]
    },
    {
     "data": {
      "text/plain": [
       "(4.6, 'python', 5, 4, 3, 2, 1)"
      ]
     },
     "execution_count": 125,
     "metadata": {},
     "output_type": "execute_result"
    }
   ],
   "source": [
    "# tuple\n",
    "\n",
    "my_tuple = (1,2,3,4,5,'python',4.6)\n",
    "# accessing tuple it is immutable\n",
    "\n",
    "# length = len(my_tuple)\n",
    "# last_ele = my_tuple[length-1]\n",
    "# print(last_ele)\n",
    "\n",
    "# accessing last element\n",
    "\n",
    "print(my_tuple[1])\n",
    "\n",
    "\n",
    "my_tuple[::-1]\n",
    "\n",
    "\n",
    "\n"
   ]
  },
  {
   "cell_type": "code",
   "execution_count": 117,
   "id": "fa6b014c-d511-47be-bc89-fbffd5a73d93",
   "metadata": {},
   "outputs": [
    {
     "data": {
      "text/plain": [
       "{'salary': 30000000,\n",
       " 'designation': 'Ai engineer',\n",
       " 'Profession': 'Software Engineer'}"
      ]
     },
     "execution_count": 117,
     "metadata": {},
     "output_type": "execute_result"
    }
   ],
   "source": [
    "# dictionary\n",
    "\n",
    "my_dict = {\"name\":\"bhaskar\",\"salary\":30000000,\"designation\":\"Ai engineer\"}\n",
    "my_2dict = dict(name = 'bhaskar', sal= 3000000000,designation = 'ml engineer')\n",
    "\n",
    "\n",
    "\n",
    "# accessing\n",
    "my_dict['name']\n",
    "\n",
    "# modifying\n",
    "my_dict['name'] = 'koilada'\n",
    "my_dict['name']\n",
    "my_2dict['name'] = \"koilada Bhaskara rao\"\n",
    "my_2dict['name']\n",
    "# adding key_values pairs\n",
    "\n",
    "my_dict['Profession'] = 'Software Engineer'\n",
    "my_dict\n",
    "\n",
    "# remove key_value pairs\n",
    "\n",
    "my_dict.pop('name')\n",
    "my_dict['name'] = 'bhaskar k'\n",
    "my_dict['name']\n",
    "\n",
    "del my_dict['name']\n",
    "my_dict\n"
   ]
  },
  {
   "cell_type": "code",
   "execution_count": 143,
   "id": "697868da-30f1-48f0-aaed-c5e3c589f3bc",
   "metadata": {},
   "outputs": [
    {
     "name": "stdout",
     "output_type": "stream",
     "text": [
      "python\n",
      "1\n",
      "2\n",
      "3\n",
      "4\n",
      "4.5\n"
     ]
    },
    {
     "data": {
      "text/plain": [
       "{1, 2, 222, 3, 333, 4, 4.5, 4444, 5555, 'python'}"
      ]
     },
     "execution_count": 143,
     "metadata": {},
     "output_type": "execute_result"
    }
   ],
   "source": [
    "# set\n",
    "# no indexing\n",
    "\n",
    "my_set = {1,2,3,4,4,'python',4.5}\n",
    "my_set\n",
    "\n",
    "# accessing\n",
    "\n",
    "for i in my_set:\n",
    "    print(i)\n",
    "\n",
    "# adding\n",
    "\n",
    "my_set.add(1.3)\n",
    "my_set\n",
    "\n",
    "# removing\n",
    "my_set.remove(1.3)\n",
    "my_set\n",
    "\n",
    "# set operation\n",
    "\n",
    "another_set = {222,333,4444,5555}\n",
    "my_set.union(another_set)\n",
    "\n",
    "\n",
    "\n"
   ]
  },
  {
   "cell_type": "code",
   "execution_count": null,
   "id": "fbabceb7-ca27-4880-bc6f-3e076c838056",
   "metadata": {},
   "outputs": [],
   "source": []
  }
 ],
 "metadata": {
  "kernelspec": {
   "display_name": "Python 3 (ipykernel)",
   "language": "python",
   "name": "python3"
  },
  "language_info": {
   "codemirror_mode": {
    "name": "ipython",
    "version": 3
   },
   "file_extension": ".py",
   "mimetype": "text/x-python",
   "name": "python",
   "nbconvert_exporter": "python",
   "pygments_lexer": "ipython3",
   "version": "3.12.4"
  }
 },
 "nbformat": 4,
 "nbformat_minor": 5
}
