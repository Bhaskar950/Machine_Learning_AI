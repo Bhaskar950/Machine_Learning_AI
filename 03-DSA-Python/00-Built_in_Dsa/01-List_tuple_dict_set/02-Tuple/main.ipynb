{
 "cells": [
  {
   "cell_type": "code",
   "execution_count": 39,
   "id": "fffdc61a-d1fb-4b89-9e82-96cde56c3b25",
   "metadata": {},
   "outputs": [
    {
     "data": {
      "text/plain": [
       "[10]"
      ]
     },
     "execution_count": 39,
     "metadata": {},
     "output_type": "execute_result"
    }
   ],
   "source": [
    "# list\n",
    "\n",
    "my_list = [10,20,30,40]\n",
    "\n",
    "# access element\n",
    "\n",
    "my_list[3]\n",
    "\n",
    "# modify alement\n",
    "\n",
    "my_list[3] = 50\n",
    "my_list[3]\n",
    "my_list\n",
    "\n",
    "# add element\n",
    "my_list.append(60)\n",
    "my_list[4] \n",
    "\n",
    "# remove element\n",
    "my_list.remove(60)\n",
    "my_list\n",
    "\n",
    "my_list.pop(1)\n",
    "my_list\n",
    "\n",
    "# del with out return delated element \n",
    "# pop will return delate element\n",
    "\n",
    "\n",
    "# accessing\n",
    "\n",
    "del my_list[1]\n",
    "my_list.pop(1)\n",
    "my_list\n",
    "\n",
    "\n"
   ]
  },
  {
   "cell_type": "code",
   "execution_count": 125,
   "id": "a3bc280a-a5ff-4ec5-b460-95a55ea0eb31",
   "metadata": {},
   "outputs": [
    {
     "name": "stdout",
     "output_type": "stream",
     "text": [
      "2\n"
     ]
    },
    {
     "data": {
      "text/plain": [
       "(4.6, 'python', 5, 4, 3, 2, 1)"
      ]
     },
     "execution_count": 125,
     "metadata": {},
     "output_type": "execute_result"
    }
   ],
   "source": [
    "# tuple\n",
    "\n",
    "my_tuple = (1,2,3,4,5,'python',4.6)\n",
    "# accessing tuple it is immutable\n",
    "\n",
    "# length = len(my_tuple)\n",
    "# last_ele = my_tuple[length-1]\n",
    "# print(last_ele)\n",
    "\n",
    "# accessing last element\n",
    "\n",
    "print(my_tuple[1])\n",
    "\n",
    "\n",
    "my_tuple[::-1]\n",
    "\n",
    "\n",
    "\n"
   ]
  },
  {
   "cell_type": "code",
   "execution_count": 117,
   "id": "fa6b014c-d511-47be-bc89-fbffd5a73d93",
   "metadata": {},
   "outputs": [
    {
     "data": {
      "text/plain": [
       "{'salary': 30000000,\n",
       " 'designation': 'Ai engineer',\n",
       " 'Profession': 'Software Engineer'}"
      ]
     },
     "execution_count": 117,
     "metadata": {},
     "output_type": "execute_result"
    }
   ],
   "source": [
    "# dictionary\n",
    "\n",
    "my_dict = {\"name\":\"bhaskar\",\"salary\":30000000,\"designation\":\"Ai engineer\"}\n",
    "my_2dict = dict(name = 'bhaskar', sal= 3000000000,designation = 'ml engineer')\n",
    "\n",
    "\n",
    "\n",
    "# accessing\n",
    "my_dict['name']\n",
    "\n",
    "# modifying\n",
    "my_dict['name'] = 'koilada'\n",
    "my_dict['name']\n",
    "my_2dict['name'] = \"koilada Bhaskara rao\"\n",
    "my_2dict['name']\n",
    "# adding key_values pairs\n",
    "\n",
    "my_dict['Profession'] = 'Software Engineer'\n",
    "my_dict\n",
    "\n",
    "# remove key_value pairs\n",
    "\n",
    "my_dict.pop('name')\n",
    "my_dict['name'] = 'bhaskar k'\n",
    "my_dict['name']\n",
    "\n",
    "del my_dict['name']\n",
    "my_dict\n"
   ]
  },
  {
   "cell_type": "code",
   "execution_count": 143,
   "id": "697868da-30f1-48f0-aaed-c5e3c589f3bc",
   "metadata": {},
   "outputs": [
    {
     "name": "stdout",
     "output_type": "stream",
     "text": [
      "python\n",
      "1\n",
      "2\n",
      "3\n",
      "4\n",
      "4.5\n"
     ]
    },
    {
     "data": {
      "text/plain": [
       "{1, 2, 222, 3, 333, 4, 4.5, 4444, 5555, 'python'}"
      ]
     },
     "execution_count": 143,
     "metadata": {},
     "output_type": "execute_result"
    }
   ],
   "source": [
    "# set\n",
    "# no indexing\n",
    "\n",
    "my_set = {1,2,3,4,4,'python',4.5}\n",
    "my_set\n",
    "\n",
    "# accessing\n",
    "\n",
    "for i in my_set:\n",
    "    print(i)\n",
    "\n",
    "# adding\n",
    "\n",
    "my_set.add(1.3)\n",
    "my_set\n",
    "\n",
    "# removing\n",
    "my_set.remove(1.3)\n",
    "my_set\n",
    "\n",
    "# set operation\n",
    "\n",
    "another_set = {222,333,4444,5555}\n",
    "my_set.union(another_set)\n",
    "\n",
    "\n",
    "\n"
   ]
  },
  {
   "cell_type": "code",
   "execution_count": 3,
   "id": "fbabceb7-ca27-4880-bc6f-3e076c838056",
   "metadata": {},
   "outputs": [
    {
     "name": "stdout",
     "output_type": "stream",
     "text": [
      "(2, 6)\n"
     ]
    }
   ],
   "source": [
    "# tuple excercises\n",
    "# access first and last elements\n",
    "\n",
    "def first_last_elements(nums):\n",
    "    first_index_val = nums[0]\n",
    "    last_index_val = nums[-1]\n",
    "    return (first_index_val,last_index_val)\n",
    "\n",
    "nums = (2,3,4,56,6)\n",
    "print(first_last_elements(nums))\n"
   ]
  },
  {
   "cell_type": "code",
   "execution_count": 9,
   "id": "0e477abc-093f-4120-aad7-36ddae0bd4f5",
   "metadata": {},
   "outputs": [
    {
     "name": "stdout",
     "output_type": "stream",
     "text": [
      "(1, 2, 3, 4, 5, 6)\n"
     ]
    }
   ],
   "source": [
    "# concatenating tuple\n",
    "def concatenate_tup(tup1,tup2):\n",
    "    result = tup1+tup2\n",
    "    return result\n",
    "tup1 = (1,2,3)\n",
    "tup2 = (4,5,6)\n",
    "print(concatenate_tup(tup1,tup2))\n",
    "\n",
    "\n",
    "    "
   ]
  },
  {
   "cell_type": "code",
   "execution_count": 15,
   "id": "b2711628-5751-4344-ac40-57d727084a4c",
   "metadata": {},
   "outputs": [
    {
     "name": "stdout",
     "output_type": "stream",
     "text": [
      "True\n",
      "False\n"
     ]
    }
   ],
   "source": [
    "# cheching for element\n",
    "def check_element(tup,element):\n",
    "    for i in tup:\n",
    "        if i == element:\n",
    "            return True\n",
    "    return False\n",
    "    \n",
    "print(check_element((1, 2, 3, 4, 5), 3))  # Output: True\n",
    "print(check_element((1, 2, 3, 4, 5), 6))  # Output: False\n"
   ]
  },
  {
   "cell_type": "code",
   "execution_count": 41,
   "id": "56dce555-3d54-4f4b-8310-74ca95abbabf",
   "metadata": {},
   "outputs": [
    {
     "name": "stdout",
     "output_type": "stream",
     "text": [
      "0\n"
     ]
    }
   ],
   "source": [
    "# find index of element\n",
    "def find_index(tup,element):\n",
    "    for i in range (len(tup)):\n",
    "        if tup[i] == element:\n",
    "            return i\n",
    "    return -1\n",
    "        \n",
    "tup = (3,1,3,4,3)\n",
    "print(find_index(tup,3))"
   ]
  },
  {
   "cell_type": "code",
   "execution_count": 23,
   "id": "9cf9bec7-c4b5-4ce4-a5ba-36f3ba6d69a6",
   "metadata": {},
   "outputs": [
    {
     "name": "stdout",
     "output_type": "stream",
     "text": [
      "3\n"
     ]
    }
   ],
   "source": [
    "my_tup = (1,2,34)\n",
    "val = len(my_tup)\n",
    "print(val)"
   ]
  },
  {
   "cell_type": "code",
   "execution_count": 45,
   "id": "1e314116-559c-4533-8452-c5fc10c8f7ff",
   "metadata": {},
   "outputs": [
    {
     "name": "stdout",
     "output_type": "stream",
     "text": [
      "a: 1, b: 3,c: 4\n"
     ]
    }
   ],
   "source": [
    "# unpacking tuple\n",
    "def unpack_tup(tup):\n",
    "    a,b,c = tup\n",
    "    print(f\"a: {a}, b: {b},c: {c}\")\n",
    "tup = (1,3,4)\n",
    "unpack_tup(tup)"
   ]
  },
  {
   "cell_type": "code",
   "execution_count": 53,
   "id": "89ad4e98-91e8-4f1c-8f50-e4f88cb9db21",
   "metadata": {},
   "outputs": [
    {
     "name": "stdout",
     "output_type": "stream",
     "text": [
      "(1, 3, 4)\n"
     ]
    }
   ],
   "source": [
    "# convert list to tuple\n",
    "\n",
    "def list_to_tuple(lst):\n",
    "    result = tuple(lst)\n",
    "    print(result)\n",
    "lst = [1,3,4]\n",
    "list_to_tuple(lst)\n",
    "\n",
    "    "
   ]
  },
  {
   "cell_type": "code",
   "execution_count": 65,
   "id": "13254283-940b-4968-85ac-f6e698b1809a",
   "metadata": {},
   "outputs": [
    {
     "name": "stdout",
     "output_type": "stream",
     "text": [
      "(5, 4, 3, 2, 1)\n"
     ]
    }
   ],
   "source": [
    "# reversing the tuple\n",
    "def reverse_tuple(tup):\n",
    "    reversed_tuple = ()\n",
    "    for item in tup:\n",
    "        reversed_tuple = (item,) + reversed_tuple\n",
    "    return reversed_tuple\n",
    "\n",
    "print(reverse_tuple((1, 2, 3, 4, 5)))  # Output: (5, 4, 3, 2, 1)\n"
   ]
  },
  {
   "cell_type": "code",
   "execution_count": null,
   "id": "58991a04-3f4a-4023-802f-021f46c1119a",
   "metadata": {},
   "outputs": [],
   "source": []
  }
 ],
 "metadata": {
  "kernelspec": {
   "display_name": "Python 3 (ipykernel)",
   "language": "python",
   "name": "python3"
  },
  "language_info": {
   "codemirror_mode": {
    "name": "ipython",
    "version": 3
   },
   "file_extension": ".py",
   "mimetype": "text/x-python",
   "name": "python",
   "nbconvert_exporter": "python",
   "pygments_lexer": "ipython3",
   "version": "3.12.4"
  }
 },
 "nbformat": 4,
 "nbformat_minor": 5
}
