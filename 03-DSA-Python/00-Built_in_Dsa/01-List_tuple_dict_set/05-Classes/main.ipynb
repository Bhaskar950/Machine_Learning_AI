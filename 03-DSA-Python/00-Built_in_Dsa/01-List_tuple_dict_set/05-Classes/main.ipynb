{
 "cells": [
  {
   "cell_type": "code",
   "execution_count": 5,
   "id": "3da66ecc-165f-4d20-97b0-4ab4cfabf997",
   "metadata": {},
   "outputs": [],
   "source": [
    "# clases practice \n",
    "class Dog:\n",
    "    pass"
   ]
  },
  {
   "cell_type": "code",
   "execution_count": null,
   "id": "42a54cf5-1f37-418f-9f9e-5ed5786fb8f5",
   "metadata": {},
   "outputs": [],
   "source": [
    "my_dog = Dog()  #cleate instance of Dog"
   ]
  },
  {
   "cell_type": "code",
   "execution_count": 7,
   "id": "e1f6cb42-43b2-4085-bf02-bed8b4ff4a13",
   "metadata": {},
   "outputs": [
    {
     "name": "stdout",
     "output_type": "stream",
     "text": [
      "puppy 4\n",
      "woof!\n"
     ]
    }
   ],
   "source": [
    "class Dog:\n",
    "    def __init__(self,name,age):\n",
    "        self.name = name #instance attribute-variable\n",
    "        self.age = age   #instance attribute-variable\n",
    "\n",
    "    def bark(self):\n",
    "        return \"woof!\"     #instance method\n",
    "\n",
    "my_dog = Dog(\"puppy\",4)\n",
    "name = my_dog.name\n",
    "age = my_dog.age\n",
    "print(name,age)\n",
    "fun = my_dog.bark()\n",
    "print(fun)\n",
    "        "
   ]
  },
  {
   "cell_type": "code",
   "execution_count": null,
   "id": "6383630e-32dd-4057-9fbd-005bb7fbcde7",
   "metadata": {},
   "outputs": [],
   "source": [
    "# def __init__ method\n",
    "class Dog:\n",
    "    def __init__(self,name,age):\n",
    "        self.name = name\n",
    "        self.age = age\n",
    "        "
   ]
  },
  {
   "cell_type": "code",
   "execution_count": 10,
   "id": "b1162680-7367-4d44-89ad-21fbffb2cd5f",
   "metadata": {},
   "outputs": [
    {
     "name": "stdout",
     "output_type": "stream",
     "text": [
      "my Puppy is barking and Puppy age is 6 years\n"
     ]
    }
   ],
   "source": [
    "class Dog:\n",
    "    def __init__(self,name,age):\n",
    "        self.name = name\n",
    "        self.age = age\n",
    "\n",
    "    def myBark(self):\n",
    "        return f\"my {self.name} is barking and {self.name} age is {self.age} years\"\n",
    "\n",
    "my_dog = Dog(\"Puppy\",6)\n",
    "\n",
    "# print(my_dog.Dog())\n",
    "print(my_dog.myBark())"
   ]
  },
  {
   "cell_type": "code",
   "execution_count": 9,
   "id": "ccf977c9-2b09-4028-a5de-2da3a5f0893a",
   "metadata": {},
   "outputs": [
    {
     "name": "stdout",
     "output_type": "stream",
     "text": [
      "78.53981633974483\n"
     ]
    }
   ],
   "source": [
    "class Circle:\n",
    "    def __init__(self,radius):\n",
    "        self.radius = radius\n",
    "\n",
    "    def area(self):\n",
    "        import math\n",
    "        return math.pi * self.radius**2\n",
    "\n",
    "circle = Circle(5)\n",
    "print(circle.area())"
   ]
  },
  {
   "cell_type": "code",
   "execution_count": null,
   "id": "4a7007f9-784c-4270-bf9a-4e52117f5a06",
   "metadata": {},
   "outputs": [],
   "source": [
    "# inheritance\n",
    "\n"
   ]
  },
  {
   "cell_type": "code",
   "execution_count": null,
   "id": "8ae7c245-18ad-4cb3-9571-e8b330734d0f",
   "metadata": {},
   "outputs": [],
   "source": []
  }
 ],
 "metadata": {
  "kernelspec": {
   "display_name": "Python 3 (ipykernel)",
   "language": "python",
   "name": "python3"
  },
  "language_info": {
   "codemirror_mode": {
    "name": "ipython",
    "version": 3
   },
   "file_extension": ".py",
   "mimetype": "text/x-python",
   "name": "python",
   "nbconvert_exporter": "python",
   "pygments_lexer": "ipython3",
   "version": "3.12.4"
  }
 },
 "nbformat": 4,
 "nbformat_minor": 5
}
