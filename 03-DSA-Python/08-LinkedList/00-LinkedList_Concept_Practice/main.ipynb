{
 "cells": [
  {
   "cell_type": "code",
   "execution_count": 8,
   "id": "d553358f-3d52-4fdb-ab53-6c6b2e0d3819",
   "metadata": {},
   "outputs": [
    {
     "name": "stdout",
     "output_type": "stream",
     "text": [
      "992\n"
     ]
    }
   ],
   "source": [
    "# under hood concept in linkedlist\n",
    "\n",
    "\n",
    "head = {\n",
    "    \"value\":1,\n",
    "    \"next\": {\n",
    "        \"value\":992,\n",
    "        \"next\":{\n",
    "            \"value\":3,\n",
    "            \"next\": None\n",
    "        }\n",
    "    }\n",
    "}\n",
    "print(head[\"next\"][\"value\"])"
   ]
  },
  {
   "cell_type": "code",
   "execution_count": null,
   "id": "8e41d1fc-4858-4726-b4c6-5a579d332643",
   "metadata": {},
   "outputs": [],
   "source": []
  },
  {
   "cell_type": "code",
   "execution_count": 71,
   "id": "a6cdac41-ff0f-4b5b-a432-56b4dd8c9f08",
   "metadata": {},
   "outputs": [
    {
     "name": "stdout",
     "output_type": "stream",
     "text": [
      "5\n"
     ]
    }
   ],
   "source": [
    "# constructor in lineked list\n",
    "\n",
    "class Node:\n",
    "    def __init__(self,value):\n",
    "        self.value = value\n",
    "        self.next = None\n",
    "\n",
    "class LinkedList:\n",
    "    def __init__(self,value):\n",
    "        new_node = Node(value)\n",
    "        self.head = new_node\n",
    "        self.tail = new_node\n",
    "        self.length = 1\n",
    "my_linked_List = LinkedList(5)\n",
    "\n",
    "print(my_linked_List.tail.value)"
   ]
  },
  {
   "cell_type": "code",
   "execution_count": 75,
   "id": "df6afe27-ea7f-4ccf-9511-2e8555eeac6d",
   "metadata": {},
   "outputs": [
    {
     "name": "stdout",
     "output_type": "stream",
     "text": [
      "667\n"
     ]
    }
   ],
   "source": [
    "# construction practice\n",
    "\n",
    "class Node:\n",
    "    def __init__(self,value):\n",
    "        self.value = value\n",
    "        self.next = None\n",
    "class LinkedList:\n",
    "    def __init__(self,value):\n",
    "        new_node = Node(value)\n",
    "        self.head = new_node\n",
    "        self.tail = new_node\n",
    "        self.length = 1\n",
    "\n",
    "my_linked_list = LinkedList(667)\n",
    "print(my_linked_list.head.value)"
   ]
  },
  {
   "cell_type": "code",
   "execution_count": 40,
   "id": "17406658-8553-4da6-9f8c-4d1da81510f7",
   "metadata": {},
   "outputs": [
    {
     "name": "stdout",
     "output_type": "stream",
     "text": [
      "1\n",
      "2\n"
     ]
    }
   ],
   "source": [
    "class Node:\n",
    "    def __init__(self,value):\n",
    "        self.value = value\n",
    "        self.next = None\n",
    "\n",
    "class Linkedlist:\n",
    "    def __init__(self,value):\n",
    "        new_node = Node(value)\n",
    "        self.head = new_node\n",
    "        self.tail = new_node\n",
    "        self.length = 1\n",
    "        \n",
    "    def print_list(self):\n",
    "        temp = self.head\n",
    "        while temp is not None:\n",
    "            print(temp.value)\n",
    "            temp = temp.next\n",
    "\n",
    "    def append(self,value):\n",
    "        new_node = Node(value)\n",
    "        if self.length == 0:\n",
    "            self.head = new_node\n",
    "            self.tail = new_node\n",
    "        else:\n",
    "            self.tail.next = new_node\n",
    "            self.tail = new_node\n",
    "        self.length +=1\n",
    "\n",
    "my_linkedlist = Linkedlist(1)\n",
    "my_linkedlist.append(2)\n",
    "my_linkedlist.print_list()\n",
    "\n"
   ]
  },
  {
   "cell_type": "code",
   "execution_count": null,
   "id": "6ddc7efa-04b5-4d8c-a5b2-7b20a65fa00d",
   "metadata": {},
   "outputs": [],
   "source": [
    "\n",
    "        "
   ]
  }
 ],
 "metadata": {
  "kernelspec": {
   "display_name": "Python 3 (ipykernel)",
   "language": "python",
   "name": "python3"
  },
  "language_info": {
   "codemirror_mode": {
    "name": "ipython",
    "version": 3
   },
   "file_extension": ".py",
   "mimetype": "text/x-python",
   "name": "python",
   "nbconvert_exporter": "python",
   "pygments_lexer": "ipython3",
   "version": "3.12.4"
  }
 },
 "nbformat": 4,
 "nbformat_minor": 5
}
